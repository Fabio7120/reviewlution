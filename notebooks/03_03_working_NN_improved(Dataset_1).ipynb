{
 "cells": [
  {
   "cell_type": "markdown",
   "metadata": {
    "id": "DoBSNuKg9OCF"
   },
   "source": [
    "### Imports and loading data"
   ]
  },
  {
   "cell_type": "code",
   "execution_count": 1,
   "metadata": {
    "id": "NknQ-71c9ODk"
   },
   "outputs": [],
   "source": [
    "import pandas as pd\n",
    "import numpy as np\n",
    "import string\n",
    "import nltk\n",
    "from nltk.corpus import stopwords\n",
    "from nltk.tokenize import word_tokenize\n",
    "from nltk.stem import WordNetLemmatizer"
   ]
  },
  {
   "cell_type": "code",
   "execution_count": 2,
   "metadata": {
    "id": "W3unfqMF9ODs"
   },
   "outputs": [],
   "source": [
    "dataset_1 = pd.read_csv(\"dataset_1.csv\")"
   ]
  },
  {
   "cell_type": "code",
   "execution_count": 3,
   "metadata": {
    "colab": {
     "base_uri": "https://localhost:8080/"
    },
    "id": "Lja15pRcW2hS",
    "outputId": "4b22b18d-f51c-482e-d7f9-1cc13829b53f"
   },
   "outputs": [
    {
     "name": "stdout",
     "output_type": "stream",
     "text": [
      "[nltk_data] Downloading package stopwords to /root/nltk_data...\n",
      "[nltk_data]   Package stopwords is already up-to-date!\n",
      "[nltk_data] Downloading package punkt to /root/nltk_data...\n",
      "[nltk_data]   Package punkt is already up-to-date!\n",
      "[nltk_data] Downloading package wordnet to /root/nltk_data...\n",
      "[nltk_data]   Package wordnet is already up-to-date!\n"
     ]
    },
    {
     "data": {
      "text/plain": [
       "True"
      ]
     },
     "execution_count": 3,
     "metadata": {
      "tags": []
     },
     "output_type": "execute_result"
    }
   ],
   "source": [
    "import nltk\r\n",
    "nltk.download('stopwords')\r\n",
    "nltk.download('punkt')\r\n",
    "nltk.download('wordnet')"
   ]
  },
  {
   "cell_type": "code",
   "execution_count": 4,
   "metadata": {
    "colab": {
     "base_uri": "https://localhost:8080/",
     "height": 419
    },
    "id": "sgrSUnCY9OD4",
    "outputId": "0a3d2e19-f914-484f-b179-c7bc50620cd6"
   },
   "outputs": [
    {
     "data": {
      "text/html": [
       "<div>\n",
       "<style scoped>\n",
       "    .dataframe tbody tr th:only-of-type {\n",
       "        vertical-align: middle;\n",
       "    }\n",
       "\n",
       "    .dataframe tbody tr th {\n",
       "        vertical-align: top;\n",
       "    }\n",
       "\n",
       "    .dataframe thead th {\n",
       "        text-align: right;\n",
       "    }\n",
       "</style>\n",
       "<table border=\"1\" class=\"dataframe\">\n",
       "  <thead>\n",
       "    <tr style=\"text-align: right;\">\n",
       "      <th></th>\n",
       "      <th>reviews</th>\n",
       "      <th>review_score</th>\n",
       "    </tr>\n",
       "  </thead>\n",
       "  <tbody>\n",
       "    <tr>\n",
       "      <th>0</th>\n",
       "      <td>angry made post available via possible site us...</td>\n",
       "      <td>2.9</td>\n",
       "    </tr>\n",
       "    <tr>\n",
       "      <th>1</th>\n",
       "      <td>no real complaint hotel great great location s...</td>\n",
       "      <td>7.5</td>\n",
       "    </tr>\n",
       "    <tr>\n",
       "      <th>2</th>\n",
       "      <td>room nice elderly bit difficult room two story...</td>\n",
       "      <td>7.1</td>\n",
       "    </tr>\n",
       "    <tr>\n",
       "      <th>3</th>\n",
       "      <td>room dirty afraid walk barefoot floor looked n...</td>\n",
       "      <td>3.8</td>\n",
       "    </tr>\n",
       "    <tr>\n",
       "      <th>4</th>\n",
       "      <td>booked company line showed picture room though...</td>\n",
       "      <td>6.7</td>\n",
       "    </tr>\n",
       "    <tr>\n",
       "      <th>...</th>\n",
       "      <td>...</td>\n",
       "      <td>...</td>\n",
       "    </tr>\n",
       "    <tr>\n",
       "      <th>515733</th>\n",
       "      <td>no trolly staff help take luggage room location</td>\n",
       "      <td>7.0</td>\n",
       "    </tr>\n",
       "    <tr>\n",
       "      <th>515734</th>\n",
       "      <td>hotel look like surely not breakfast ok got ea...</td>\n",
       "      <td>5.8</td>\n",
       "    </tr>\n",
       "    <tr>\n",
       "      <th>515735</th>\n",
       "      <td>ac useless hot week vienna gave hot air</td>\n",
       "      <td>2.5</td>\n",
       "    </tr>\n",
       "    <tr>\n",
       "      <th>515736</th>\n",
       "      <td>room enormous really comfortable believe famil...</td>\n",
       "      <td>8.8</td>\n",
       "    </tr>\n",
       "    <tr>\n",
       "      <th>515737</th>\n",
       "      <td>rd floor didn work free wife staff kind</td>\n",
       "      <td>8.3</td>\n",
       "    </tr>\n",
       "  </tbody>\n",
       "</table>\n",
       "<p>515738 rows × 2 columns</p>\n",
       "</div>"
      ],
      "text/plain": [
       "                                                  reviews  review_score\n",
       "0       angry made post available via possible site us...           2.9\n",
       "1       no real complaint hotel great great location s...           7.5\n",
       "2       room nice elderly bit difficult room two story...           7.1\n",
       "3       room dirty afraid walk barefoot floor looked n...           3.8\n",
       "4       booked company line showed picture room though...           6.7\n",
       "...                                                   ...           ...\n",
       "515733    no trolly staff help take luggage room location           7.0\n",
       "515734  hotel look like surely not breakfast ok got ea...           5.8\n",
       "515735            ac useless hot week vienna gave hot air           2.5\n",
       "515736  room enormous really comfortable believe famil...           8.8\n",
       "515737            rd floor didn work free wife staff kind           8.3\n",
       "\n",
       "[515738 rows x 2 columns]"
      ]
     },
     "execution_count": 4,
     "metadata": {
      "tags": []
     },
     "output_type": "execute_result"
    }
   ],
   "source": [
    "dataset_1 = dataset_1[['Negative_Review', 'Positive_Review', 'Reviewer_Score']]\r\n",
    "\r\n",
    "dataset_1[['Negative_Review']] = dataset_1[['Negative_Review']].replace(to_replace=\"No Negative\", value=\"\")\r\n",
    "\r\n",
    "dataset_1[['Positive_Review']] = dataset_1[['Positive_Review']].replace(to_replace=\"No Positive\", value=\"\")\r\n",
    "\r\n",
    "dataset_1[\"Review_Text\"] = dataset_1['Negative_Review'] + \" \" + dataset_1['Positive_Review']\r\n",
    "\r\n",
    "dataset_1 = dataset_1.drop(columns=['Negative_Review', 'Positive_Review'])\r\n",
    "\r\n",
    "dataset_1['Review_Text'] = dataset_1['Review_Text'].apply(lambda x: x.lower())\r\n",
    "\r\n",
    "def remove_numbers(text):\r\n",
    "    text = ''.join(word for word in text if not word.isdigit())\r\n",
    "    return text\r\n",
    "\r\n",
    "dataset_1['Review_Text'] = dataset_1['Review_Text'].apply(remove_numbers)\r\n",
    "\r\n",
    "for punctuation in string.punctuation:\r\n",
    "    dataset_1['Review_Text'] = dataset_1['Review_Text'].replace(punctuation, '') \r\n",
    "    \r\n",
    "def custom_stopwords():\r\n",
    "    \"\"\"create custom stopwords list excluding negative words\"\"\"\r\n",
    "    negative_words = ['no',\r\n",
    "    'nor',\r\n",
    "    'not',\r\n",
    "    \"don't\",\r\n",
    "    'should',\r\n",
    "    \"should've\",\r\n",
    "    'aren',\r\n",
    "    \"aren't\",\r\n",
    "    'couldn',\r\n",
    "    \"couldn't\",\r\n",
    "    'didn',\r\n",
    "    \"didn't\",\r\n",
    "    'doesn',\r\n",
    "    \"doesn't\",\r\n",
    "    'hadn',\r\n",
    "    \"hadn't\",\r\n",
    "    'hasn',\r\n",
    "    \"hasn't\",\r\n",
    "    'haven',\r\n",
    "    \"haven't\",\r\n",
    "    'isn',\r\n",
    "    \"isn't\",\r\n",
    "    \"wasn't\",\r\n",
    "    'weren',\r\n",
    "    \"weren't\",\r\n",
    "    'won',\r\n",
    "    \"won't\",\r\n",
    "    'wouldn',\r\n",
    "    \"wouldn't\"]\r\n",
    "    custom_stopwords = [x for x in stopwords.words('english') if x not in negative_words]\r\n",
    "    return custom_stopwords\r\n",
    "\r\n",
    "custom_stopwords = custom_stopwords()\r\n",
    "\r\n",
    "stop_words = custom_stopwords\r\n",
    "dataset_1['reviews'] = dataset_1['Review_Text'].map(word_tokenize)\r\n",
    "dataset_1['reviews'] = dataset_1['reviews'].map(lambda x: [w for w in x if not w in stop_words])\r\n",
    "\r\n",
    "lemmatizer = WordNetLemmatizer()\r\n",
    "\r\n",
    "def lemmatizing(text):\r\n",
    "    lemmatized = [lemmatizer.lemmatize(word) for word in text]\r\n",
    "    text = lemmatized\r\n",
    "    text = ' '.join(word for word in text)\r\n",
    "    return text\r\n",
    "\r\n",
    "dataset_1['reviews'] = dataset_1['reviews'].apply(lemmatizing)\r\n",
    "\r\n",
    "dataset_1['review_score'] = dataset_1['Reviewer_Score'] # / 10\r\n",
    "\r\n",
    "dataset_1 = dataset_1.drop(columns=['Review_Text', 'Reviewer_Score'])\r\n",
    "\r\n",
    "dataset_1['review_score'] = dataset_1['review_score'].round(decimals=2)"
   ]
  },
  {
   "cell_type": "markdown",
   "metadata": {
    "id": "j4ZAGhMO9OFd"
   },
   "source": [
    "------------------------------------- NEW FILE --------------------------"
   ]
  },
  {
   "cell_type": "markdown",
   "metadata": {
    "id": "UMk3GDXR9OFi"
   },
   "source": [
    "# Import CSV"
   ]
  },
  {
   "cell_type": "code",
   "execution_count": 7,
   "metadata": {
    "colab": {
     "base_uri": "https://localhost:8080/",
     "height": 419
    },
    "id": "oIjlWOoS9OFj",
    "outputId": "4420146a-a6d0-4508-9b06-480feccf4334"
   },
   "outputs": [
    {
     "data": {
      "text/html": [
       "<div>\n",
       "<style scoped>\n",
       "    .dataframe tbody tr th:only-of-type {\n",
       "        vertical-align: middle;\n",
       "    }\n",
       "\n",
       "    .dataframe tbody tr th {\n",
       "        vertical-align: top;\n",
       "    }\n",
       "\n",
       "    .dataframe thead th {\n",
       "        text-align: right;\n",
       "    }\n",
       "</style>\n",
       "<table border=\"1\" class=\"dataframe\">\n",
       "  <thead>\n",
       "    <tr style=\"text-align: right;\">\n",
       "      <th></th>\n",
       "      <th>reviews</th>\n",
       "      <th>review_score</th>\n",
       "    </tr>\n",
       "  </thead>\n",
       "  <tbody>\n",
       "    <tr>\n",
       "      <th>0</th>\n",
       "      <td>angry made post available via possible site us...</td>\n",
       "      <td>2.9</td>\n",
       "    </tr>\n",
       "    <tr>\n",
       "      <th>1</th>\n",
       "      <td>no real complaint hotel great great location s...</td>\n",
       "      <td>7.5</td>\n",
       "    </tr>\n",
       "    <tr>\n",
       "      <th>2</th>\n",
       "      <td>room nice elderly bit difficult room two story...</td>\n",
       "      <td>7.1</td>\n",
       "    </tr>\n",
       "    <tr>\n",
       "      <th>3</th>\n",
       "      <td>room dirty afraid walk barefoot floor looked n...</td>\n",
       "      <td>3.8</td>\n",
       "    </tr>\n",
       "    <tr>\n",
       "      <th>4</th>\n",
       "      <td>booked company line showed picture room though...</td>\n",
       "      <td>6.7</td>\n",
       "    </tr>\n",
       "    <tr>\n",
       "      <th>...</th>\n",
       "      <td>...</td>\n",
       "      <td>...</td>\n",
       "    </tr>\n",
       "    <tr>\n",
       "      <th>515733</th>\n",
       "      <td>no trolly staff help take luggage room location</td>\n",
       "      <td>7.0</td>\n",
       "    </tr>\n",
       "    <tr>\n",
       "      <th>515734</th>\n",
       "      <td>hotel look like surely not breakfast ok got ea...</td>\n",
       "      <td>5.8</td>\n",
       "    </tr>\n",
       "    <tr>\n",
       "      <th>515735</th>\n",
       "      <td>ac useless hot week vienna gave hot air</td>\n",
       "      <td>2.5</td>\n",
       "    </tr>\n",
       "    <tr>\n",
       "      <th>515736</th>\n",
       "      <td>room enormous really comfortable believe famil...</td>\n",
       "      <td>8.8</td>\n",
       "    </tr>\n",
       "    <tr>\n",
       "      <th>515737</th>\n",
       "      <td>rd floor didn work free wife staff kind</td>\n",
       "      <td>8.3</td>\n",
       "    </tr>\n",
       "  </tbody>\n",
       "</table>\n",
       "<p>515738 rows × 2 columns</p>\n",
       "</div>"
      ],
      "text/plain": [
       "                                                  reviews  review_score\n",
       "0       angry made post available via possible site us...           2.9\n",
       "1       no real complaint hotel great great location s...           7.5\n",
       "2       room nice elderly bit difficult room two story...           7.1\n",
       "3       room dirty afraid walk barefoot floor looked n...           3.8\n",
       "4       booked company line showed picture room though...           6.7\n",
       "...                                                   ...           ...\n",
       "515733    no trolly staff help take luggage room location           7.0\n",
       "515734  hotel look like surely not breakfast ok got ea...           5.8\n",
       "515735            ac useless hot week vienna gave hot air           2.5\n",
       "515736  room enormous really comfortable believe famil...           8.8\n",
       "515737            rd floor didn work free wife staff kind           8.3\n",
       "\n",
       "[515738 rows x 2 columns]"
      ]
     },
     "execution_count": 7,
     "metadata": {
      "tags": []
     },
     "output_type": "execute_result"
    }
   ],
   "source": [
    "#data = pd.read_csv(\"../raw_data/clean_dataset_1.csv\", index_col=0)\n",
    "data = dataset_1\n",
    "data"
   ]
  },
  {
   "cell_type": "markdown",
   "metadata": {
    "id": "R38Zdbha9OFj"
   },
   "source": [
    "# Remove less than 5 words"
   ]
  },
  {
   "cell_type": "code",
   "execution_count": 8,
   "metadata": {
    "colab": {
     "base_uri": "https://localhost:8080/",
     "height": 419
    },
    "id": "wnG0zm289OFk",
    "outputId": "1da5ce6e-f6e0-4d5a-b781-e6eb5292653b"
   },
   "outputs": [
    {
     "data": {
      "text/html": [
       "<div>\n",
       "<style scoped>\n",
       "    .dataframe tbody tr th:only-of-type {\n",
       "        vertical-align: middle;\n",
       "    }\n",
       "\n",
       "    .dataframe tbody tr th {\n",
       "        vertical-align: top;\n",
       "    }\n",
       "\n",
       "    .dataframe thead th {\n",
       "        text-align: right;\n",
       "    }\n",
       "</style>\n",
       "<table border=\"1\" class=\"dataframe\">\n",
       "  <thead>\n",
       "    <tr style=\"text-align: right;\">\n",
       "      <th></th>\n",
       "      <th>reviews</th>\n",
       "      <th>review_score</th>\n",
       "    </tr>\n",
       "  </thead>\n",
       "  <tbody>\n",
       "    <tr>\n",
       "      <th>0</th>\n",
       "      <td>angry made post available via possible site us...</td>\n",
       "      <td>2.9</td>\n",
       "    </tr>\n",
       "    <tr>\n",
       "      <th>1</th>\n",
       "      <td>no real complaint hotel great great location s...</td>\n",
       "      <td>7.5</td>\n",
       "    </tr>\n",
       "    <tr>\n",
       "      <th>2</th>\n",
       "      <td>room nice elderly bit difficult room two story...</td>\n",
       "      <td>7.1</td>\n",
       "    </tr>\n",
       "    <tr>\n",
       "      <th>3</th>\n",
       "      <td>room dirty afraid walk barefoot floor looked n...</td>\n",
       "      <td>3.8</td>\n",
       "    </tr>\n",
       "    <tr>\n",
       "      <th>4</th>\n",
       "      <td>booked company line showed picture room though...</td>\n",
       "      <td>6.7</td>\n",
       "    </tr>\n",
       "    <tr>\n",
       "      <th>...</th>\n",
       "      <td>...</td>\n",
       "      <td>...</td>\n",
       "    </tr>\n",
       "    <tr>\n",
       "      <th>421649</th>\n",
       "      <td>no trolly staff help take luggage room location</td>\n",
       "      <td>7.0</td>\n",
       "    </tr>\n",
       "    <tr>\n",
       "      <th>421650</th>\n",
       "      <td>hotel look like surely not breakfast ok got ea...</td>\n",
       "      <td>5.8</td>\n",
       "    </tr>\n",
       "    <tr>\n",
       "      <th>421651</th>\n",
       "      <td>ac useless hot week vienna gave hot air</td>\n",
       "      <td>2.5</td>\n",
       "    </tr>\n",
       "    <tr>\n",
       "      <th>421652</th>\n",
       "      <td>room enormous really comfortable believe famil...</td>\n",
       "      <td>8.8</td>\n",
       "    </tr>\n",
       "    <tr>\n",
       "      <th>421653</th>\n",
       "      <td>rd floor didn work free wife staff kind</td>\n",
       "      <td>8.3</td>\n",
       "    </tr>\n",
       "  </tbody>\n",
       "</table>\n",
       "<p>421654 rows × 2 columns</p>\n",
       "</div>"
      ],
      "text/plain": [
       "                                                  reviews  review_score\n",
       "0       angry made post available via possible site us...           2.9\n",
       "1       no real complaint hotel great great location s...           7.5\n",
       "2       room nice elderly bit difficult room two story...           7.1\n",
       "3       room dirty afraid walk barefoot floor looked n...           3.8\n",
       "4       booked company line showed picture room though...           6.7\n",
       "...                                                   ...           ...\n",
       "421649    no trolly staff help take luggage room location           7.0\n",
       "421650  hotel look like surely not breakfast ok got ea...           5.8\n",
       "421651            ac useless hot week vienna gave hot air           2.5\n",
       "421652  room enormous really comfortable believe famil...           8.8\n",
       "421653            rd floor didn work free wife staff kind           8.3\n",
       "\n",
       "[421654 rows x 2 columns]"
      ]
     },
     "execution_count": 8,
     "metadata": {
      "tags": []
     },
     "output_type": "execute_result"
    }
   ],
   "source": [
    "data['length'] = data['reviews'].apply(lambda x: len(word_tokenize(str(x))))\n",
    "data.drop(data[data['length'] < 6].index, inplace=True)\n",
    "data.drop(columns=['length'], inplace=True)\n",
    "data.reset_index(drop=True, inplace=True)\n",
    "data"
   ]
  },
  {
   "cell_type": "markdown",
   "metadata": {
    "id": "uQS9FInR9OH8"
   },
   "source": [
    "#  NEURAL NETWORK"
   ]
  },
  {
   "cell_type": "code",
   "execution_count": 554,
   "metadata": {
    "id": "Gqy9_Or87dj8"
   },
   "outputs": [],
   "source": [
    "df_1 = data[data['review_score'] < 5][:10000]"
   ]
  },
  {
   "cell_type": "code",
   "execution_count": 555,
   "metadata": {
    "id": "BMAvbYZu775v"
   },
   "outputs": [],
   "source": [
    "# df_2 = data[(data['review_score'] > 5) & (data['review_score'] <8)][:5000]"
   ]
  },
  {
   "cell_type": "code",
   "execution_count": 556,
   "metadata": {
    "id": "FPN6eBo_8hfk"
   },
   "outputs": [],
   "source": [
    "# df_3 = data[(data['review_score'] > 8) & (data['review_score'] <9)][:5000]"
   ]
  },
  {
   "cell_type": "code",
   "execution_count": 557,
   "metadata": {
    "id": "CnyuBRGa8iI3"
   },
   "outputs": [],
   "source": [
    "df_4 = data[(data['review_score'] > 9) & (data['review_score'] < 10.1)][:10000]"
   ]
  },
  {
   "cell_type": "code",
   "execution_count": 558,
   "metadata": {
    "colab": {
     "base_uri": "https://localhost:8080/",
     "height": 419
    },
    "id": "JFHVF2hf86s9",
    "outputId": "e5c7744c-c598-4c00-f5e8-4914498dfa63"
   },
   "outputs": [
    {
     "data": {
      "text/html": [
       "<div>\n",
       "<style scoped>\n",
       "    .dataframe tbody tr th:only-of-type {\n",
       "        vertical-align: middle;\n",
       "    }\n",
       "\n",
       "    .dataframe tbody tr th {\n",
       "        vertical-align: top;\n",
       "    }\n",
       "\n",
       "    .dataframe thead th {\n",
       "        text-align: right;\n",
       "    }\n",
       "</style>\n",
       "<table border=\"1\" class=\"dataframe\">\n",
       "  <thead>\n",
       "    <tr style=\"text-align: right;\">\n",
       "      <th></th>\n",
       "      <th>reviews</th>\n",
       "      <th>review_score</th>\n",
       "    </tr>\n",
       "  </thead>\n",
       "  <tbody>\n",
       "    <tr>\n",
       "      <th>0</th>\n",
       "      <td>angry made post available via possible site us...</td>\n",
       "      <td>2.9</td>\n",
       "    </tr>\n",
       "    <tr>\n",
       "      <th>3</th>\n",
       "      <td>room dirty afraid walk barefoot floor looked n...</td>\n",
       "      <td>3.8</td>\n",
       "    </tr>\n",
       "    <tr>\n",
       "      <th>6</th>\n",
       "      <td>cleaner not change sheet duvet everyday made b...</td>\n",
       "      <td>4.6</td>\n",
       "    </tr>\n",
       "    <tr>\n",
       "      <th>12</th>\n",
       "      <td>floor room filfy dirty basic room yr old tv ro...</td>\n",
       "      <td>4.6</td>\n",
       "    </tr>\n",
       "    <tr>\n",
       "      <th>21</th>\n",
       "      <td>room overrated disaster room dirty smelly hot ...</td>\n",
       "      <td>3.8</td>\n",
       "    </tr>\n",
       "    <tr>\n",
       "      <th>...</th>\n",
       "      <td>...</td>\n",
       "      <td>...</td>\n",
       "    </tr>\n",
       "    <tr>\n",
       "      <th>20189</th>\n",
       "      <td>breakfast little cold basic pre booked good pr...</td>\n",
       "      <td>9.2</td>\n",
       "    </tr>\n",
       "    <tr>\n",
       "      <th>20192</th>\n",
       "      <td>breakfast could little organised ran plate fir...</td>\n",
       "      <td>10.0</td>\n",
       "    </tr>\n",
       "    <tr>\n",
       "      <th>20195</th>\n",
       "      <td>buffet breakfast expensive odd always cold nee...</td>\n",
       "      <td>10.0</td>\n",
       "    </tr>\n",
       "    <tr>\n",
       "      <th>20197</th>\n",
       "      <td>everyone polite helpful food great location gr...</td>\n",
       "      <td>10.0</td>\n",
       "    </tr>\n",
       "    <tr>\n",
       "      <th>20206</th>\n",
       "      <td>quiet room apart fire alarm going early n morn...</td>\n",
       "      <td>9.6</td>\n",
       "    </tr>\n",
       "  </tbody>\n",
       "</table>\n",
       "<p>20000 rows × 2 columns</p>\n",
       "</div>"
      ],
      "text/plain": [
       "                                                 reviews  review_score\n",
       "0      angry made post available via possible site us...           2.9\n",
       "3      room dirty afraid walk barefoot floor looked n...           3.8\n",
       "6      cleaner not change sheet duvet everyday made b...           4.6\n",
       "12     floor room filfy dirty basic room yr old tv ro...           4.6\n",
       "21     room overrated disaster room dirty smelly hot ...           3.8\n",
       "...                                                  ...           ...\n",
       "20189  breakfast little cold basic pre booked good pr...           9.2\n",
       "20192  breakfast could little organised ran plate fir...          10.0\n",
       "20195  buffet breakfast expensive odd always cold nee...          10.0\n",
       "20197  everyone polite helpful food great location gr...          10.0\n",
       "20206  quiet room apart fire alarm going early n morn...           9.6\n",
       "\n",
       "[20000 rows x 2 columns]"
      ]
     },
     "execution_count": 558,
     "metadata": {
      "tags": []
     },
     "output_type": "execute_result"
    }
   ],
   "source": [
    "pd.concat([df_1,df_4])"
   ]
  },
  {
   "cell_type": "code",
   "execution_count": 560,
   "metadata": {
    "colab": {
     "base_uri": "https://localhost:8080/"
    },
    "id": "JB85f1Tu9OH9",
    "outputId": "372c105c-1802-474d-8b56-5f61a8458880"
   },
   "outputs": [
    {
     "name": "stdout",
     "output_type": "stream",
     "text": [
      "(20000,) (20000,)\n"
     ]
    }
   ],
   "source": [
    "X_2 = pd.concat([df_1,df_4])['reviews']\n",
    "y_2 = pd.concat([df_1,df_4])['review_score']\n",
    "y = pd.concat([df_1,df_4])['review_score']\n",
    "print(X_2.shape, y_2.shape)\n",
    "X_2.reset_index(drop=True, inplace=True)"
   ]
  },
  {
   "cell_type": "code",
   "execution_count": 561,
   "metadata": {
    "colab": {
     "base_uri": "https://localhost:8080/"
    },
    "id": "r6FVm5I08g-9",
    "outputId": "c82c4bad-7d3a-4b76-a979-211670a82fed"
   },
   "outputs": [
    {
     "data": {
      "text/plain": [
       "2.659923571787636"
      ]
     },
     "execution_count": 561,
     "metadata": {
      "tags": []
     },
     "output_type": "execute_result"
    }
   ],
   "source": [
    "# Baseline Model\r\n",
    "from sklearn.metrics import mean_absolute_error\r\n",
    "\r\n",
    "y_pred_baseline = np.random.uniform(low=0, high=10., size=(4000,))  # Taking into account that averages are around 8.2\r\n",
    "\r\n",
    "baseline_mae = mean_absolute_error(y[:4000], y_pred_baseline)\r\n",
    "baseline_mae"
   ]
  },
  {
   "cell_type": "code",
   "execution_count": 562,
   "metadata": {
    "id": "HjD4UPXe9OIL"
   },
   "outputs": [],
   "source": [
    "# Tokenize \n",
    "from tensorflow.keras.preprocessing.text import Tokenizer\n",
    "\n",
    "max_words = 5000\n",
    "\n",
    "def tokenInit(train, max_words):\n",
    "    tokenizer = Tokenizer(num_words=max_words)\n",
    "    tokenizer.fit_on_texts(train)\n",
    "    return tokenizer"
   ]
  },
  {
   "cell_type": "code",
   "execution_count": 563,
   "metadata": {
    "id": "83KZafWO9OIL"
   },
   "outputs": [],
   "source": [
    "tokenizer = tokenInit(X_2, max_words)"
   ]
  },
  {
   "cell_type": "code",
   "execution_count": 564,
   "metadata": {
    "id": "HcYR8lw9oX3V"
   },
   "outputs": [],
   "source": [
    "# Check the top Words\r\n",
    "# tokenizer.word_index"
   ]
  },
  {
   "cell_type": "code",
   "execution_count": 565,
   "metadata": {
    "id": "rrIA6NOg9OIM"
   },
   "outputs": [],
   "source": [
    "sequences = tokenizer.texts_to_sequences(X_2)\r\n",
    "# sequences[0]"
   ]
  },
  {
   "cell_type": "code",
   "execution_count": 566,
   "metadata": {
    "colab": {
     "base_uri": "https://localhost:8080/"
    },
    "id": "4qg4EPeh9OIQ",
    "outputId": "b61dabe1-85c9-4821-b6d3-a5d57c3f8d3a"
   },
   "outputs": [
    {
     "data": {
      "text/plain": [
       "(172, 117, 24, 18, 75)"
      ]
     },
     "execution_count": 566,
     "metadata": {
      "tags": []
     },
     "output_type": "execute_result"
    }
   ],
   "source": [
    "# We need Padding\n",
    "len(sequences[0]),len(sequences[1]),len(sequences[2]),len(sequences[3]),len(sequences[4])"
   ]
  },
  {
   "cell_type": "code",
   "execution_count": 567,
   "metadata": {
    "id": "QrVk3IwK9OIU"
   },
   "outputs": [],
   "source": [
    "from tensorflow.keras.preprocessing.sequence import pad_sequences\n",
    "\n",
    "X_pad = pad_sequences(sequences, dtype='int32', padding='post') "
   ]
  },
  {
   "cell_type": "code",
   "execution_count": 568,
   "metadata": {
    "colab": {
     "base_uri": "https://localhost:8080/"
    },
    "id": "_u7h0JEt9OId",
    "outputId": "b57de9ae-dbf9-47e9-8bd9-3a809d94d035"
   },
   "outputs": [
    {
     "data": {
      "text/plain": [
       "(20000, 361)"
      ]
     },
     "execution_count": 568,
     "metadata": {
      "tags": []
     },
     "output_type": "execute_result"
    }
   ],
   "source": [
    "X_pad.shape"
   ]
  },
  {
   "cell_type": "markdown",
   "metadata": {
    "id": "D_3UnBBw9OIj"
   },
   "source": [
    " ### Hold out"
   ]
  },
  {
   "cell_type": "code",
   "execution_count": 569,
   "metadata": {
    "colab": {
     "base_uri": "https://localhost:8080/"
    },
    "id": "ZeZmiatu9OIk",
    "outputId": "defaa86b-555d-4b28-eb21-9449903d0c08"
   },
   "outputs": [
    {
     "data": {
      "text/plain": [
       "((16000, 361), (4000, 361), (16000,), (4000,))"
      ]
     },
     "execution_count": 569,
     "metadata": {
      "tags": []
     },
     "output_type": "execute_result"
    }
   ],
   "source": [
    "from sklearn.model_selection import train_test_split\n",
    "\n",
    "# Hold out \n",
    "X_train, X_test, y_train, y_test = train_test_split(X_pad, y, test_size=0.2)\n",
    "\n",
    "#check\n",
    "X_train.shape, X_test.shape, y_train.shape, y_test.shape"
   ]
  },
  {
   "cell_type": "markdown",
   "metadata": {
    "id": "rLNOtDBS9OJe"
   },
   "source": [
    " ### NN"
   ]
  },
  {
   "cell_type": "code",
   "execution_count": 584,
   "metadata": {
    "id": "xsLzkc_I9OJe"
   },
   "outputs": [],
   "source": [
    "from sklearn.model_selection import cross_validate\n",
    "from tensorflow.keras import layers\n",
    "from tensorflow.keras import models\n",
    "from tensorflow.keras import Sequential\n",
    "from tensorflow.keras import regularizers\n",
    "\n",
    "\n",
    "def initialize_model():\n",
    "    ### Model architecture\n",
    "    model_gensim_2 = models.Sequential()\n",
    " \n",
    "    ### Embedding Padded\n",
    "    model_gensim_2.add(layers.Embedding(input_dim=5000, output_dim=100, mask_zero=True))\n",
    "        \n",
    "    ### First convolution & max-pooling\n",
    "    model_gensim_2.add(layers.LSTM(units=100, activation='tanh', return_sequences=True)) #, recurrent_dropout=0.3))   #244 or 100 ??\n",
    "    model_gensim_2.add(layers.LSTM(units=100, activation='tanh', return_sequences=True))\n",
    "    model_gensim_2.add(layers.LSTM(units=50, activation='tanh')) #, recurrent_dropout=0.3))   #244 or 100 ??\n",
    "    model_gensim_2.add(layers.Dropout(0.2))                     #change params\n",
    "    model_gensim_2.add(layers.Dense(40, activation='relu', kernel_regularizer=regularizers.L1(0.01)))    #Use regulazers\n",
    "    model_gensim_2.add(layers.Dropout(0.2))                     #change params\n",
    "    model_gensim_2.add(layers.Dense(20, activation='relu', kernel_regularizer=regularizers.L1(0.01)))    #Use regulazers\n",
    "    model_gensim_2.add(layers.Dropout(0.2))                     #change params\n",
    "    model_gensim_2.add(layers.Dense(10, activation='relu', kernel_regularizer=regularizers.L1(0.01)))    #Use regulazers\n",
    "    model_gensim_2.add(layers.Dropout(0.2))                     #change params \n",
    "\n",
    "    ### Last layer (let's say a classification with 10 output)\n",
    "    model_gensim_2.add(layers.Dense(1, activation='linear'))\n",
    "        \n",
    "    ### Model compilation\n",
    "    model_gensim_2.compile(loss='mse', \n",
    "                  optimizer='rmsprop',    #rmsprop or adam?\n",
    "                  metrics=['mae'])     \n",
    "\n",
    "    return model_gensim_2"
   ]
  },
  {
   "cell_type": "code",
   "execution_count": 585,
   "metadata": {
    "colab": {
     "base_uri": "https://localhost:8080/"
    },
    "id": "-r6i2ZdD9OJf",
    "outputId": "6a7ee8bc-5223-408f-d51d-065f4a18bdab"
   },
   "outputs": [
    {
     "name": "stdout",
     "output_type": "stream",
     "text": [
      "Model: \"sequential_82\"\n",
      "_________________________________________________________________\n",
      "Layer (type)                 Output Shape              Param #   \n",
      "=================================================================\n",
      "embedding_80 (Embedding)     (None, None, 100)         500000    \n",
      "_________________________________________________________________\n",
      "lstm_146 (LSTM)              (None, None, 100)         80400     \n",
      "_________________________________________________________________\n",
      "lstm_147 (LSTM)              (None, None, 100)         80400     \n",
      "_________________________________________________________________\n",
      "lstm_148 (LSTM)              (None, 50)                30200     \n",
      "_________________________________________________________________\n",
      "dropout_207 (Dropout)        (None, 50)                0         \n",
      "_________________________________________________________________\n",
      "dense_281 (Dense)            (None, 40)                2040      \n",
      "_________________________________________________________________\n",
      "dropout_208 (Dropout)        (None, 40)                0         \n",
      "_________________________________________________________________\n",
      "dense_282 (Dense)            (None, 20)                820       \n",
      "_________________________________________________________________\n",
      "dropout_209 (Dropout)        (None, 20)                0         \n",
      "_________________________________________________________________\n",
      "dense_283 (Dense)            (None, 10)                210       \n",
      "_________________________________________________________________\n",
      "dropout_210 (Dropout)        (None, 10)                0         \n",
      "_________________________________________________________________\n",
      "dense_284 (Dense)            (None, 1)                 11        \n",
      "=================================================================\n",
      "Total params: 694,081\n",
      "Trainable params: 694,081\n",
      "Non-trainable params: 0\n",
      "_________________________________________________________________\n"
     ]
    }
   ],
   "source": [
    "model_gensim_2 = initialize_model()\n",
    "model_gensim_2.summary()"
   ]
  },
  {
   "cell_type": "code",
   "execution_count": 586,
   "metadata": {
    "colab": {
     "base_uri": "https://localhost:8080/"
    },
    "id": "PKsS0M_J9OJg",
    "outputId": "c737a47a-2ce4-4006-edd6-b7331504cf82"
   },
   "outputs": [
    {
     "name": "stdout",
     "output_type": "stream",
     "text": [
      "Epoch 1/200\n",
      "400/400 [==============================] - 47s 95ms/step - loss: 21.5179 - mae: 3.4865 - val_loss: 5.6287 - val_mae: 1.5067\n",
      "Epoch 2/200\n",
      "400/400 [==============================] - 35s 88ms/step - loss: 8.6714 - mae: 1.9801 - val_loss: 4.2543 - val_mae: 1.2624\n",
      "Epoch 3/200\n",
      "400/400 [==============================] - 35s 88ms/step - loss: 6.1318 - mae: 1.5973 - val_loss: 3.2464 - val_mae: 0.9651\n",
      "Epoch 4/200\n",
      "400/400 [==============================] - 35s 86ms/step - loss: 4.9400 - mae: 1.4224 - val_loss: 3.9012 - val_mae: 0.9133\n",
      "Epoch 5/200\n",
      "400/400 [==============================] - 35s 87ms/step - loss: 4.4144 - mae: 1.3596 - val_loss: 2.7351 - val_mae: 0.7877\n",
      "Epoch 6/200\n",
      "400/400 [==============================] - 35s 87ms/step - loss: 3.9358 - mae: 1.2824 - val_loss: 2.5810 - val_mae: 0.7381\n",
      "Epoch 7/200\n",
      "400/400 [==============================] - 35s 88ms/step - loss: 3.5176 - mae: 1.2219 - val_loss: 2.5547 - val_mae: 0.9257\n",
      "Epoch 8/200\n",
      "400/400 [==============================] - 35s 88ms/step - loss: 3.3359 - mae: 1.1812 - val_loss: 2.5189 - val_mae: 0.8208\n",
      "Epoch 9/200\n",
      "400/400 [==============================] - 35s 88ms/step - loss: 3.0440 - mae: 1.1397 - val_loss: 2.4043 - val_mae: 0.7279\n",
      "Epoch 10/200\n",
      "400/400 [==============================] - 35s 88ms/step - loss: 2.8870 - mae: 1.1084 - val_loss: 2.4811 - val_mae: 0.8234\n",
      "Epoch 11/200\n",
      "400/400 [==============================] - 35s 88ms/step - loss: 2.8521 - mae: 1.1108 - val_loss: 2.4518 - val_mae: 0.7790\n",
      "Epoch 12/200\n",
      "400/400 [==============================] - 35s 88ms/step - loss: 2.6397 - mae: 1.0644 - val_loss: 2.5451 - val_mae: 1.0043\n",
      "Epoch 13/200\n",
      "400/400 [==============================] - 35s 88ms/step - loss: 2.5699 - mae: 1.0504 - val_loss: 2.3805 - val_mae: 0.7490\n",
      "Epoch 14/200\n",
      "400/400 [==============================] - 35s 88ms/step - loss: 2.5631 - mae: 1.0559 - val_loss: 2.3807 - val_mae: 0.7377\n",
      "Epoch 15/200\n",
      "400/400 [==============================] - 35s 88ms/step - loss: 2.3910 - mae: 1.0152 - val_loss: 2.4339 - val_mae: 0.9305\n",
      "Epoch 16/200\n",
      "400/400 [==============================] - 35s 88ms/step - loss: 2.3428 - mae: 0.9973 - val_loss: 2.4284 - val_mae: 0.7467\n",
      "Epoch 17/200\n",
      "400/400 [==============================] - 35s 88ms/step - loss: 2.3196 - mae: 0.9964 - val_loss: 2.4652 - val_mae: 0.8656\n",
      "Epoch 18/200\n",
      "400/400 [==============================] - 35s 89ms/step - loss: 2.2546 - mae: 0.9818 - val_loss: 2.4178 - val_mae: 0.8499\n",
      "Epoch 19/200\n",
      "400/400 [==============================] - 35s 88ms/step - loss: 2.2178 - mae: 0.9666 - val_loss: 2.5281 - val_mae: 0.7850\n",
      "Epoch 20/200\n",
      "400/400 [==============================] - 34s 86ms/step - loss: 2.1471 - mae: 0.9499 - val_loss: 2.3624 - val_mae: 0.8024\n",
      "Epoch 21/200\n",
      "400/400 [==============================] - 34s 86ms/step - loss: 2.1030 - mae: 0.9424 - val_loss: 2.9448 - val_mae: 1.1277\n",
      "Epoch 22/200\n",
      "400/400 [==============================] - 35s 87ms/step - loss: 2.0741 - mae: 0.9270 - val_loss: 2.7397 - val_mae: 1.0121\n",
      "Epoch 23/200\n",
      "400/400 [==============================] - 35s 87ms/step - loss: 2.0708 - mae: 0.9323 - val_loss: 2.4940 - val_mae: 0.8035\n",
      "Epoch 24/200\n",
      "400/400 [==============================] - 34s 86ms/step - loss: 1.9454 - mae: 0.9026 - val_loss: 2.6033 - val_mae: 0.9641\n",
      "Epoch 25/200\n",
      "400/400 [==============================] - 34s 86ms/step - loss: 1.9105 - mae: 0.8930 - val_loss: 2.5599 - val_mae: 0.8712\n",
      "Epoch 26/200\n",
      "400/400 [==============================] - 34s 86ms/step - loss: 1.9099 - mae: 0.8984 - val_loss: 2.9019 - val_mae: 1.0379\n",
      "Epoch 27/200\n",
      "400/400 [==============================] - 34s 86ms/step - loss: 1.8553 - mae: 0.8814 - val_loss: 2.7275 - val_mae: 0.8842\n",
      "Epoch 28/200\n",
      "400/400 [==============================] - 35s 86ms/step - loss: 1.8615 - mae: 0.8857 - val_loss: 2.4944 - val_mae: 0.8039\n",
      "Epoch 29/200\n",
      "400/400 [==============================] - 34s 86ms/step - loss: 1.8353 - mae: 0.8736 - val_loss: 2.6099 - val_mae: 0.8896\n",
      "Epoch 30/200\n",
      "400/400 [==============================] - 35s 86ms/step - loss: 1.8465 - mae: 0.8779 - val_loss: 2.6207 - val_mae: 1.0151\n",
      "Restoring model weights from the end of the best epoch.\n",
      "Epoch 00030: early stopping\n"
     ]
    }
   ],
   "source": [
    "### YOUR CODE HERE\n",
    "\n",
    "from tensorflow.keras.callbacks import EarlyStopping \n",
    "\n",
    "# YOUR CODE HERE\n",
    "es = EarlyStopping(monitor='val_loss', mode='min', verbose=1, patience=10, restore_best_weights=True)\n",
    "model_gensim_2 = initialize_model()\n",
    "\n",
    "history = model_gensim_2.fit(X_train, y_train,\n",
    "          validation_split=0.2,\n",
    "          batch_size=32,\n",
    "          epochs=200,\n",
    "          verbose=1,\n",
    "          callbacks=[es])"
   ]
  },
  {
   "cell_type": "code",
   "execution_count": 587,
   "metadata": {
    "id": "sAE_u8RK9OJh"
   },
   "outputs": [],
   "source": [
    "# history.history"
   ]
  },
  {
   "cell_type": "code",
   "execution_count": 588,
   "metadata": {
    "colab": {
     "base_uri": "https://localhost:8080/"
    },
    "id": "5Fltqukw9OJi",
    "outputId": "9cb2eb89-e374-4b19-e59d-74d488662b47"
   },
   "outputs": [
    {
     "data": {
      "text/plain": [
       "[2.4225525856018066, 0.8095167279243469]"
      ]
     },
     "execution_count": 588,
     "metadata": {
      "tags": []
     },
     "output_type": "execute_result"
    }
   ],
   "source": [
    "model_gensim_2.evaluate(X_test, y_test, verbose=0)"
   ]
  },
  {
   "cell_type": "code",
   "execution_count": 589,
   "metadata": {
    "colab": {
     "base_uri": "https://localhost:8080/",
     "height": 513
    },
    "id": "KxanBfp_9OJi",
    "outputId": "ff5ed6e0-b9db-42f2-e9d2-ce32fc6e1e3f"
   },
   "outputs": [
    {
     "data": {
      "image/png": "[encoded data removed]",
      "text/plain": [
       "<Figure size 432x288 with 1 Axes>"
      ]
     },
     "metadata": {
      "needs_background": "light",
      "tags": []
     },
     "output_type": "display_data"
    },
    {
     "data": {
      "image/png": "[encoded data removed]",
      "text/plain": [
       "<Figure size 432x288 with 1 Axes>"
      ]
     },
     "metadata": {
      "needs_background": "light",
      "tags": []
     },
     "output_type": "display_data"
    }
   ],
   "source": [
    "plt.plot(history.history['loss'], label='train mse')      #CHANGE\n",
    "plt.plot(history.history['val_loss'], label='val mse')      #CHANGE\n",
    "plt.legend()\n",
    "plt.show()\n",
    "plt.plot(history.history['mae'], label='train mae')      #CHANGE\n",
    "plt.plot(history.history['val_mae'], label='val mae')\n",
    "plt.legend()\n",
    "plt.show()"
   ]
  },
  {
   "cell_type": "code",
   "execution_count": 590,
   "metadata": {
    "colab": {
     "base_uri": "https://localhost:8080/",
     "height": 282
    },
    "id": "FTJvAugY9OJj",
    "outputId": "bb3db4b0-52ba-4f45-91ca-611b3b462fb6"
   },
   "outputs": [
    {
     "data": {
      "text/plain": [
       "<matplotlib.collections.PathCollection at 0x7f1beb609690>"
      ]
     },
     "execution_count": 590,
     "metadata": {
      "tags": []
     },
     "output_type": "execute_result"
    },
    {
     "data": {
      "image/png": "[encoded data removed]",
      "text/plain": [
       "<Figure size 432x288 with 1 Axes>"
      ]
     },
     "metadata": {
      "needs_background": "light",
      "tags": []
     },
     "output_type": "display_data"
    }
   ],
   "source": [
    "import matplotlib.pyplot as plt \n",
    "y_pred_model = model_gensim_2.predict(X_test)\n",
    "plt.scatter(y_test, y_pred_model)"
   ]
  },
  {
   "cell_type": "code",
   "execution_count": 591,
   "metadata": {
    "colab": {
     "base_uri": "https://localhost:8080/",
     "height": 299
    },
    "id": "MHL1YTJ2-dHd",
    "outputId": "1c67b7c4-c327-418f-a945-03497f292174"
   },
   "outputs": [
    {
     "name": "stdout",
     "output_type": "stream",
     "text": [
      "Baseline Model MAE 2.659923571787636\n"
     ]
    },
    {
     "data": {
      "text/plain": [
       "<matplotlib.collections.PathCollection at 0x7f1bd8fb66d0>"
      ]
     },
     "execution_count": 591,
     "metadata": {
      "tags": []
     },
     "output_type": "execute_result"
    },
    {
     "data": {
      "image/png": "[encoded data removed]",
      "text/plain": [
       "<Figure size 432x288 with 1 Axes>"
      ]
     },
     "metadata": {
      "needs_background": "light",
      "tags": []
     },
     "output_type": "display_data"
    }
   ],
   "source": [
    "# Baseline Model\r\n",
    "print(f'Baseline Model MAE {baseline_mae}')\r\n",
    "plt.scatter(y_test, y_pred_baseline)"
   ]
  },
  {
   "cell_type": "code",
   "execution_count": 592,
   "metadata": {
    "colab": {
     "base_uri": "https://localhost:8080/",
     "height": 120
    },
    "id": "5D_qh1Ui9OJj",
    "outputId": "fdd47898-2a9e-4700-8441-eb58d2d76d52"
   },
   "outputs": [
    {
     "data": {
      "application/vnd.google.colaboratory.intrinsic+json": {
       "type": "string"
      },
      "text/plain": [
       "'angry made post available via possible site use planing trip no one make mistake booking place made booking via booking com stayed night hotel july upon arrival placed small room nd floor hotel turned not room booked specially reserved level duplex room would big window high ceiling room ok mind broken window not closed hello rain mini fridge contained sort bio weapon least guessed smell intimately asked change room explaining time booked duplex btw cost simple double got way volume due high ceiling offered room next day check next day clock order get room waned not best way begin holiday wait till order check new room wonderful waist time room got wanted peaceful internal garden view big window tired waiting room placed belonging rushed city evening turned constant noise room guess made vibrating vent tube something constant annoying hell not stop even making hard fall asleep wife audio recording not attach want send via e mail next day technician came not able determine cause disturbing sound offered change room hotel fully booked room left one smaller seems newer park outside hotel beautiful'"
      ]
     },
     "execution_count": 592,
     "metadata": {
      "tags": []
     },
     "output_type": "execute_result"
    }
   ],
   "source": [
    "# 0\tangry made post available via possible site us...\t2.9\r\n",
    "\r\n",
    "# pre process and convert to pad ...\r\n",
    "X_2[0] # = sequences[0]"
   ]
  },
  {
   "cell_type": "code",
   "execution_count": 593,
   "metadata": {
    "colab": {
     "base_uri": "https://localhost:8080/"
    },
    "id": "lNKlL1XLgtUV",
    "outputId": "0db946f1-0a74-4583-c4dd-32bece3cc0af"
   },
   "outputs": [
    {
     "data": {
      "text/plain": [
       "array([1955,   69, 1711,  177,  721,  603,  304,  138,  313,    6,   20,\n",
       "        119,  783,   46,   68,   69,   46,  721,   46,  148,   75,   17,\n",
       "          2, 2370,  399,  175,  896,   11,    1,  936,   44,    2,  542,\n",
       "          3,    1,   63, 1534, 1133,  412, 2546,    1,   15,  150,   49,\n",
       "        208,  508,    1,  237,  994,  161,   49,    3,  447, 2176, 1535,\n",
       "        302,  331, 4030,  774,  504,  181,   72,  215,    1, 2371,   28,\n",
       "         63, 2546, 3744,  283, 1174,   90,   70,  109, 2725,  213,  208,\n",
       "        508,  230,    1,   71,   35,   43,   71,   35, 1654,  340,   36,\n",
       "          1,    3,  128,  109, 2287,  680,  229,  664,  340,   43,  241,\n",
       "          1,  254, 4867,   28,    1,   70,  247, 1442, 2001,  472,   37,\n",
       "        150,   49,  256,  342,    1,  896, 1914, 3129,  263,  284,  542,\n",
       "       1032,   92,    1,  962,   69, 4031, 1469,  117,  352, 1032, 1080,\n",
       "       2726,    3,  425,   32,  353,  268, 1614, 1843,  491,    3,  209,\n",
       "        967,  721,  699, 1712,   71,   35, 2108,  195,    3,  324, 1443,\n",
       "       1809,  483,  230,  215,    1,    2,  799,   63,    1,  142,   20,\n",
       "        492,  818, 3745,  168,  146,    2,  132,    0,    0,    0,    0,\n",
       "          0,    0,    0,    0,    0,    0,    0,    0,    0,    0,    0,\n",
       "          0,    0,    0,    0,    0,    0,    0,    0,    0,    0,    0,\n",
       "          0,    0,    0,    0,    0,    0,    0,    0,    0,    0,    0,\n",
       "          0,    0,    0,    0,    0,    0,    0,    0,    0,    0,    0,\n",
       "          0,    0,    0,    0,    0,    0,    0,    0,    0,    0,    0,\n",
       "          0,    0,    0,    0,    0,    0,    0,    0,    0,    0,    0,\n",
       "          0,    0,    0,    0,    0,    0,    0,    0,    0,    0,    0,\n",
       "          0,    0,    0,    0,    0,    0,    0,    0,    0,    0,    0,\n",
       "          0,    0,    0,    0,    0,    0,    0,    0,    0,    0,    0,\n",
       "          0,    0,    0,    0,    0,    0,    0,    0,    0,    0,    0,\n",
       "          0,    0,    0,    0,    0,    0,    0,    0,    0,    0,    0,\n",
       "          0,    0,    0,    0,    0,    0,    0,    0,    0,    0,    0,\n",
       "          0,    0,    0,    0,    0,    0,    0,    0,    0,    0,    0,\n",
       "          0,    0,    0,    0,    0,    0,    0,    0,    0,    0,    0,\n",
       "          0,    0,    0,    0,    0,    0,    0,    0,    0,    0,    0,\n",
       "          0,    0,    0,    0,    0,    0,    0,    0,    0,    0,    0,\n",
       "          0,    0,    0,    0,    0,    0,    0,    0,    0], dtype=int32)"
      ]
     },
     "execution_count": 593,
     "metadata": {
      "tags": []
     },
     "output_type": "execute_result"
    }
   ],
   "source": [
    "X_pad[0] # sequences[0]\r\n",
    "# sequences[0]"
   ]
  },
  {
   "cell_type": "code",
   "execution_count": 594,
   "metadata": {
    "colab": {
     "base_uri": "https://localhost:8080/"
    },
    "id": "6rvqN2_jrOAN",
    "outputId": "8aea1acf-e266-42f3-f81f-98e86d58cdd2"
   },
   "outputs": [
    {
     "data": {
      "text/plain": [
       "(161, 1955)"
      ]
     },
     "execution_count": 594,
     "metadata": {
      "tags": []
     },
     "output_type": "execute_result"
    }
   ],
   "source": [
    "tokenizer.word_index[\"broken\"],   tokenizer.word_index[\"angry\"],   # Val?/"
   ]
  },
  {
   "cell_type": "code",
   "execution_count": 595,
   "metadata": {
    "colab": {
     "base_uri": "https://localhost:8080/"
    },
    "id": "TVuYcGtxpM3F",
    "outputId": "3fc70ee6-560d-46ec-dc26-53adad420ac2"
   },
   "outputs": [
    {
     "data": {
      "text/plain": [
       "4.066494"
      ]
     },
     "execution_count": 595,
     "metadata": {
      "tags": []
     },
     "output_type": "execute_result"
    }
   ],
   "source": [
    "#model_gensim.predict([[X_pad[0]]])\r\n",
    "model_gensim_2.predict(np.expand_dims(X_pad[0], axis=0))[0][0]"
   ]
  },
  {
   "cell_type": "code",
   "execution_count": 598,
   "metadata": {
    "colab": {
     "base_uri": "https://localhost:8080/"
    },
    "id": "2u_E70_l9OJk",
    "outputId": "78e2393d-6445-4aab-ba6b-faed60feff21"
   },
   "outputs": [
    {
     "data": {
      "text/plain": [
       "9.399405"
      ]
     },
     "execution_count": 598,
     "metadata": {
      "tags": []
     },
     "output_type": "execute_result"
    }
   ],
   "source": [
    "sentence_test = \"I really liked the hotel. Everything was amazing, thanks for all\"\r\n",
    "\r\n",
    "sentence_test =  tokenizer.texts_to_sequences([sentence_test])\r\n",
    "sentence_test = pad_sequences(sentence_test, dtype='int32', padding='post', maxlen=X_pad[0].shape[0])\r\n",
    "sentence_test\r\n",
    "\r\n",
    "model_gensim_2.predict(np.expand_dims(sentence_test[0], axis=0))[0][0]"
   ]
  },
  {
   "cell_type": "code",
   "execution_count": 599,
   "metadata": {
    "colab": {
     "base_uri": "https://localhost:8080/"
    },
    "id": "AHJgnHgd9OJl",
    "outputId": "be7bb583-8408-4838-ce32-2a06e88c36d3"
   },
   "outputs": [
    {
     "data": {
      "text/plain": [
       "4.066494"
      ]
     },
     "execution_count": 599,
     "metadata": {
      "tags": []
     },
     "output_type": "execute_result"
    }
   ],
   "source": [
    "sentence_test = \"The hotel was horrible. We had prostitutes, drug addicts, fights and blood all over the bed. Everything was broken and smelly\"\r\n",
    "\r\n",
    "sentence_test =  tokenizer.texts_to_sequences([sentence_test])\r\n",
    "sentence_test = pad_sequences(sentence_test, dtype='int32', padding='post', maxlen=X_pad[0].shape[0])\r\n",
    "sentence_test\r\n",
    "\r\n",
    "model_gensim_2.predict(np.expand_dims(sentence_test[0], axis=0))[0][0]"
   ]
  },
  {
   "cell_type": "code",
   "execution_count": 600,
   "metadata": {
    "colab": {
     "base_uri": "https://localhost:8080/"
    },
    "id": "rISfqZOnHzXn",
    "outputId": "eddee14a-1c95-41b5-9d3f-3309945efaf3"
   },
   "outputs": [
    {
     "data": {
      "text/plain": [
       "4.3801074"
      ]
     },
     "execution_count": 600,
     "metadata": {
      "tags": []
     },
     "output_type": "execute_result"
    }
   ],
   "source": [
    "sentence_test = \"Great vacation until we tried to travel home. We tried calling and waited more than 2 hours for a callback and then they were unable/unwilling to help us. Stranded for 48 hours because of this company with no help rebooking flights. We are out for hotel, food, and time off work because I was hung up on repeatedly by their customer service department. Once I was finally home, they told me there's nothing they can do for me that they were really sorry all this happened. They were unwilling to make it right, but told me that I could have requested a refund for my flight home if I would have been able to reach them at the time.\"\r\n",
    "\r\n",
    "sentence_test =  tokenizer.texts_to_sequences([sentence_test])\r\n",
    "sentence_test = pad_sequences(sentence_test, dtype='int32', padding='post', maxlen=X_pad[0].shape[0])\r\n",
    "sentence_test\r\n",
    "\r\n",
    "model_gensim_2.predict(np.expand_dims(sentence_test[0], axis=0))[0][0]"
   ]
  },
  {
   "cell_type": "code",
   "execution_count": 601,
   "metadata": {
    "colab": {
     "base_uri": "https://localhost:8080/"
    },
    "id": "ghybdNmhH96u",
    "outputId": "7c582778-e89e-406a-bb10-0b1ceedc40d6"
   },
   "outputs": [
    {
     "data": {
      "text/plain": [
       "9.39307"
      ]
     },
     "execution_count": 601,
     "metadata": {
      "tags": []
     },
     "output_type": "execute_result"
    }
   ],
   "source": [
    "sentence_test = \"The hotel itself was great, affordable and clean. The bar in the lobby was inviting and the breakfast was great. The hotel was located close to a public transportation site, which made arrival and departure very easy.\"\r\n",
    "\r\n",
    "sentence_test =  tokenizer.texts_to_sequences([sentence_test])\r\n",
    "sentence_test = pad_sequences(sentence_test, dtype='int32', padding='post', maxlen=X_pad[0].shape[0])\r\n",
    "sentence_test\r\n",
    "\r\n",
    "model_gensim_2.predict(np.expand_dims(sentence_test[0], axis=0))[0][0]"
   ]
  },
  {
   "cell_type": "markdown",
   "metadata": {
    "id": "lwW8AbGu9OJl"
   },
   "source": [
    "# Export"
   ]
  },
  {
   "cell_type": "code",
   "execution_count": null,
   "metadata": {
    "id": "NvrgagrS9OJm"
   },
   "outputs": [],
   "source": [
    "# import pickle\n",
    "\n",
    "# # Export pipeline as pickle file\n",
    "# with open(\"pipeline.pkl\", \"wb\") as file:\n",
    "#     pickle.dump(best_pipeline, file)"
   ]
  }
 ],
 "metadata": {
  "accelerator": "GPU",
  "colab": {
   "collapsed_sections": [
    "lwW8AbGu9OJl"
   ],
   "name": "03.03_working_NN_improved(Dataset_1).ipynb",
   "provenance": [],
   "toc_visible": true
  },
  "kernelspec": {
   "display_name": "Python 3",
   "language": "python",
   "name": "python3"
  },
  "language_info": {
   "codemirror_mode": {
    "name": "ipython",
    "version": 3
   },
   "file_extension": ".py",
   "mimetype": "text/x-python",
   "name": "python",
   "nbconvert_exporter": "python",
   "pygments_lexer": "ipython3",
   "version": "3.8.6"
  }
 },
 "nbformat": 4,
 "nbformat_minor": 5
}
