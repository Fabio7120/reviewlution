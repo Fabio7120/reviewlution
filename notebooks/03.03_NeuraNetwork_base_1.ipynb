{
 "cells": [
  {
   "cell_type": "markdown",
   "metadata": {},
   "source": [
    "### Imports and loading data (Kilian)"
   ]
  },
  {
   "cell_type": "code",
   "execution_count": 1,
   "metadata": {},
   "outputs": [],
   "source": [
    "import pandas as pd\n",
    "import numpy as np\n",
    "import string\n",
    "import nltk\n",
    "from nltk.corpus import stopwords\n",
    "from nltk.tokenize import word_tokenize\n",
    "from nltk.stem import WordNetLemmatizer"
   ]
  },
  {
   "cell_type": "code",
   "execution_count": 55,
   "metadata": {},
   "outputs": [],
   "source": [
    "dataset_1 = pd.read_csv(\"dataset_1.csv\")"
   ]
  },
  {
   "cell_type": "markdown",
   "metadata": {},
   "source": [
    "### data manipulation (Kilian)"
   ]
  },
  {
   "cell_type": "code",
   "execution_count": null,
   "metadata": {},
   "outputs": [],
   "source": [
    "import nltk\n",
    "nltk.download('stopwords')\n",
    "nltk.download('punkt')\n",
    "nltk.download('wordnet')"
   ]
  },
  {
   "cell_type": "code",
   "execution_count": 56,
   "metadata": {},
   "outputs": [],
   "source": [
    "dataset_1 = dataset_1[['Negative_Review', 'Positive_Review', 'Reviewer_Score']]\n",
    "\n",
    "dataset_1[['Negative_Review']] = dataset_1[['Negative_Review']].replace(to_replace=\"No Negative\", value=\"\")\n",
    "\n",
    "dataset_1[['Positive_Review']] = dataset_1[['Positive_Review']].replace(to_replace=\"No Positive\", value=\"\")\n",
    "\n",
    "dataset_1[\"Review_Text\"] = dataset_1['Negative_Review'] + \" \" + dataset_1['Positive_Review']\n",
    "\n",
    "dataset_1 = dataset_1.drop(columns=['Negative_Review', 'Positive_Review'])\n",
    "\n",
    "dataset_1['Review_Text'] = dataset_1['Review_Text'].apply(lambda x: x.lower())\n",
    "\n",
    "def remove_numbers(text):\n",
    "    text = ''.join(word for word in text if not word.isdigit())\n",
    "    return text\n",
    "\n",
    "dataset_1['Review_Text'] = dataset_1['Review_Text'].apply(remove_numbers)\n",
    "\n",
    "for punctuation in string.punctuation:\n",
    "    dataset_1['Review_Text'] = dataset_1['Review_Text'].replace(punctuation, '') \n",
    "    \n",
    "def custom_stopwords():\n",
    "    \"\"\"create custom stopwords list excluding negative words\"\"\"\n",
    "    negative_words = ['no',\n",
    "    'nor',\n",
    "    'not',\n",
    "    \"don't\",\n",
    "    'should',\n",
    "    \"should've\",\n",
    "    'aren',\n",
    "    \"aren't\",\n",
    "    'couldn',\n",
    "    \"couldn't\",\n",
    "    'didn',\n",
    "    \"didn't\",\n",
    "    'doesn',\n",
    "    \"doesn't\",\n",
    "    'hadn',\n",
    "    \"hadn't\",\n",
    "    'hasn',\n",
    "    \"hasn't\",\n",
    "    'haven',\n",
    "    \"haven't\",\n",
    "    'isn',\n",
    "    \"isn't\",\n",
    "    \"wasn't\",\n",
    "    'weren',\n",
    "    \"weren't\",\n",
    "    'won',\n",
    "    \"won't\",\n",
    "    'wouldn',\n",
    "    \"wouldn't\"]\n",
    "    custom_stopwords = [x for x in stopwords.words('english') if x not in negative_words]\n",
    "    return custom_stopwords\n",
    "\n",
    "custom_stopwords = custom_stopwords()\n",
    "\n",
    "stop_words = custom_stopwords\n",
    "dataset_1['reviews'] = dataset_1['Review_Text'].map(word_tokenize)\n",
    "dataset_1['reviews'] = dataset_1['reviews'].map(lambda x: [w for w in x if not w in stop_words])\n",
    "\n",
    "lemmatizer = WordNetLemmatizer()\n",
    "\n",
    "def lemmatizing(text):\n",
    "    lemmatized = [lemmatizer.lemmatize(word) for word in text]\n",
    "    text = lemmatized\n",
    "    text = ' '.join(word for word in text)\n",
    "    return text\n",
    "\n",
    "dataset_1['reviews'] = dataset_1['reviews'].apply(lemmatizing)\n",
    "\n",
    "dataset_1['review_score'] = dataset_1['Reviewer_Score'] # / 10\n",
    "\n",
    "dataset_1 = dataset_1.drop(columns=['Review_Text', 'Reviewer_Score'])\n",
    "\n",
    "dataset_1['review_score'] = dataset_1['review_score'].round(decimals=2)\n",
    "\n",
    "#Final check\n",
    "dataset_1"
   ]
  },
  {
   "cell_type": "markdown",
   "metadata": {},
   "source": [
    "### Exporting to csv"
   ]
  },
  {
   "cell_type": "code",
   "execution_count": 14,
   "metadata": {},
   "outputs": [],
   "source": [
    "#dataset_1.to_csv('../raw_data/clean_dataset_1.csv')"
   ]
  },
  {
   "cell_type": "markdown",
   "metadata": {},
   "source": [
    "------------------------------------- NEW FILE --------------------------"
   ]
  },
  {
   "cell_type": "code",
   "execution_count": 68,
   "metadata": {},
   "outputs": [],
   "source": [
    "import numpy as np\n",
    "import string\n",
    "import nltk\n",
    "from nltk.tokenize import word_tokenize"
   ]
  },
  {
   "cell_type": "markdown",
   "metadata": {},
   "source": [
    "# Import CSV"
   ]
  },
  {
   "cell_type": "code",
   "execution_count": 69,
   "metadata": {},
   "outputs": [
    {
     "data": {
      "text/html": [
       "<div>\n",
       "<style scoped>\n",
       "    .dataframe tbody tr th:only-of-type {\n",
       "        vertical-align: middle;\n",
       "    }\n",
       "\n",
       "    .dataframe tbody tr th {\n",
       "        vertical-align: top;\n",
       "    }\n",
       "\n",
       "    .dataframe thead th {\n",
       "        text-align: right;\n",
       "    }\n",
       "</style>\n",
       "<table border=\"1\" class=\"dataframe\">\n",
       "  <thead>\n",
       "    <tr style=\"text-align: right;\">\n",
       "      <th></th>\n",
       "      <th>reviews</th>\n",
       "      <th>review_score</th>\n",
       "    </tr>\n",
       "  </thead>\n",
       "  <tbody>\n",
       "    <tr>\n",
       "      <th>0</th>\n",
       "      <td>angry made post available via possible site us...</td>\n",
       "      <td>2.9</td>\n",
       "    </tr>\n",
       "    <tr>\n",
       "      <th>1</th>\n",
       "      <td>no real complaint hotel great great location s...</td>\n",
       "      <td>7.5</td>\n",
       "    </tr>\n",
       "    <tr>\n",
       "      <th>2</th>\n",
       "      <td>room nice elderly bit difficult room two story...</td>\n",
       "      <td>7.1</td>\n",
       "    </tr>\n",
       "    <tr>\n",
       "      <th>3</th>\n",
       "      <td>room dirty afraid walk barefoot floor looked n...</td>\n",
       "      <td>3.8</td>\n",
       "    </tr>\n",
       "    <tr>\n",
       "      <th>4</th>\n",
       "      <td>booked company line showed picture room though...</td>\n",
       "      <td>6.7</td>\n",
       "    </tr>\n",
       "    <tr>\n",
       "      <th>...</th>\n",
       "      <td>...</td>\n",
       "      <td>...</td>\n",
       "    </tr>\n",
       "    <tr>\n",
       "      <th>515733</th>\n",
       "      <td>no trolly staff help take luggage room location</td>\n",
       "      <td>7.0</td>\n",
       "    </tr>\n",
       "    <tr>\n",
       "      <th>515734</th>\n",
       "      <td>hotel look like surely not breakfast ok got ea...</td>\n",
       "      <td>5.8</td>\n",
       "    </tr>\n",
       "    <tr>\n",
       "      <th>515735</th>\n",
       "      <td>ac useless hot week vienna gave hot air</td>\n",
       "      <td>2.5</td>\n",
       "    </tr>\n",
       "    <tr>\n",
       "      <th>515736</th>\n",
       "      <td>room enormous really comfortable believe famil...</td>\n",
       "      <td>8.8</td>\n",
       "    </tr>\n",
       "    <tr>\n",
       "      <th>515737</th>\n",
       "      <td>rd floor didn work free wife staff kind</td>\n",
       "      <td>8.3</td>\n",
       "    </tr>\n",
       "  </tbody>\n",
       "</table>\n",
       "<p>515738 rows × 2 columns</p>\n",
       "</div>"
      ],
      "text/plain": [
       "                                                  reviews  review_score\n",
       "0       angry made post available via possible site us...           2.9\n",
       "1       no real complaint hotel great great location s...           7.5\n",
       "2       room nice elderly bit difficult room two story...           7.1\n",
       "3       room dirty afraid walk barefoot floor looked n...           3.8\n",
       "4       booked company line showed picture room though...           6.7\n",
       "...                                                   ...           ...\n",
       "515733    no trolly staff help take luggage room location           7.0\n",
       "515734  hotel look like surely not breakfast ok got ea...           5.8\n",
       "515735            ac useless hot week vienna gave hot air           2.5\n",
       "515736  room enormous really comfortable believe famil...           8.8\n",
       "515737            rd floor didn work free wife staff kind           8.3\n",
       "\n",
       "[515738 rows x 2 columns]"
      ]
     },
     "execution_count": 69,
     "metadata": {},
     "output_type": "execute_result"
    }
   ],
   "source": [
    "#data = pd.read_csv(\"../raw_data/clean_dataset_1.csv\", index_col=0)\n",
    "data = dataset_1\n",
    "data"
   ]
  },
  {
   "cell_type": "markdown",
   "metadata": {},
   "source": [
    "# Remove less than 6 words"
   ]
  },
  {
   "cell_type": "code",
   "execution_count": 70,
   "metadata": {},
   "outputs": [
    {
     "data": {
      "text/html": [
       "<div>\n",
       "<style scoped>\n",
       "    .dataframe tbody tr th:only-of-type {\n",
       "        vertical-align: middle;\n",
       "    }\n",
       "\n",
       "    .dataframe tbody tr th {\n",
       "        vertical-align: top;\n",
       "    }\n",
       "\n",
       "    .dataframe thead th {\n",
       "        text-align: right;\n",
       "    }\n",
       "</style>\n",
       "<table border=\"1\" class=\"dataframe\">\n",
       "  <thead>\n",
       "    <tr style=\"text-align: right;\">\n",
       "      <th></th>\n",
       "      <th>reviews</th>\n",
       "      <th>review_score</th>\n",
       "    </tr>\n",
       "  </thead>\n",
       "  <tbody>\n",
       "    <tr>\n",
       "      <th>0</th>\n",
       "      <td>angry made post available via possible site us...</td>\n",
       "      <td>2.9</td>\n",
       "    </tr>\n",
       "    <tr>\n",
       "      <th>1</th>\n",
       "      <td>no real complaint hotel great great location s...</td>\n",
       "      <td>7.5</td>\n",
       "    </tr>\n",
       "    <tr>\n",
       "      <th>2</th>\n",
       "      <td>room nice elderly bit difficult room two story...</td>\n",
       "      <td>7.1</td>\n",
       "    </tr>\n",
       "    <tr>\n",
       "      <th>3</th>\n",
       "      <td>room dirty afraid walk barefoot floor looked n...</td>\n",
       "      <td>3.8</td>\n",
       "    </tr>\n",
       "    <tr>\n",
       "      <th>4</th>\n",
       "      <td>booked company line showed picture room though...</td>\n",
       "      <td>6.7</td>\n",
       "    </tr>\n",
       "    <tr>\n",
       "      <th>...</th>\n",
       "      <td>...</td>\n",
       "      <td>...</td>\n",
       "    </tr>\n",
       "    <tr>\n",
       "      <th>306040</th>\n",
       "      <td>noisy night air causing loud banging heating p...</td>\n",
       "      <td>6.3</td>\n",
       "    </tr>\n",
       "    <tr>\n",
       "      <th>306041</th>\n",
       "      <td>put fotos cinde room see booking location give...</td>\n",
       "      <td>5.4</td>\n",
       "    </tr>\n",
       "    <tr>\n",
       "      <th>306042</th>\n",
       "      <td>wifi location no tea coffee room rather cheap ...</td>\n",
       "      <td>5.8</td>\n",
       "    </tr>\n",
       "    <tr>\n",
       "      <th>306043</th>\n",
       "      <td>breakfast excelent lot fress fruit hotel good ...</td>\n",
       "      <td>10.0</td>\n",
       "    </tr>\n",
       "    <tr>\n",
       "      <th>306044</th>\n",
       "      <td>no free parking room another building need exi...</td>\n",
       "      <td>6.7</td>\n",
       "    </tr>\n",
       "  </tbody>\n",
       "</table>\n",
       "<p>306045 rows × 2 columns</p>\n",
       "</div>"
      ],
      "text/plain": [
       "                                                  reviews  review_score\n",
       "0       angry made post available via possible site us...           2.9\n",
       "1       no real complaint hotel great great location s...           7.5\n",
       "2       room nice elderly bit difficult room two story...           7.1\n",
       "3       room dirty afraid walk barefoot floor looked n...           3.8\n",
       "4       booked company line showed picture room though...           6.7\n",
       "...                                                   ...           ...\n",
       "306040  noisy night air causing loud banging heating p...           6.3\n",
       "306041  put fotos cinde room see booking location give...           5.4\n",
       "306042  wifi location no tea coffee room rather cheap ...           5.8\n",
       "306043  breakfast excelent lot fress fruit hotel good ...          10.0\n",
       "306044  no free parking room another building need exi...           6.7\n",
       "\n",
       "[306045 rows x 2 columns]"
      ]
     },
     "execution_count": 70,
     "metadata": {},
     "output_type": "execute_result"
    }
   ],
   "source": [
    "data['length'] = data['reviews'].apply(lambda x: len(word_tokenize(str(x))))\n",
    "data.drop(data[data['length'] < 6].index, inplace=True)\n",
    "data.drop(columns=['length'], inplace=True)\n",
    "data.reset_index(drop=True, inplace=True)\n",
    "data"
   ]
  },
  {
   "cell_type": "markdown",
   "metadata": {},
   "source": [
    "# NEURAL NETWORK 1 - gensim.models - Word2Vec"
   ]
  },
  {
   "cell_type": "code",
   "execution_count": 329,
   "metadata": {},
   "outputs": [
    {
     "data": {
      "text/plain": [
       "((10000,), (10000,))"
      ]
     },
     "execution_count": 329,
     "metadata": {},
     "output_type": "execute_result"
    }
   ],
   "source": [
    "X_1 = data['reviews'][:10000]\n",
    "y_1 = data['review_score'][:10000]\n",
    "X_1.shape, y_1.shape\n",
    "y = data['review_score'][:10000]"
   ]
  },
  {
   "cell_type": "code",
   "execution_count": 326,
   "metadata": {},
   "outputs": [],
   "source": [
    "# Tokenize X\n",
    "import nltk\n",
    "from nltk.tokenize import word_tokenize\n",
    "\n",
    "def tokenize_words(text):\n",
    "    # Tokenizing\n",
    "    text_tokenized = word_tokenize(text)\n",
    "    text = [word for word in text_tokenized] # if not word in stop_words]\n",
    "#     text = ' '.join([word for word in text])\n",
    "    return text"
   ]
  },
  {
   "cell_type": "code",
   "execution_count": 330,
   "metadata": {},
   "outputs": [],
   "source": [
    "# Tokenize X\n",
    "X_1 = [tokenize_words(X_1[row]) for row in range(0, len(X_1))]"
   ]
  },
  {
   "cell_type": "code",
   "execution_count": 333,
   "metadata": {},
   "outputs": [
    {
     "data": {
      "text/plain": [
       "(182, 64, 34, 122, 64)"
      ]
     },
     "execution_count": 333,
     "metadata": {},
     "output_type": "execute_result"
    }
   ],
   "source": [
    "# We need Padding\n",
    "len(X_1[0]),len(X_1[1]),len(X_1[2]),len(X_1[3]),len(X_1[4])"
   ]
  },
  {
   "cell_type": "code",
   "execution_count": 338,
   "metadata": {},
   "outputs": [
    {
     "data": {
      "text/plain": [
       "4658"
      ]
     },
     "execution_count": 338,
     "metadata": {},
     "output_type": "execute_result"
    }
   ],
   "source": [
    "from gensim.models import Word2Vec\n",
    "\n",
    "word2vec = Word2Vec(sentences=X_1, min_count=3, window=10)\n",
    "len(word2vec.wv.vocab)"
   ]
  },
  {
   "cell_type": "code",
   "execution_count": 339,
   "metadata": {},
   "outputs": [],
   "source": [
    "import numpy as np\n",
    "### YOUR CODE HERE - Step #3\n",
    "def embed_sentence(word2vec, sentence):\n",
    "    ### YOUR CODE HERE\n",
    "    sentence_vectors = []\n",
    "    for word in sentence:\n",
    "        if word in word2vec.wv:\n",
    "            sentence_vectors.append(word2vec.wv[word])            \n",
    "\n",
    "    return np.array(sentence_vectors)"
   ]
  },
  {
   "cell_type": "code",
   "execution_count": 340,
   "metadata": {},
   "outputs": [],
   "source": [
    "def embedding(word2vec, sentences):\n",
    "    sentences_vectors = [embed_sentence(word2vec, sentence) for sentence in sentences]\n",
    "    return sentences_vectors"
   ]
  },
  {
   "cell_type": "code",
   "execution_count": 341,
   "metadata": {},
   "outputs": [],
   "source": [
    "X_1 = embedding(word2vec, X_1)"
   ]
  },
  {
   "cell_type": "code",
   "execution_count": 343,
   "metadata": {},
   "outputs": [
    {
     "data": {
      "text/plain": [
       "(171, 63, 34, 117, 58)"
      ]
     },
     "execution_count": 343,
     "metadata": {},
     "output_type": "execute_result"
    }
   ],
   "source": [
    "# We need Padding\n",
    "len(X_1[0]),len(X_1[1]),len(X_1[2]),len(X_1[3]),len(X_1[4])"
   ]
  },
  {
   "cell_type": "code",
   "execution_count": 344,
   "metadata": {},
   "outputs": [],
   "source": [
    "from tensorflow.keras.preprocessing.sequence import pad_sequences\n",
    "\n",
    "X_pad = pad_sequences(X_1, dtype='float32', padding='post')"
   ]
  },
  {
   "cell_type": "code",
   "execution_count": 346,
   "metadata": {},
   "outputs": [
    {
     "data": {
      "text/plain": [
       "(244, 244, 244, 244, 244)"
      ]
     },
     "execution_count": 346,
     "metadata": {},
     "output_type": "execute_result"
    }
   ],
   "source": [
    "len(X_pad[0]),len(X_pad[1]),len(X_pad[2]),len(X_pad[3]),len(X_pad[4])"
   ]
  },
  {
   "cell_type": "code",
   "execution_count": 345,
   "metadata": {},
   "outputs": [
    {
     "data": {
      "text/plain": [
       "(10000, 244, 100)"
      ]
     },
     "execution_count": 345,
     "metadata": {},
     "output_type": "execute_result"
    }
   ],
   "source": [
    "X_pad.shape"
   ]
  },
  {
   "cell_type": "markdown",
   "metadata": {},
   "source": [
    "### HOLD OUT"
   ]
  },
  {
   "cell_type": "code",
   "execution_count": 347,
   "metadata": {},
   "outputs": [
    {
     "data": {
      "text/plain": [
       "((8000, 244, 100), (2000, 244, 100), (8000,), (2000,))"
      ]
     },
     "execution_count": 347,
     "metadata": {},
     "output_type": "execute_result"
    }
   ],
   "source": [
    "from sklearn.model_selection import train_test_split\n",
    "\n",
    "# Hold out \n",
    "X_train, X_test, y_train, y_test = train_test_split(X_pad, y, test_size=0.2)\n",
    "\n",
    "#check\n",
    "X_train.shape, X_test.shape, y_train.shape, y_test.shape"
   ]
  },
  {
   "cell_type": "markdown",
   "metadata": {},
   "source": [
    "####  NEURAL NETWORK"
   ]
  },
  {
   "cell_type": "code",
   "execution_count": 374,
   "metadata": {},
   "outputs": [],
   "source": [
    "from sklearn.model_selection import cross_validate\n",
    "from tensorflow.keras import layers\n",
    "from tensorflow.keras import models\n",
    "\n",
    "def initialize_model():\n",
    "    ### Model architecture\n",
    "    model_gensim = models.Sequential()\n",
    "    \n",
    "    ### Model MASK\n",
    "    model_gensim.add(layers.Masking(input_shape=(244, 100)))                                     \n",
    "    \n",
    "    ### First convolution & max-pooling\n",
    "    model_gensim.add(layers.LSTM(units=100, activation='tanh'))   #244 or 100 ??\n",
    "    model_gensim.add(layers.Dense(50, activation='relu'))\n",
    "    model_gensim.add(layers.Dense(20, activation='relu'))\n",
    "    model_gensim.add(layers.Dense(20, activation='relu'))\n",
    "    model_gensim.add(layers.Dense(20, activation='relu'))\n",
    "   \n",
    "    ### Last layer (let's say a classification with 10 output)\n",
    "    model_gensim.add(layers.Dense(1, activation='linear'))\n",
    "        \n",
    "    ### Model compilation\n",
    "    model_gensim.compile(loss='mse', \n",
    "                  optimizer='rmsprop',  \n",
    "                  metrics=['mae'])     \n",
    "\n",
    "    return model_gensim"
   ]
  },
  {
   "cell_type": "code",
   "execution_count": 375,
   "metadata": {},
   "outputs": [
    {
     "name": "stdout",
     "output_type": "stream",
     "text": [
      "Model: \"sequential_21\"\n",
      "_________________________________________________________________\n",
      "Layer (type)                 Output Shape              Param #   \n",
      "=================================================================\n",
      "masking_8 (Masking)          (None, 244, 100)          0         \n",
      "_________________________________________________________________\n",
      "lstm_7 (LSTM)                (None, 100)               80400     \n",
      "_________________________________________________________________\n",
      "dense_103 (Dense)            (None, 50)                5050      \n",
      "_________________________________________________________________\n",
      "dense_104 (Dense)            (None, 20)                1020      \n",
      "_________________________________________________________________\n",
      "dense_105 (Dense)            (None, 20)                420       \n",
      "_________________________________________________________________\n",
      "dense_106 (Dense)            (None, 20)                420       \n",
      "_________________________________________________________________\n",
      "dense_107 (Dense)            (None, 1)                 21        \n",
      "=================================================================\n",
      "Total params: 87,331\n",
      "Trainable params: 87,331\n",
      "Non-trainable params: 0\n",
      "_________________________________________________________________\n"
     ]
    }
   ],
   "source": [
    "model_gensim = initialize_model()\n",
    "model_gensim.summary()"
   ]
  },
  {
   "cell_type": "code",
   "execution_count": 380,
   "metadata": {},
   "outputs": [
    {
     "name": "stdout",
     "output_type": "stream",
     "text": [
      "Epoch 1/100\n",
      "200/200 [==============================] - 102s 456ms/step - loss: 15.1494 - mae: 2.7353 - val_loss: 2.0722 - val_mae: 1.0851\n",
      "Epoch 2/100\n",
      "200/200 [==============================] - 80s 399ms/step - loss: 2.1608 - mae: 1.1322 - val_loss: 1.8717 - val_mae: 1.0660\n",
      "Epoch 3/100\n",
      "200/200 [==============================] - 69s 346ms/step - loss: 1.9647 - mae: 1.0631 - val_loss: 1.9163 - val_mae: 1.0398\n",
      "Epoch 4/100\n",
      "200/200 [==============================] - 72s 359ms/step - loss: 1.7898 - mae: 1.0200 - val_loss: 1.8363 - val_mae: 1.0890\n",
      "Epoch 5/100\n",
      "200/200 [==============================] - 74s 368ms/step - loss: 1.7375 - mae: 1.0118 - val_loss: 2.1730 - val_mae: 1.1329\n",
      "Epoch 6/100\n",
      "200/200 [==============================] - 88s 438ms/step - loss: 1.6992 - mae: 0.9860 - val_loss: 1.8105 - val_mae: 1.0021\n",
      "Epoch 7/100\n",
      "200/200 [==============================] - 72s 363ms/step - loss: 1.6967 - mae: 0.9901 - val_loss: 1.6749 - val_mae: 0.9982\n",
      "Epoch 8/100\n",
      "200/200 [==============================] - 71s 357ms/step - loss: 1.5542 - mae: 0.9489 - val_loss: 1.7663 - val_mae: 1.0027\n",
      "Epoch 9/100\n",
      "200/200 [==============================] - 59s 293ms/step - loss: 1.5658 - mae: 0.9496 - val_loss: 1.6833 - val_mae: 0.9662\n",
      "Epoch 10/100\n",
      "200/200 [==============================] - 68s 343ms/step - loss: 1.5579 - mae: 0.9402 - val_loss: 1.6060 - val_mae: 0.9580\n",
      "Epoch 11/100\n",
      "200/200 [==============================] - 66s 331ms/step - loss: 1.5115 - mae: 0.9396 - val_loss: 1.7071 - val_mae: 0.9748\n",
      "Epoch 12/100\n",
      "200/200 [==============================] - 77s 388ms/step - loss: 1.4458 - mae: 0.9215 - val_loss: 1.6623 - val_mae: 0.9754\n",
      "Epoch 13/100\n",
      "200/200 [==============================] - 64s 323ms/step - loss: 1.4780 - mae: 0.9175 - val_loss: 1.7139 - val_mae: 0.9698\n",
      "Epoch 14/100\n",
      "200/200 [==============================] - 70s 351ms/step - loss: 1.3359 - mae: 0.8783 - val_loss: 1.7725 - val_mae: 1.0679\n",
      "Epoch 15/100\n",
      "200/200 [==============================] - 67s 336ms/step - loss: 1.3004 - mae: 0.8756 - val_loss: 1.7316 - val_mae: 0.9725\n",
      "Restoring model weights from the end of the best epoch.\n",
      "Epoch 00015: early stopping\n"
     ]
    }
   ],
   "source": [
    "### YOUR CODE HERE\n",
    "\n",
    "from tensorflow.keras.callbacks import EarlyStopping \n",
    "\n",
    "# YOUR CODE HERE\n",
    "es = EarlyStopping(monitor='val_loss', mode='min', verbose=1, patience=5, restore_best_weights=True)\n",
    "model_gensim = initialize_model()\n",
    "\n",
    "history = model_gensim.fit(X_train, y_train,\n",
    "          validation_split=0.2,\n",
    "          batch_size=32,\n",
    "          epochs=100,\n",
    "          verbose=1,\n",
    "          callbacks=[es])"
   ]
  },
  {
   "cell_type": "code",
   "execution_count": null,
   "metadata": {},
   "outputs": [],
   "source": [
    "# history.history"
   ]
  },
  {
   "cell_type": "code",
   "execution_count": 384,
   "metadata": {},
   "outputs": [
    {
     "data": {
      "text/plain": [
       "[1.5848098993301392, 0.9432970285415649]"
      ]
     },
     "execution_count": 384,
     "metadata": {},
     "output_type": "execute_result"
    }
   ],
   "source": [
    "model_gensim.evaluate(X_test, y_test, verbose=0)"
   ]
  },
  {
   "cell_type": "code",
   "execution_count": 385,
   "metadata": {},
   "outputs": [
    {
     "data": {
      "image/png": "[encoded data removed]",
      "text/plain": [
       "<Figure size 432x288 with 1 Axes>"
      ]
     },
     "metadata": {
      "needs_background": "light"
     },
     "output_type": "display_data"
    },
    {
     "data": {
      "image/png": "[encoded data removed]",
      "text/plain": [
       "<Figure size 432x288 with 1 Axes>"
      ]
     },
     "metadata": {
      "needs_background": "light"
     },
     "output_type": "display_data"
    }
   ],
   "source": [
    "plt.plot(history.history['loss'], label='train mse')      #CHANGE\n",
    "plt.plot(history.history['val_loss'], label='val mse')      #CHANGE\n",
    "plt.legend()\n",
    "plt.show()\n",
    "plt.plot(history.history['mae'], label='mae')      #CHANGE\n",
    "plt.plot(history.history['val_mae'], label='val mae')\n",
    "plt.legend()\n",
    "plt.show()"
   ]
  },
  {
   "cell_type": "code",
   "execution_count": 386,
   "metadata": {},
   "outputs": [
    {
     "data": {
      "text/plain": [
       "<matplotlib.collections.PathCollection at 0x7f070bb8a4f0>"
      ]
     },
     "execution_count": 386,
     "metadata": {},
     "output_type": "execute_result"
    },
    {
     "data": {
      "image/png": "[encoded data removed]",
      "text/plain": [
       "<Figure size 432x288 with 1 Axes>"
      ]
     },
     "metadata": {
      "needs_background": "light"
     },
     "output_type": "display_data"
    }
   ],
   "source": [
    "import matplotlib.pyplot as plt \n",
    "y_pred = model_gensim.predict(X_test)\n",
    "plt.scatter(y_test, y_pred)"
   ]
  },
  {
   "cell_type": "markdown",
   "metadata": {},
   "source": [
    "# NEURAL NETWORK 2 - gensim.models - Word2Vec (vectorizing inside the network)"
   ]
  },
  {
   "cell_type": "code",
   "execution_count": 410,
   "metadata": {},
   "outputs": [
    {
     "data": {
      "text/plain": [
       "((10000,), (10000,))"
      ]
     },
     "execution_count": 410,
     "metadata": {},
     "output_type": "execute_result"
    }
   ],
   "source": [
    "X_2 = data['reviews'][:10000]\n",
    "y_2 = data['review_score'][:10000]\n",
    "X_2.shape, y_2.shape\n",
    "y = data['review_score'][:10000]"
   ]
  },
  {
   "cell_type": "code",
   "execution_count": 395,
   "metadata": {},
   "outputs": [],
   "source": [
    "# # Tokenize X\n",
    "# import nltk\n",
    "# from nltk.tokenize import word_tokenize\n",
    "\n",
    "# def tokenize_words(text):\n",
    "#     # Tokenizing\n",
    "#     text_tokenized = word_tokenize(text)\n",
    "#     text = [word for word in text_tokenized] # if not word in stop_words]\n",
    "# #     text = ' '.join([word for word in text])\n",
    "#     return text"
   ]
  },
  {
   "cell_type": "code",
   "execution_count": 411,
   "metadata": {},
   "outputs": [],
   "source": [
    "# Tokenize X\n",
    "# X_2 = [tokenize_words(X_2[row]) for row in range(0, len(X_2))]\n",
    "\n",
    "from tensorflow.keras.preprocessing.text import Tokenizer\n",
    "\n",
    "max_words = 10000\n",
    "\n",
    "def tokenInit(train, max_words):\n",
    "    tokenizer = Tokenizer(num_words=max_words)\n",
    "    tokenizer.fit_on_texts(train)\n",
    "    return tokenizer"
   ]
  },
  {
   "cell_type": "code",
   "execution_count": 412,
   "metadata": {},
   "outputs": [],
   "source": [
    "tokenizer = tokenInit(X_2, max_words)"
   ]
  },
  {
   "cell_type": "code",
   "execution_count": 419,
   "metadata": {},
   "outputs": [],
   "source": [
    "# tokenizer.word_index"
   ]
  },
  {
   "cell_type": "code",
   "execution_count": 420,
   "metadata": {},
   "outputs": [],
   "source": [
    "sequences = tokenizer.texts_to_sequences(X_2)"
   ]
  },
  {
   "cell_type": "code",
   "execution_count": 423,
   "metadata": {},
   "outputs": [],
   "source": [
    "# sequences[0]"
   ]
  },
  {
   "cell_type": "code",
   "execution_count": 424,
   "metadata": {},
   "outputs": [
    {
     "data": {
      "text/plain": [
       "(182, 64, 34, 122, 64)"
      ]
     },
     "execution_count": 424,
     "metadata": {},
     "output_type": "execute_result"
    }
   ],
   "source": [
    "# We need Padding\n",
    "len(sequences[0]),len(sequences[1]),len(sequences[2]),len(sequences[3]),len(sequences[4])"
   ]
  },
  {
   "cell_type": "code",
   "execution_count": 426,
   "metadata": {},
   "outputs": [],
   "source": [
    "from tensorflow.keras.preprocessing.sequence import pad_sequences\n",
    "\n",
    "X_pad = pad_sequences(sequences, dtype='int32', padding='post') # Removed: dtype='float32',"
   ]
  },
  {
   "cell_type": "code",
   "execution_count": 427,
   "metadata": {},
   "outputs": [
    {
     "data": {
      "text/plain": [
       "(10000, 254)"
      ]
     },
     "execution_count": 427,
     "metadata": {},
     "output_type": "execute_result"
    }
   ],
   "source": [
    "X_pad.shape"
   ]
  },
  {
   "cell_type": "markdown",
   "metadata": {},
   "source": [
    " ### Hold out"
   ]
  },
  {
   "cell_type": "code",
   "execution_count": 428,
   "metadata": {},
   "outputs": [
    {
     "data": {
      "text/plain": [
       "((8000, 254), (2000, 254), (8000,), (2000,))"
      ]
     },
     "execution_count": 428,
     "metadata": {},
     "output_type": "execute_result"
    }
   ],
   "source": [
    "from sklearn.model_selection import train_test_split\n",
    "\n",
    "# Hold out \n",
    "X_train, X_test, y_train, y_test = train_test_split(X_pad, y, test_size=0.2)\n",
    "\n",
    "#check\n",
    "X_train.shape, X_test.shape, y_train.shape, y_test.shape"
   ]
  },
  {
   "cell_type": "code",
   "execution_count": 430,
   "metadata": {},
   "outputs": [
    {
     "data": {
      "text/plain": [
       "array([  51,   50, 1107,  163, 1678,  247, 1082,  509,  270, 1707,  348,\n",
       "          1,    1,  140,  301,   51,  347,   25,  183,    0,    0,    0,\n",
       "          0,    0,    0,    0,    0,    0,    0,    0,    0,    0,    0,\n",
       "          0,    0,    0,    0,    0,    0,    0,    0,    0,    0,    0,\n",
       "          0,    0,    0,    0,    0,    0,    0,    0,    0,    0,    0,\n",
       "          0,    0,    0,    0,    0,    0,    0,    0,    0,    0,    0,\n",
       "          0,    0,    0,    0,    0,    0,    0,    0,    0,    0,    0,\n",
       "          0,    0,    0,    0,    0,    0,    0,    0,    0,    0,    0,\n",
       "          0,    0,    0,    0,    0,    0,    0,    0,    0,    0,    0,\n",
       "          0,    0,    0,    0,    0,    0,    0,    0,    0,    0,    0,\n",
       "          0,    0,    0,    0,    0,    0,    0,    0,    0,    0,    0,\n",
       "          0,    0,    0,    0,    0,    0,    0,    0,    0,    0,    0,\n",
       "          0,    0,    0,    0,    0,    0,    0,    0,    0,    0,    0,\n",
       "          0,    0,    0,    0,    0,    0,    0,    0,    0,    0,    0,\n",
       "          0,    0,    0,    0,    0,    0,    0,    0,    0,    0,    0,\n",
       "          0,    0,    0,    0,    0,    0,    0,    0,    0,    0,    0,\n",
       "          0,    0,    0,    0,    0,    0,    0,    0,    0,    0,    0,\n",
       "          0,    0,    0,    0,    0,    0,    0,    0,    0,    0,    0,\n",
       "          0,    0,    0,    0,    0,    0,    0,    0,    0,    0,    0,\n",
       "          0,    0,    0,    0,    0,    0,    0,    0,    0,    0,    0,\n",
       "          0,    0,    0,    0,    0,    0,    0,    0,    0,    0,    0,\n",
       "          0,    0,    0,    0,    0,    0,    0,    0,    0,    0,    0,\n",
       "          0,    0,    0,    0,    0,    0,    0,    0,    0,    0,    0,\n",
       "          0], dtype=int32)"
      ]
     },
     "execution_count": 430,
     "metadata": {},
     "output_type": "execute_result"
    }
   ],
   "source": [
    "X_train[0]"
   ]
  },
  {
   "cell_type": "markdown",
   "metadata": {},
   "source": [
    "####  NEURAL NETWORK"
   ]
  },
  {
   "cell_type": "code",
   "execution_count": 436,
   "metadata": {},
   "outputs": [],
   "source": [
    "from sklearn.model_selection import cross_validate\n",
    "from tensorflow.keras import layers\n",
    "from tensorflow.keras import models\n",
    "from tensorflow.keras import Sequential\n",
    "\n",
    "def initialize_model():\n",
    "    ### Model architecture\n",
    "    model_gensim_2 = models.Sequential()\n",
    "    \n",
    "    ### Model MASK\n",
    "#     model_gensim_2.add(layers.Masking(input_shape=(244, 100)))          # NOT NEEDED ??                          \n",
    "    \n",
    "    ### Embedding Padded\n",
    "    model_gensim_2.add(layers.Embedding(input_dim=10000, output_dim=100, mask_zero=True))\n",
    "    \n",
    "    ### Embedding\n",
    "#     model_gensim_2.add(layers.Embedding(input_dim=2000, output_dim=30))   # HOW MANY ?\n",
    "        \n",
    "    ### First convolution & max-pooling\n",
    "    model_gensim_2.add(layers.LSTM(units=100, activation='tanh'))   #244 or 100 ??\n",
    "    model_gensim_2.add(layers.Dense(50, activation='relu'))\n",
    "    model_gensim_2.add(layers.Dense(20, activation='relu'))\n",
    "    model_gensim_2.add(layers.Dense(20, activation='relu'))\n",
    "   \n",
    "    ### Last layer (let's say a classification with 10 output)\n",
    "    model_gensim_2.add(layers.Dense(1, activation='linear'))\n",
    "        \n",
    "    ### Model compilation\n",
    "    model_gensim_2.compile(loss='mse', \n",
    "                  optimizer='rmsprop',  \n",
    "                  metrics=['mae'])     \n",
    "\n",
    "    return model_gensim_2"
   ]
  },
  {
   "cell_type": "code",
   "execution_count": 437,
   "metadata": {},
   "outputs": [
    {
     "name": "stdout",
     "output_type": "stream",
     "text": [
      "Model: \"sequential_26\"\n",
      "_________________________________________________________________\n",
      "Layer (type)                 Output Shape              Param #   \n",
      "=================================================================\n",
      "embedding_2 (Embedding)      (None, None, 100)         1000000   \n",
      "_________________________________________________________________\n",
      "lstm_11 (LSTM)               (None, 100)               80400     \n",
      "_________________________________________________________________\n",
      "dense_121 (Dense)            (None, 50)                5050      \n",
      "_________________________________________________________________\n",
      "dense_122 (Dense)            (None, 20)                1020      \n",
      "_________________________________________________________________\n",
      "dense_123 (Dense)            (None, 20)                420       \n",
      "_________________________________________________________________\n",
      "dense_124 (Dense)            (None, 1)                 21        \n",
      "=================================================================\n",
      "Total params: 1,086,911\n",
      "Trainable params: 1,086,911\n",
      "Non-trainable params: 0\n",
      "_________________________________________________________________\n"
     ]
    }
   ],
   "source": [
    "model_gensim_2 = initialize_model()\n",
    "model_gensim_2.summary()"
   ]
  },
  {
   "cell_type": "code",
   "execution_count": 438,
   "metadata": {},
   "outputs": [
    {
     "name": "stdout",
     "output_type": "stream",
     "text": [
      "Epoch 1/100\n",
      "200/200 [==============================] - 159s 732ms/step - loss: 11.4514 - mae: 2.3656 - val_loss: 2.8964 - val_mae: 1.3345\n",
      "Epoch 2/100\n",
      "200/200 [==============================] - 121s 605ms/step - loss: 2.9552 - mae: 1.3793 - val_loss: 3.3677 - val_mae: 1.5667\n",
      "Epoch 3/100\n",
      "200/200 [==============================] - 101s 505ms/step - loss: 2.1030 - mae: 1.1235 - val_loss: 2.0623 - val_mae: 1.1878\n",
      "Epoch 4/100\n",
      "200/200 [==============================] - 84s 419ms/step - loss: 1.4699 - mae: 0.9300 - val_loss: 1.7667 - val_mae: 1.0586\n",
      "Epoch 5/100\n",
      "200/200 [==============================] - 84s 419ms/step - loss: 1.1646 - mae: 0.8248 - val_loss: 1.4745 - val_mae: 0.9467\n",
      "Epoch 6/100\n",
      "200/200 [==============================] - 86s 430ms/step - loss: 0.9773 - mae: 0.7362 - val_loss: 1.4385 - val_mae: 0.9288\n",
      "Epoch 7/100\n",
      "200/200 [==============================] - 106s 530ms/step - loss: 0.8471 - mae: 0.6940 - val_loss: 1.4093 - val_mae: 0.8866\n",
      "Epoch 8/100\n",
      "200/200 [==============================] - 96s 479ms/step - loss: 0.7166 - mae: 0.6348 - val_loss: 1.5692 - val_mae: 0.9366\n",
      "Epoch 9/100\n",
      "200/200 [==============================] - 85s 425ms/step - loss: 0.6498 - mae: 0.6021 - val_loss: 1.4885 - val_mae: 0.9112\n",
      "Epoch 10/100\n",
      "200/200 [==============================] - 92s 462ms/step - loss: 0.5752 - mae: 0.5613 - val_loss: 1.4742 - val_mae: 0.9021\n",
      "Epoch 11/100\n",
      "200/200 [==============================] - 125s 625ms/step - loss: 0.5017 - mae: 0.5255 - val_loss: 1.5214 - val_mae: 0.9287\n",
      "Epoch 12/100\n",
      "200/200 [==============================] - 107s 537ms/step - loss: 0.4699 - mae: 0.5005 - val_loss: 1.5082 - val_mae: 0.9264\n",
      "Restoring model weights from the end of the best epoch.\n",
      "Epoch 00012: early stopping\n"
     ]
    }
   ],
   "source": [
    "### YOUR CODE HERE\n",
    "\n",
    "from tensorflow.keras.callbacks import EarlyStopping \n",
    "\n",
    "# YOUR CODE HERE\n",
    "es = EarlyStopping(monitor='val_loss', mode='min', verbose=1, patience=5, restore_best_weights=True)\n",
    "model_gensim = initialize_model()\n",
    "\n",
    "history = model_gensim_2.fit(X_train, y_train,\n",
    "          validation_split=0.2,\n",
    "          batch_size=32,\n",
    "          epochs=100,\n",
    "          verbose=1,\n",
    "          callbacks=[es])"
   ]
  },
  {
   "cell_type": "code",
   "execution_count": null,
   "metadata": {},
   "outputs": [],
   "source": [
    "# history.history"
   ]
  },
  {
   "cell_type": "code",
   "execution_count": 439,
   "metadata": {},
   "outputs": [
    {
     "data": {
      "text/plain": [
       "[1.4718115329742432, 0.9139989614486694]"
      ]
     },
     "execution_count": 439,
     "metadata": {},
     "output_type": "execute_result"
    }
   ],
   "source": [
    "model_gensim_2.evaluate(X_test, y_test, verbose=0)"
   ]
  },
  {
   "cell_type": "code",
   "execution_count": 440,
   "metadata": {},
   "outputs": [
    {
     "data": {
      "image/png": "[encoded data removed]",
      "text/plain": [
       "<Figure size 432x288 with 1 Axes>"
      ]
     },
     "metadata": {
      "needs_background": "light"
     },
     "output_type": "display_data"
    },
    {
     "data": {
      "image/png": "[encoded data removed]",
      "text/plain": [
       "<Figure size 432x288 with 1 Axes>"
      ]
     },
     "metadata": {
      "needs_background": "light"
     },
     "output_type": "display_data"
    }
   ],
   "source": [
    "plt.plot(history.history['loss'], label='train mse')      #CHANGE\n",
    "plt.plot(history.history['val_loss'], label='val mse')      #CHANGE\n",
    "plt.legend()\n",
    "plt.show()\n",
    "plt.plot(history.history['mae'], label='mae')      #CHANGE\n",
    "plt.plot(history.history['val_mae'], label='val mae')\n",
    "plt.legend()\n",
    "plt.show()"
   ]
  },
  {
   "cell_type": "code",
   "execution_count": 441,
   "metadata": {},
   "outputs": [
    {
     "data": {
      "text/plain": [
       "<matplotlib.collections.PathCollection at 0x7f06ebc455b0>"
      ]
     },
     "execution_count": 441,
     "metadata": {},
     "output_type": "execute_result"
    },
    {
     "data": {
      "image/png": "[encoded data removed]",
      "text/plain": [
       "<Figure size 432x288 with 1 Axes>"
      ]
     },
     "metadata": {
      "needs_background": "light"
     },
     "output_type": "display_data"
    }
   ],
   "source": [
    "import matplotlib.pyplot as plt \n",
    "y_pred = model_gensim_2.predict(X_test)\n",
    "plt.scatter(y_test, y_pred)"
   ]
  },
  {
   "cell_type": "code",
   "execution_count": null,
   "metadata": {},
   "outputs": [],
   "source": []
  },
  {
   "cell_type": "code",
   "execution_count": null,
   "metadata": {},
   "outputs": [],
   "source": []
  },
  {
   "cell_type": "markdown",
   "metadata": {},
   "source": [
    "# Export"
   ]
  },
  {
   "cell_type": "code",
   "execution_count": null,
   "metadata": {},
   "outputs": [],
   "source": [
    "# import pickle\n",
    "\n",
    "# # Export pipeline as pickle file\n",
    "# with open(\"pipeline.pkl\", \"wb\") as file:\n",
    "#     pickle.dump(best_pipeline, file)"
   ]
  }
 ],
 "metadata": {
  "kernelspec": {
   "display_name": "Python 3",
   "language": "python",
   "name": "python3"
  },
  "language_info": {
   "codemirror_mode": {
    "name": "ipython",
    "version": 3
   },
   "file_extension": ".py",
   "mimetype": "text/x-python",
   "name": "python",
   "nbconvert_exporter": "python",
   "pygments_lexer": "ipython3",
   "version": "3.8.6"
  }
 },
 "nbformat": 4,
 "nbformat_minor": 5
}
