{
 "cells": [
  {
   "cell_type": "code",
   "execution_count": 1,
   "metadata": {},
   "outputs": [],
   "source": [
    "import pandas as pd\n",
    "import numpy as np\n",
    "import matplotlib.pyplot as plt\n",
    "%matplotlib inline"
   ]
  },
  {
   "cell_type": "code",
   "execution_count": 2,
   "metadata": {},
   "outputs": [],
   "source": [
    "df = pd.read_csv('../raw_data/clean_dataset_1.csv').drop('Unnamed: 0', axis = 1)"
   ]
  },
  {
   "cell_type": "code",
   "execution_count": 3,
   "metadata": {},
   "outputs": [
    {
     "data": {
      "text/html": [
       "<div>\n",
       "<style scoped>\n",
       "    .dataframe tbody tr th:only-of-type {\n",
       "        vertical-align: middle;\n",
       "    }\n",
       "\n",
       "    .dataframe tbody tr th {\n",
       "        vertical-align: top;\n",
       "    }\n",
       "\n",
       "    .dataframe thead th {\n",
       "        text-align: right;\n",
       "    }\n",
       "</style>\n",
       "<table border=\"1\" class=\"dataframe\">\n",
       "  <thead>\n",
       "    <tr style=\"text-align: right;\">\n",
       "      <th></th>\n",
       "      <th>Reviewer_Score</th>\n",
       "      <th>Review_Text</th>\n",
       "      <th>reviews</th>\n",
       "    </tr>\n",
       "  </thead>\n",
       "  <tbody>\n",
       "    <tr>\n",
       "      <th>0</th>\n",
       "      <td>2.9</td>\n",
       "      <td>i am so angry that i made this post available...</td>\n",
       "      <td>i am so angry that i made this post available ...</td>\n",
       "    </tr>\n",
       "    <tr>\n",
       "      <th>1</th>\n",
       "      <td>7.5</td>\n",
       "      <td>no real complaints the hotel was great great...</td>\n",
       "      <td>no real complaint the hotel wa great great loc...</td>\n",
       "    </tr>\n",
       "    <tr>\n",
       "      <th>2</th>\n",
       "      <td>7.1</td>\n",
       "      <td>rooms are nice but for elderly a bit difficul...</td>\n",
       "      <td>room are nice but for elderly a bit difficult ...</td>\n",
       "    </tr>\n",
       "    <tr>\n",
       "      <th>3</th>\n",
       "      <td>3.8</td>\n",
       "      <td>my room was dirty and i was afraid to walk ba...</td>\n",
       "      <td>my room wa dirty and i wa afraid to walk baref...</td>\n",
       "    </tr>\n",
       "    <tr>\n",
       "      <th>4</th>\n",
       "      <td>6.7</td>\n",
       "      <td>you when i booked with your company on line y...</td>\n",
       "      <td>you when i booked with your company on line yo...</td>\n",
       "    </tr>\n",
       "  </tbody>\n",
       "</table>\n",
       "</div>"
      ],
      "text/plain": [
       "   Reviewer_Score                                        Review_Text  \\\n",
       "0             2.9   i am so angry that i made this post available...   \n",
       "1             7.5    no real complaints the hotel was great great...   \n",
       "2             7.1   rooms are nice but for elderly a bit difficul...   \n",
       "3             3.8   my room was dirty and i was afraid to walk ba...   \n",
       "4             6.7   you when i booked with your company on line y...   \n",
       "\n",
       "                                             reviews  \n",
       "0  i am so angry that i made this post available ...  \n",
       "1  no real complaint the hotel wa great great loc...  \n",
       "2  room are nice but for elderly a bit difficult ...  \n",
       "3  my room wa dirty and i wa afraid to walk baref...  \n",
       "4  you when i booked with your company on line yo...  "
      ]
     },
     "execution_count": 3,
     "metadata": {},
     "output_type": "execute_result"
    }
   ],
   "source": [
    "df.head()"
   ]
  },
  {
   "cell_type": "markdown",
   "metadata": {},
   "source": [
    "## df round to discrete numbers"
   ]
  },
  {
   "cell_type": "code",
   "execution_count": 4,
   "metadata": {},
   "outputs": [],
   "source": [
    "df['review_score'] = np.round((df['Reviewer_Score']*2)/2, decimals = 0).astype(np.int8)\n",
    "df = df.drop('Reviewer_Score', axis = 1)"
   ]
  },
  {
   "cell_type": "code",
   "execution_count": 5,
   "metadata": {},
   "outputs": [
    {
     "data": {
      "text/html": [
       "<div>\n",
       "<style scoped>\n",
       "    .dataframe tbody tr th:only-of-type {\n",
       "        vertical-align: middle;\n",
       "    }\n",
       "\n",
       "    .dataframe tbody tr th {\n",
       "        vertical-align: top;\n",
       "    }\n",
       "\n",
       "    .dataframe thead th {\n",
       "        text-align: right;\n",
       "    }\n",
       "</style>\n",
       "<table border=\"1\" class=\"dataframe\">\n",
       "  <thead>\n",
       "    <tr style=\"text-align: right;\">\n",
       "      <th></th>\n",
       "      <th>Review_Text</th>\n",
       "      <th>reviews</th>\n",
       "      <th>review_score</th>\n",
       "    </tr>\n",
       "  </thead>\n",
       "  <tbody>\n",
       "    <tr>\n",
       "      <th>0</th>\n",
       "      <td>i am so angry that i made this post available...</td>\n",
       "      <td>i am so angry that i made this post available ...</td>\n",
       "      <td>3</td>\n",
       "    </tr>\n",
       "    <tr>\n",
       "      <th>1</th>\n",
       "      <td>no real complaints the hotel was great great...</td>\n",
       "      <td>no real complaint the hotel wa great great loc...</td>\n",
       "      <td>8</td>\n",
       "    </tr>\n",
       "    <tr>\n",
       "      <th>2</th>\n",
       "      <td>rooms are nice but for elderly a bit difficul...</td>\n",
       "      <td>room are nice but for elderly a bit difficult ...</td>\n",
       "      <td>7</td>\n",
       "    </tr>\n",
       "    <tr>\n",
       "      <th>3</th>\n",
       "      <td>my room was dirty and i was afraid to walk ba...</td>\n",
       "      <td>my room wa dirty and i wa afraid to walk baref...</td>\n",
       "      <td>4</td>\n",
       "    </tr>\n",
       "    <tr>\n",
       "      <th>4</th>\n",
       "      <td>you when i booked with your company on line y...</td>\n",
       "      <td>you when i booked with your company on line yo...</td>\n",
       "      <td>7</td>\n",
       "    </tr>\n",
       "  </tbody>\n",
       "</table>\n",
       "</div>"
      ],
      "text/plain": [
       "                                         Review_Text  \\\n",
       "0   i am so angry that i made this post available...   \n",
       "1    no real complaints the hotel was great great...   \n",
       "2   rooms are nice but for elderly a bit difficul...   \n",
       "3   my room was dirty and i was afraid to walk ba...   \n",
       "4   you when i booked with your company on line y...   \n",
       "\n",
       "                                             reviews  review_score  \n",
       "0  i am so angry that i made this post available ...             3  \n",
       "1  no real complaint the hotel wa great great loc...             8  \n",
       "2  room are nice but for elderly a bit difficult ...             7  \n",
       "3  my room wa dirty and i wa afraid to walk baref...             4  \n",
       "4  you when i booked with your company on line yo...             7  "
      ]
     },
     "execution_count": 5,
     "metadata": {},
     "output_type": "execute_result"
    }
   ],
   "source": [
    "df.head()"
   ]
  },
  {
   "cell_type": "code",
   "execution_count": 6,
   "metadata": {},
   "outputs": [
    {
     "name": "stdout",
     "output_type": "stream",
     "text": [
      "<class 'pandas.core.frame.DataFrame'>\n",
      "RangeIndex: 515738 entries, 0 to 515737\n",
      "Data columns (total 3 columns):\n",
      " #   Column        Non-Null Count   Dtype \n",
      "---  ------        --------------   ----- \n",
      " 0   Review_Text   515738 non-null  object\n",
      " 1   reviews       515493 non-null  object\n",
      " 2   review_score  515738 non-null  int8  \n",
      "dtypes: int8(1), object(2)\n",
      "memory usage: 8.4+ MB\n"
     ]
    }
   ],
   "source": [
    "df.info()"
   ]
  },
  {
   "cell_type": "code",
   "execution_count": 7,
   "metadata": {},
   "outputs": [],
   "source": [
    "df['class1'] = df['review_score'].map({\n",
    "    1:'bad',\n",
    "    2:'bad',\n",
    "    3:'bad',\n",
    "    4:'bad',\n",
    "    5:'neutral',\n",
    "    6:'neutral',\n",
    "    7:'neutral',\n",
    "    8:'good',\n",
    "    9:'good',\n",
    "    10:'good',\n",
    "})\n",
    "\n",
    "\n",
    "df['class2'] = df['review_score'].map({\n",
    "    1:0,\n",
    "    2:0,\n",
    "    3:0,\n",
    "    4:0,\n",
    "    5:0,\n",
    "    6:1,\n",
    "    7:1,\n",
    "    8:1,\n",
    "    9:1,\n",
    "    10:1,\n",
    "})"
   ]
  },
  {
   "cell_type": "code",
   "execution_count": 8,
   "metadata": {},
   "outputs": [
    {
     "data": {
      "text/html": [
       "<div>\n",
       "<style scoped>\n",
       "    .dataframe tbody tr th:only-of-type {\n",
       "        vertical-align: middle;\n",
       "    }\n",
       "\n",
       "    .dataframe tbody tr th {\n",
       "        vertical-align: top;\n",
       "    }\n",
       "\n",
       "    .dataframe thead th {\n",
       "        text-align: right;\n",
       "    }\n",
       "</style>\n",
       "<table border=\"1\" class=\"dataframe\">\n",
       "  <thead>\n",
       "    <tr style=\"text-align: right;\">\n",
       "      <th></th>\n",
       "      <th>Review_Text</th>\n",
       "      <th>reviews</th>\n",
       "      <th>review_score</th>\n",
       "      <th>class1</th>\n",
       "      <th>class2</th>\n",
       "    </tr>\n",
       "  </thead>\n",
       "  <tbody>\n",
       "    <tr>\n",
       "      <th>0</th>\n",
       "      <td>i am so angry that i made this post available...</td>\n",
       "      <td>i am so angry that i made this post available ...</td>\n",
       "      <td>3</td>\n",
       "      <td>bad</td>\n",
       "      <td>0</td>\n",
       "    </tr>\n",
       "    <tr>\n",
       "      <th>1</th>\n",
       "      <td>no real complaints the hotel was great great...</td>\n",
       "      <td>no real complaint the hotel wa great great loc...</td>\n",
       "      <td>8</td>\n",
       "      <td>good</td>\n",
       "      <td>1</td>\n",
       "    </tr>\n",
       "    <tr>\n",
       "      <th>2</th>\n",
       "      <td>rooms are nice but for elderly a bit difficul...</td>\n",
       "      <td>room are nice but for elderly a bit difficult ...</td>\n",
       "      <td>7</td>\n",
       "      <td>neutral</td>\n",
       "      <td>1</td>\n",
       "    </tr>\n",
       "    <tr>\n",
       "      <th>3</th>\n",
       "      <td>my room was dirty and i was afraid to walk ba...</td>\n",
       "      <td>my room wa dirty and i wa afraid to walk baref...</td>\n",
       "      <td>4</td>\n",
       "      <td>bad</td>\n",
       "      <td>0</td>\n",
       "    </tr>\n",
       "    <tr>\n",
       "      <th>4</th>\n",
       "      <td>you when i booked with your company on line y...</td>\n",
       "      <td>you when i booked with your company on line yo...</td>\n",
       "      <td>7</td>\n",
       "      <td>neutral</td>\n",
       "      <td>1</td>\n",
       "    </tr>\n",
       "  </tbody>\n",
       "</table>\n",
       "</div>"
      ],
      "text/plain": [
       "                                         Review_Text  \\\n",
       "0   i am so angry that i made this post available...   \n",
       "1    no real complaints the hotel was great great...   \n",
       "2   rooms are nice but for elderly a bit difficul...   \n",
       "3   my room was dirty and i was afraid to walk ba...   \n",
       "4   you when i booked with your company on line y...   \n",
       "\n",
       "                                             reviews  review_score   class1  \\\n",
       "0  i am so angry that i made this post available ...             3      bad   \n",
       "1  no real complaint the hotel wa great great loc...             8     good   \n",
       "2  room are nice but for elderly a bit difficult ...             7  neutral   \n",
       "3  my room wa dirty and i wa afraid to walk baref...             4      bad   \n",
       "4  you when i booked with your company on line yo...             7  neutral   \n",
       "\n",
       "   class2  \n",
       "0       0  \n",
       "1       1  \n",
       "2       1  \n",
       "3       0  \n",
       "4       1  "
      ]
     },
     "execution_count": 8,
     "metadata": {},
     "output_type": "execute_result"
    }
   ],
   "source": [
    "df.head()"
   ]
  },
  {
   "cell_type": "markdown",
   "metadata": {},
   "source": [
    "## df drop null"
   ]
  },
  {
   "cell_type": "code",
   "execution_count": 9,
   "metadata": {},
   "outputs": [],
   "source": [
    "df = df.dropna()"
   ]
  },
  {
   "cell_type": "markdown",
   "metadata": {},
   "source": [
    "## remove comments les than x words"
   ]
  },
  {
   "cell_type": "code",
   "execution_count": 10,
   "metadata": {},
   "outputs": [],
   "source": [
    "def word_counter(X):\n",
    "    return len(X.split(' '))"
   ]
  },
  {
   "cell_type": "code",
   "execution_count": 11,
   "metadata": {},
   "outputs": [],
   "source": [
    "df['word_count'] = df['reviews'].apply(word_counter)"
   ]
  },
  {
   "cell_type": "code",
   "execution_count": 12,
   "metadata": {},
   "outputs": [],
   "source": [
    "df = df[df['word_count']>9].reset_index().drop('index', axis = 1)"
   ]
  },
  {
   "cell_type": "code",
   "execution_count": 13,
   "metadata": {},
   "outputs": [
    {
     "name": "stdout",
     "output_type": "stream",
     "text": [
      "<class 'pandas.core.frame.DataFrame'>\n",
      "RangeIndex: 400486 entries, 0 to 400485\n",
      "Data columns (total 6 columns):\n",
      " #   Column        Non-Null Count   Dtype \n",
      "---  ------        --------------   ----- \n",
      " 0   Review_Text   400486 non-null  object\n",
      " 1   reviews       400486 non-null  object\n",
      " 2   review_score  400486 non-null  int8  \n",
      " 3   class1        400486 non-null  object\n",
      " 4   class2        400486 non-null  int64 \n",
      " 5   word_count    400486 non-null  int64 \n",
      "dtypes: int64(2), int8(1), object(3)\n",
      "memory usage: 15.7+ MB\n"
     ]
    }
   ],
   "source": [
    "df.info()"
   ]
  },
  {
   "cell_type": "markdown",
   "metadata": {},
   "source": [
    "## rebalance data"
   ]
  },
  {
   "cell_type": "code",
   "execution_count": null,
   "metadata": {},
   "outputs": [],
   "source": [
    "## create a list of unique y-values\n",
    "df['review_score'].unique()\n",
    "\n",
    "counts = df['review_score'].value_counts()\n",
    "\n",
    "df['Counts'] = df['review_score'].map(counts)\n",
    "\n",
    "df_more_than_xxx = df[df['Counts'] > 999]\n",
    "\n",
    "unique_values = df_more_than_xxx['review_score'].unique()"
   ]
  },
  {
   "cell_type": "code",
   "execution_count": null,
   "metadata": {},
   "outputs": [],
   "source": [
    "## create a function to rebalance the data\n",
    "def balance_df(lst, df):\n",
    "    dict_dfs = {}\n",
    "    \n",
    "    for val in lst:\n",
    "        df_val = df[df['review_score'] == val]\n",
    "        \n",
    "        dict_dfs[val] = df_val.sample(n=1000)\n",
    "        \n",
    "    return dict_dfs"
   ]
  },
  {
   "cell_type": "code",
   "execution_count": null,
   "metadata": {},
   "outputs": [],
   "source": [
    "## get the df's from the dict, merge and shuffle them\n",
    "\n",
    "## get the the dict with the dfs inside\n",
    "dct_dfs = balance_df(unique_values, df_more_than_xxx)\n",
    "\n",
    "## concat the dfs\n",
    "df_balanced_sorted = pd.concat(dct_dfs.values(), ignore_index=True)\n",
    "\n",
    "## shuffle the rows of the df\n",
    "df_balanced = df_balanced_sorted.sample(frac=1).reset_index(drop=True)\n",
    "\n",
    "df_balanced"
   ]
  },
  {
   "cell_type": "code",
   "execution_count": null,
   "metadata": {},
   "outputs": [],
   "source": [
    "df_balanced['class2'].value_counts()"
   ]
  },
  {
   "cell_type": "code",
   "execution_count": null,
   "metadata": {},
   "outputs": [],
   "source": [
    "## show a part of the rebalanced df\n",
    "plt.plot(np.arange(200), df_balanced['review_score'][:200])"
   ]
  },
  {
   "cell_type": "code",
   "execution_count": null,
   "metadata": {},
   "outputs": [],
   "source": [
    "## at this point we got 9000 rows"
   ]
  },
  {
   "cell_type": "markdown",
   "metadata": {},
   "source": [
    "## one hot encode y"
   ]
  },
  {
   "cell_type": "code",
   "execution_count": null,
   "metadata": {},
   "outputs": [],
   "source": [
    "# from sklearn.preprocessing import OneHotEncoder\n",
    "\n",
    "# encoder = OneHotEncoder()\n",
    "\n",
    "# y_bin = encoder.fit_transform(df_balanced[['class']])\n",
    "\n",
    "# y_bin"
   ]
  },
  {
   "cell_type": "code",
   "execution_count": null,
   "metadata": {},
   "outputs": [],
   "source": [
    "# y_bin = y_bin.toarray()"
   ]
  },
  {
   "cell_type": "markdown",
   "metadata": {},
   "source": [
    "## dataset 3"
   ]
  },
  {
   "cell_type": "code",
   "execution_count": null,
   "metadata": {},
   "outputs": [],
   "source": [
    "# df = pd.read_csv('../raw_data/dataset_3_clean.csv')"
   ]
  },
  {
   "cell_type": "code",
   "execution_count": null,
   "metadata": {},
   "outputs": [],
   "source": [
    "# df.head()"
   ]
  },
  {
   "cell_type": "markdown",
   "metadata": {},
   "source": [
    "## split the data"
   ]
  },
  {
   "cell_type": "code",
   "execution_count": 14,
   "metadata": {},
   "outputs": [],
   "source": [
    "# X_train = df_balanced['reviews'][:6000]\n",
    "# X_test = df_balanced['reviews'][6000:]\n",
    "\n",
    "X_train = df['reviews'][:60000]\n",
    "X_test = df['reviews'][60000:100000]\n",
    "\n",
    "## one hot encode multiclass\n",
    "# y_train = y_bin[:6000]\n",
    "# y_test = y_bin[6000:]\n",
    "\n",
    "\n",
    "# ## binary classification\n",
    "# y_train = df_balanced['class2'][:6000]\n",
    "# y_test = df_balanced['class2'][6000:]\n",
    "\n",
    "\n",
    "## binary classification\n",
    "y_train = df['review_score'][:60000]\n",
    "y_test = df['review_score'][60000:100000]"
   ]
  },
  {
   "cell_type": "code",
   "execution_count": 26,
   "metadata": {},
   "outputs": [
    {
     "data": {
      "text/plain": [
       "(60000,)"
      ]
     },
     "execution_count": 26,
     "metadata": {},
     "output_type": "execute_result"
    }
   ],
   "source": [
    "X_train.shape"
   ]
  },
  {
   "cell_type": "code",
   "execution_count": 27,
   "metadata": {},
   "outputs": [
    {
     "data": {
      "text/plain": [
       "'i am so angry that i made this post available via all possible site i use when planing my trip so no one will make the mistake of booking this place i made my booking via booking com we stayed for night in this hotel from to july upon arrival we were placed in a small room on the nd floor of the hotel it turned out that this wa not the room we booked i had specially reserved the level duplex room so that we would have a big window and high ceiling the room itself wa ok if you don t mind the broken window that can not be closed hello rain and a mini fridge that contained some sort of a bio weapon at least i guessed so by the smell of it i intimately asked to change the room and after explaining time that i booked a duplex btw it cost the same a a simple double but got way more volume due to the high ceiling wa offered a room but only the next day so i had to check out the next day before o clock in order to get the room i waned to not the best way to begin your holiday so we had to wait till in order to check in my new room what a wonderful waist of my time the room i got wa just a i wanted to peaceful internal garden view big window we were tired from waiting the room so we placed our belonging and rushed to the city in the evening it turned out that there wa a constant noise in the room i guess it wa made by vibrating vent tube or something it wa constant and annoying a hell and it did not stop even at am making it hard to fall asleep for me and my wife i have an audio recording that i can not attach here but if you want i can send it via e mail the next day the technician came but wa not able to determine the cause of the disturbing sound so i wa offered to change the room once again the hotel wa fully booked and they had only room left the one that wa smaller but seems newer only the park outside of the hotel wa beautiful'"
      ]
     },
     "execution_count": 27,
     "metadata": {},
     "output_type": "execute_result"
    }
   ],
   "source": [
    "X_train[0]"
   ]
  },
  {
   "cell_type": "markdown",
   "metadata": {},
   "source": [
    "## vectorizing und embedding"
   ]
  },
  {
   "cell_type": "code",
   "execution_count": 82,
   "metadata": {},
   "outputs": [],
   "source": [
    "# –– Step #1 split the sentence into tokens\n",
    "def convert_sentences(X):\n",
    "    return [sentence.split(' ') for sentence in X]\n",
    "\n",
    "X_train_words = convert_sentences(X_train)\n",
    "X_test_words = convert_sentences(X_test)\n",
    "\n",
    "\n",
    "# –– Step #2\n",
    "from gensim.models import Word2Vec\n",
    "word2vec = Word2Vec(sentences=X_train, size=200, min_count=1, window=5)\n",
    "\n",
    "\n",
    "# –– Step #3\n",
    "def embed_sentence(word2vec, sentence):\n",
    "    embedded_sentence = []\n",
    "    for word in sentence:\n",
    "        if word in word2vec.wv:\n",
    "            embedded_sentence.append(word2vec.wv[word])\n",
    "        \n",
    "    return np.array(embedded_sentence)\n",
    "\n",
    "\n",
    "def embedding(word2vec, sentences):\n",
    "    embed = []\n",
    "    \n",
    "    for sentence in sentences:\n",
    "        embedded_sentence = embed_sentence(word2vec, sentence)\n",
    "        ## transforming list of vectors into one vector\n",
    "        \n",
    "        sum_vec = embedded_sentence.sum(axis = 0)\n",
    "        \n",
    "        ## put zeros when sum_vec has invalid shape\n",
    "        if sum_vec.shape != (200,):\n",
    "            sum_vec = np.zeros(200)\n",
    "            \n",
    "        embed.append(sum_vec)\n",
    "        \n",
    "    ## transform a list into a np-matrix\n",
    "    return np.vstack(embed)\n",
    "\n",
    "\n",
    "X_train_vstack = embedding(word2vec, X_train_words)\n",
    "X_test_vstack = embedding(word2vec, X_test_words)"
   ]
  },
  {
   "cell_type": "markdown",
   "metadata": {},
   "source": [
    "## padding"
   ]
  },
  {
   "cell_type": "code",
   "execution_count": 39,
   "metadata": {},
   "outputs": [],
   "source": [
    "# from tensorflow.keras.preprocessing.sequence import pad_sequences\n",
    "\n",
    "# X_train_pad = pad_sequences(X_train_embed, dtype='float32', padding='post')\n",
    "# X_test_pad = pad_sequences(X_test_embed, dtype='float32', padding='post')"
   ]
  },
  {
   "cell_type": "markdown",
   "metadata": {},
   "source": [
    "## Model"
   ]
  },
  {
   "cell_type": "code",
   "execution_count": 95,
   "metadata": {},
   "outputs": [],
   "source": [
    "from tensorflow.keras.models import Sequential\n",
    "from tensorflow.keras import layers, metrics\n",
    "\n",
    "\n",
    "def init_model():\n",
    "    model = Sequential()\n",
    "\n",
    "    model.add(layers.Dense(32, activation='relu', input_dim = 200))\n",
    "#     model.add(layers.Flatten())\n",
    "    model.add(layers.Dense(50, activation='relu'))\n",
    "\n",
    "    model.add(layers.Dense(20, activation='relu'))\n",
    "    \n",
    "    \n",
    "    model.add(layers.Dense(10, activation='relu'))\n",
    "\n",
    "    ## output layer\n",
    "    model.add(layers.Dense(1, activation='linear'))\n",
    "\n",
    "\n",
    "    model.compile(loss='mse',\n",
    "                  optimizer='adam',\n",
    "                  metrics=['mae', metrics.RootMeanSquaredError()])\n",
    "    \n",
    "    return model\n",
    "\n",
    "model = init_model()"
   ]
  },
  {
   "cell_type": "code",
   "execution_count": 96,
   "metadata": {},
   "outputs": [
    {
     "name": "stdout",
     "output_type": "stream",
     "text": [
      "Epoch 1/100\n",
      "1313/1313 [==============================] - 3s 2ms/step - loss: 18.1058 - mae: 3.0714 - root_mean_squared_error: 3.9996 - val_loss: 3.6432 - val_mae: 1.5551 - val_root_mean_squared_error: 1.9087\n",
      "Epoch 2/100\n",
      "1313/1313 [==============================] - 3s 2ms/step - loss: 2.8277 - mae: 1.3439 - root_mean_squared_error: 1.6816 - val_loss: 4.0110 - val_mae: 1.5133 - val_root_mean_squared_error: 2.0027\n",
      "Epoch 3/100\n",
      "1313/1313 [==============================] - 3s 2ms/step - loss: 2.7777 - mae: 1.3270 - root_mean_squared_error: 1.6666 - val_loss: 3.8182 - val_mae: 1.5108 - val_root_mean_squared_error: 1.9540\n",
      "Epoch 4/100\n",
      "1313/1313 [==============================] - 3s 2ms/step - loss: 2.7697 - mae: 1.3267 - root_mean_squared_error: 1.6641 - val_loss: 3.6433 - val_mae: 1.5132 - val_root_mean_squared_error: 1.9088\n",
      "Epoch 5/100\n",
      "1313/1313 [==============================] - 3s 2ms/step - loss: 2.7647 - mae: 1.3260 - root_mean_squared_error: 1.6627 - val_loss: 3.7908 - val_mae: 1.5090 - val_root_mean_squared_error: 1.9470\n",
      "Epoch 6/100\n",
      "1313/1313 [==============================] - 3s 2ms/step - loss: 2.7259 - mae: 1.3154 - root_mean_squared_error: 1.6510 - val_loss: 3.6917 - val_mae: 1.5187 - val_root_mean_squared_error: 1.9214\n"
     ]
    }
   ],
   "source": [
    "# X_train_pad_short = X_train_pad[:500] # These two lines are just to accelerate the cell run\n",
    "# y_train_short = y_train[:500]\n",
    "\n",
    "from tensorflow.keras.callbacks import EarlyStopping\n",
    "\n",
    "es = EarlyStopping(patience=5, restore_best_weights=True)\n",
    "\n",
    "history = model.fit(X_train_vstack, y_train, \n",
    "          batch_size = 32,\n",
    "          epochs=100,\n",
    "          validation_split=0.3,\n",
    "          callbacks=[es]\n",
    "         )"
   ]
  },
  {
   "cell_type": "code",
   "execution_count": 97,
   "metadata": {},
   "outputs": [
    {
     "data": {
      "text/plain": [
       "[3.1745622158050537, 1.4594547748565674, 1.7817301750183105]"
      ]
     },
     "execution_count": 97,
     "metadata": {},
     "output_type": "execute_result"
    }
   ],
   "source": [
    "res = model.evaluate(X_test_vstack, y_test, verbose=0)\n",
    "res"
   ]
  },
  {
   "cell_type": "markdown",
   "metadata": {},
   "source": [
    "## Prediction"
   ]
  },
  {
   "cell_type": "code",
   "execution_count": 79,
   "metadata": {},
   "outputs": [],
   "source": [
    "sentence1 = \"While am generally happy with their service, there is a push to take a considerable discount for a reservation that does not allow cancellations. The standard undiscounted price is about the same as booking directly with the option of cancellations. Using Booking.com is merely a convenience. The discount for forgoing cancellation needs to be comared with the cost of cancellation insurance. Even if one can't use the reservation because of government restrictions the hotels sock it to the customer for far more than their out of pocket costs since at worst they don't have to service the rooms and at best can re-rent them. Bottom line: Don't be taken in by Booking.com's apparently cheap nonrefundable offers.\"\n",
    "sentence2 = \"Great vacation until we tried to travel home. We tried calling and waited more than 2 hours for a callback and then they were unable/unwilling to help us. Stranded for 48 hours because of this company with no help rebooking flights. We are out for hotel, food, and time off work because I was hung up on repeatedly by their customer service department. Once I was finally home, they told me there's nothing they can do for me that they were really sorry all this happened. They were unwilling to make it right, but told me that I could have requested a refund for my flight home if I would have been able to reach them at the time.\""
   ]
  },
  {
   "cell_type": "code",
   "execution_count": 80,
   "metadata": {},
   "outputs": [],
   "source": [
    "lst = [sentence1, sentence2]"
   ]
  },
  {
   "cell_type": "code",
   "execution_count": 83,
   "metadata": {},
   "outputs": [
    {
     "data": {
      "text/plain": [
       "array([[8.970053],\n",
       "       [8.771551]], dtype=float32)"
      ]
     },
     "execution_count": 83,
     "metadata": {},
     "output_type": "execute_result"
    }
   ],
   "source": [
    "## convert into tokens\n",
    "tokens = convert_sentences(lst)\n",
    "\n",
    "## convert tokens into vectors\n",
    "vectors = embedding(word2vec, tokens)\n",
    "\n",
    "## padding the vectors\n",
    "# vectors_padding = pad_sequences(vectors, dtype='float32', padding='post')\n",
    "\n",
    "## predict\n",
    "prediction = model.predict(vectors)\n",
    "\n",
    "prediction"
   ]
  }
 ],
 "metadata": {
  "kernelspec": {
   "display_name": "Python 3",
   "language": "python",
   "name": "python3"
  },
  "language_info": {
   "codemirror_mode": {
    "name": "ipython",
    "version": 3
   },
   "file_extension": ".py",
   "mimetype": "text/x-python",
   "name": "python",
   "nbconvert_exporter": "python",
   "pygments_lexer": "ipython3",
   "version": "3.8.6"
  }
 },
 "nbformat": 4,
 "nbformat_minor": 4
}
