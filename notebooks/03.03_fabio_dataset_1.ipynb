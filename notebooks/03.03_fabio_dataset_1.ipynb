{
 "cells": [
  {
   "cell_type": "markdown",
   "metadata": {},
   "source": [
    "### Imports and loading data"
   ]
  },
  {
   "cell_type": "code",
   "execution_count": 1,
   "metadata": {},
   "outputs": [],
   "source": [
    "import pandas as pd\n",
    "import numpy as np\n",
    "import string\n",
    "import nltk\n",
    "from nltk.corpus import stopwords\n",
    "from nltk.tokenize import word_tokenize\n",
    "from nltk.stem import WordNetLemmatizer"
   ]
  },
  {
   "cell_type": "code",
   "execution_count": 55,
   "metadata": {},
   "outputs": [],
   "source": [
    "dataset_1 = pd.read_csv(\"../raw_data/dataset_1.csv\")"
   ]
  },
  {
   "cell_type": "markdown",
   "metadata": {},
   "source": [
    "### Inspecting data"
   ]
  },
  {
   "cell_type": "raw",
   "metadata": {},
   "source": [
    "dataset_1.head()"
   ]
  },
  {
   "cell_type": "raw",
   "metadata": {},
   "source": [
    "dataset_1.info()"
   ]
  },
  {
   "cell_type": "raw",
   "metadata": {},
   "source": [
    "dataset_1.describe()"
   ]
  },
  {
   "cell_type": "markdown",
   "metadata": {},
   "source": [
    "### Dropping redundant columns"
   ]
  },
  {
   "cell_type": "code",
   "execution_count": 56,
   "metadata": {},
   "outputs": [],
   "source": [
    "dataset_1 = dataset_1[['Negative_Review', 'Positive_Review', 'Reviewer_Score']]"
   ]
  },
  {
   "cell_type": "markdown",
   "metadata": {},
   "source": [
    "### Cleaning and merging negative and positive reviews"
   ]
  },
  {
   "cell_type": "code",
   "execution_count": 57,
   "metadata": {},
   "outputs": [],
   "source": [
    "dataset_1[['Negative_Review']] = dataset_1[['Negative_Review']].replace(to_replace=\"No Negative\", value=\"\")\n",
    "\n",
    "dataset_1[['Positive_Review']] = dataset_1[['Positive_Review']].replace(to_replace=\"No Positive\", value=\"\")\n",
    "\n",
    "dataset_1[\"Review_Text\"] = dataset_1['Negative_Review'] + \" \" + dataset_1['Positive_Review']\n",
    "\n",
    "dataset_1 = dataset_1.drop(columns=['Negative_Review', 'Positive_Review'])"
   ]
  },
  {
   "cell_type": "markdown",
   "metadata": {},
   "source": [
    "### Lower case"
   ]
  },
  {
   "cell_type": "code",
   "execution_count": 58,
   "metadata": {},
   "outputs": [],
   "source": [
    "dataset_1['Review_Text'] = dataset_1['Review_Text'].apply(lambda x: x.lower())"
   ]
  },
  {
   "cell_type": "markdown",
   "metadata": {},
   "source": [
    "### Remove numbers"
   ]
  },
  {
   "cell_type": "code",
   "execution_count": 59,
   "metadata": {},
   "outputs": [],
   "source": [
    "def remove_numbers(text):\n",
    "    text = ''.join(word for word in text if not word.isdigit())\n",
    "    return text\n",
    "\n",
    "dataset_1['Review_Text'] = dataset_1['Review_Text'].apply(remove_numbers)"
   ]
  },
  {
   "cell_type": "markdown",
   "metadata": {},
   "source": [
    "### Remove punctuation"
   ]
  },
  {
   "cell_type": "code",
   "execution_count": 60,
   "metadata": {},
   "outputs": [],
   "source": [
    "for punctuation in string.punctuation:\n",
    "    dataset_1['Review_Text'] = dataset_1['Review_Text'].replace(punctuation, '') "
   ]
  },
  {
   "cell_type": "markdown",
   "metadata": {},
   "source": [
    "### Remove stopwords"
   ]
  },
  {
   "cell_type": "code",
   "execution_count": 61,
   "metadata": {},
   "outputs": [],
   "source": [
    "def custom_stopwords():\n",
    "    \"\"\"create custom stopwords list excluding negative words\"\"\"\n",
    "    negative_words = ['no',\n",
    "    'nor',\n",
    "    'not',\n",
    "    \"don't\",\n",
    "    'should',\n",
    "    \"should've\",\n",
    "    'aren',\n",
    "    \"aren't\",\n",
    "    'couldn',\n",
    "    \"couldn't\",\n",
    "    'didn',\n",
    "    \"didn't\",\n",
    "    'doesn',\n",
    "    \"doesn't\",\n",
    "    'hadn',\n",
    "    \"hadn't\",\n",
    "    'hasn',\n",
    "    \"hasn't\",\n",
    "    'haven',\n",
    "    \"haven't\",\n",
    "    'isn',\n",
    "    \"isn't\",\n",
    "    \"wasn't\",\n",
    "    'weren',\n",
    "    \"weren't\",\n",
    "    'won',\n",
    "    \"won't\",\n",
    "    'wouldn',\n",
    "    \"wouldn't\"]\n",
    "    custom_stopwords = [x for x in stopwords.words('english') if x not in negative_words]\n",
    "    return custom_stopwords\n",
    "\n",
    "custom_stopwords = custom_stopwords()"
   ]
  },
  {
   "cell_type": "code",
   "execution_count": 63,
   "metadata": {},
   "outputs": [],
   "source": [
    "# custom_stopwords "
   ]
  },
  {
   "cell_type": "code",
   "execution_count": 64,
   "metadata": {},
   "outputs": [],
   "source": [
    "stop_words = custom_stopwords\n",
    "dataset_1['reviews'] = dataset_1['Review_Text'].map(word_tokenize)\n",
    "dataset_1['reviews'] = dataset_1['reviews'].map(lambda x: [w for w in x if not w in stop_words])"
   ]
  },
  {
   "cell_type": "markdown",
   "metadata": {},
   "source": [
    "### Lemmatizing"
   ]
  },
  {
   "cell_type": "code",
   "execution_count": 65,
   "metadata": {},
   "outputs": [],
   "source": [
    "lemmatizer = WordNetLemmatizer()\n",
    "\n",
    "def lemmatizing(text):\n",
    "    lemmatized = [lemmatizer.lemmatize(word) for word in text]\n",
    "    text = lemmatized\n",
    "    text = ' '.join(word for word in text)\n",
    "    return text\n",
    "\n",
    "dataset_1['reviews'] = dataset_1['reviews'].apply(lemmatizing)"
   ]
  },
  {
   "cell_type": "markdown",
   "metadata": {},
   "source": [
    "### Custom scaling and rounding"
   ]
  },
  {
   "cell_type": "code",
   "execution_count": 66,
   "metadata": {},
   "outputs": [],
   "source": [
    "dataset_1['review_score'] = dataset_1['Reviewer_Score'] # / 10\n",
    "\n",
    "dataset_1 = dataset_1.drop(columns=['Review_Text', 'Reviewer_Score'])\n",
    "\n",
    "dataset_1['review_score'] = dataset_1['review_score'].round(decimals=2)"
   ]
  },
  {
   "cell_type": "code",
   "execution_count": 67,
   "metadata": {},
   "outputs": [
    {
     "data": {
      "text/html": [
       "<div>\n",
       "<style scoped>\n",
       "    .dataframe tbody tr th:only-of-type {\n",
       "        vertical-align: middle;\n",
       "    }\n",
       "\n",
       "    .dataframe tbody tr th {\n",
       "        vertical-align: top;\n",
       "    }\n",
       "\n",
       "    .dataframe thead th {\n",
       "        text-align: right;\n",
       "    }\n",
       "</style>\n",
       "<table border=\"1\" class=\"dataframe\">\n",
       "  <thead>\n",
       "    <tr style=\"text-align: right;\">\n",
       "      <th></th>\n",
       "      <th>reviews</th>\n",
       "      <th>review_score</th>\n",
       "    </tr>\n",
       "  </thead>\n",
       "  <tbody>\n",
       "    <tr>\n",
       "      <th>0</th>\n",
       "      <td>angry made post available via possible site us...</td>\n",
       "      <td>2.9</td>\n",
       "    </tr>\n",
       "    <tr>\n",
       "      <th>1</th>\n",
       "      <td>no real complaint hotel great great location s...</td>\n",
       "      <td>7.5</td>\n",
       "    </tr>\n",
       "    <tr>\n",
       "      <th>2</th>\n",
       "      <td>room nice elderly bit difficult room two story...</td>\n",
       "      <td>7.1</td>\n",
       "    </tr>\n",
       "    <tr>\n",
       "      <th>3</th>\n",
       "      <td>room dirty afraid walk barefoot floor looked n...</td>\n",
       "      <td>3.8</td>\n",
       "    </tr>\n",
       "    <tr>\n",
       "      <th>4</th>\n",
       "      <td>booked company line showed picture room though...</td>\n",
       "      <td>6.7</td>\n",
       "    </tr>\n",
       "    <tr>\n",
       "      <th>...</th>\n",
       "      <td>...</td>\n",
       "      <td>...</td>\n",
       "    </tr>\n",
       "    <tr>\n",
       "      <th>515733</th>\n",
       "      <td>no trolly staff help take luggage room location</td>\n",
       "      <td>7.0</td>\n",
       "    </tr>\n",
       "    <tr>\n",
       "      <th>515734</th>\n",
       "      <td>hotel look like surely not breakfast ok got ea...</td>\n",
       "      <td>5.8</td>\n",
       "    </tr>\n",
       "    <tr>\n",
       "      <th>515735</th>\n",
       "      <td>ac useless hot week vienna gave hot air</td>\n",
       "      <td>2.5</td>\n",
       "    </tr>\n",
       "    <tr>\n",
       "      <th>515736</th>\n",
       "      <td>room enormous really comfortable believe famil...</td>\n",
       "      <td>8.8</td>\n",
       "    </tr>\n",
       "    <tr>\n",
       "      <th>515737</th>\n",
       "      <td>rd floor didn work free wife staff kind</td>\n",
       "      <td>8.3</td>\n",
       "    </tr>\n",
       "  </tbody>\n",
       "</table>\n",
       "<p>515738 rows × 2 columns</p>\n",
       "</div>"
      ],
      "text/plain": [
       "                                                  reviews  review_score\n",
       "0       angry made post available via possible site us...           2.9\n",
       "1       no real complaint hotel great great location s...           7.5\n",
       "2       room nice elderly bit difficult room two story...           7.1\n",
       "3       room dirty afraid walk barefoot floor looked n...           3.8\n",
       "4       booked company line showed picture room though...           6.7\n",
       "...                                                   ...           ...\n",
       "515733    no trolly staff help take luggage room location           7.0\n",
       "515734  hotel look like surely not breakfast ok got ea...           5.8\n",
       "515735            ac useless hot week vienna gave hot air           2.5\n",
       "515736  room enormous really comfortable believe famil...           8.8\n",
       "515737            rd floor didn work free wife staff kind           8.3\n",
       "\n",
       "[515738 rows x 2 columns]"
      ]
     },
     "execution_count": 67,
     "metadata": {},
     "output_type": "execute_result"
    }
   ],
   "source": [
    "#Final check\n",
    "dataset_1"
   ]
  },
  {
   "cell_type": "markdown",
   "metadata": {},
   "source": [
    "### Exporting to csv"
   ]
  },
  {
   "cell_type": "code",
   "execution_count": 14,
   "metadata": {},
   "outputs": [],
   "source": [
    "#dataset_1.to_csv('../raw_data/clean_dataset_1.csv')"
   ]
  },
  {
   "cell_type": "markdown",
   "metadata": {},
   "source": [
    "------------------------------------- NEW FILE --------------------------"
   ]
  },
  {
   "cell_type": "code",
   "execution_count": 68,
   "metadata": {},
   "outputs": [],
   "source": [
    "import numpy as np\n",
    "import string\n",
    "import nltk\n",
    "from nltk.tokenize import word_tokenize"
   ]
  },
  {
   "cell_type": "markdown",
   "metadata": {},
   "source": [
    "# Import CSV"
   ]
  },
  {
   "cell_type": "code",
   "execution_count": 69,
   "metadata": {},
   "outputs": [
    {
     "data": {
      "text/html": [
       "<div>\n",
       "<style scoped>\n",
       "    .dataframe tbody tr th:only-of-type {\n",
       "        vertical-align: middle;\n",
       "    }\n",
       "\n",
       "    .dataframe tbody tr th {\n",
       "        vertical-align: top;\n",
       "    }\n",
       "\n",
       "    .dataframe thead th {\n",
       "        text-align: right;\n",
       "    }\n",
       "</style>\n",
       "<table border=\"1\" class=\"dataframe\">\n",
       "  <thead>\n",
       "    <tr style=\"text-align: right;\">\n",
       "      <th></th>\n",
       "      <th>reviews</th>\n",
       "      <th>review_score</th>\n",
       "    </tr>\n",
       "  </thead>\n",
       "  <tbody>\n",
       "    <tr>\n",
       "      <th>0</th>\n",
       "      <td>angry made post available via possible site us...</td>\n",
       "      <td>2.9</td>\n",
       "    </tr>\n",
       "    <tr>\n",
       "      <th>1</th>\n",
       "      <td>no real complaint hotel great great location s...</td>\n",
       "      <td>7.5</td>\n",
       "    </tr>\n",
       "    <tr>\n",
       "      <th>2</th>\n",
       "      <td>room nice elderly bit difficult room two story...</td>\n",
       "      <td>7.1</td>\n",
       "    </tr>\n",
       "    <tr>\n",
       "      <th>3</th>\n",
       "      <td>room dirty afraid walk barefoot floor looked n...</td>\n",
       "      <td>3.8</td>\n",
       "    </tr>\n",
       "    <tr>\n",
       "      <th>4</th>\n",
       "      <td>booked company line showed picture room though...</td>\n",
       "      <td>6.7</td>\n",
       "    </tr>\n",
       "    <tr>\n",
       "      <th>...</th>\n",
       "      <td>...</td>\n",
       "      <td>...</td>\n",
       "    </tr>\n",
       "    <tr>\n",
       "      <th>515733</th>\n",
       "      <td>no trolly staff help take luggage room location</td>\n",
       "      <td>7.0</td>\n",
       "    </tr>\n",
       "    <tr>\n",
       "      <th>515734</th>\n",
       "      <td>hotel look like surely not breakfast ok got ea...</td>\n",
       "      <td>5.8</td>\n",
       "    </tr>\n",
       "    <tr>\n",
       "      <th>515735</th>\n",
       "      <td>ac useless hot week vienna gave hot air</td>\n",
       "      <td>2.5</td>\n",
       "    </tr>\n",
       "    <tr>\n",
       "      <th>515736</th>\n",
       "      <td>room enormous really comfortable believe famil...</td>\n",
       "      <td>8.8</td>\n",
       "    </tr>\n",
       "    <tr>\n",
       "      <th>515737</th>\n",
       "      <td>rd floor didn work free wife staff kind</td>\n",
       "      <td>8.3</td>\n",
       "    </tr>\n",
       "  </tbody>\n",
       "</table>\n",
       "<p>515738 rows × 2 columns</p>\n",
       "</div>"
      ],
      "text/plain": [
       "                                                  reviews  review_score\n",
       "0       angry made post available via possible site us...           2.9\n",
       "1       no real complaint hotel great great location s...           7.5\n",
       "2       room nice elderly bit difficult room two story...           7.1\n",
       "3       room dirty afraid walk barefoot floor looked n...           3.8\n",
       "4       booked company line showed picture room though...           6.7\n",
       "...                                                   ...           ...\n",
       "515733    no trolly staff help take luggage room location           7.0\n",
       "515734  hotel look like surely not breakfast ok got ea...           5.8\n",
       "515735            ac useless hot week vienna gave hot air           2.5\n",
       "515736  room enormous really comfortable believe famil...           8.8\n",
       "515737            rd floor didn work free wife staff kind           8.3\n",
       "\n",
       "[515738 rows x 2 columns]"
      ]
     },
     "execution_count": 69,
     "metadata": {},
     "output_type": "execute_result"
    }
   ],
   "source": [
    "#data = pd.read_csv(\"../raw_data/clean_dataset_1.csv\", index_col=0)\n",
    "data = dataset_1\n",
    "data"
   ]
  },
  {
   "cell_type": "markdown",
   "metadata": {},
   "source": [
    "# Remove less than 10 words (To Do)"
   ]
  },
  {
   "cell_type": "code",
   "execution_count": 70,
   "metadata": {},
   "outputs": [
    {
     "data": {
      "text/html": [
       "<div>\n",
       "<style scoped>\n",
       "    .dataframe tbody tr th:only-of-type {\n",
       "        vertical-align: middle;\n",
       "    }\n",
       "\n",
       "    .dataframe tbody tr th {\n",
       "        vertical-align: top;\n",
       "    }\n",
       "\n",
       "    .dataframe thead th {\n",
       "        text-align: right;\n",
       "    }\n",
       "</style>\n",
       "<table border=\"1\" class=\"dataframe\">\n",
       "  <thead>\n",
       "    <tr style=\"text-align: right;\">\n",
       "      <th></th>\n",
       "      <th>reviews</th>\n",
       "      <th>review_score</th>\n",
       "    </tr>\n",
       "  </thead>\n",
       "  <tbody>\n",
       "    <tr>\n",
       "      <th>0</th>\n",
       "      <td>angry made post available via possible site us...</td>\n",
       "      <td>2.9</td>\n",
       "    </tr>\n",
       "    <tr>\n",
       "      <th>1</th>\n",
       "      <td>no real complaint hotel great great location s...</td>\n",
       "      <td>7.5</td>\n",
       "    </tr>\n",
       "    <tr>\n",
       "      <th>2</th>\n",
       "      <td>room nice elderly bit difficult room two story...</td>\n",
       "      <td>7.1</td>\n",
       "    </tr>\n",
       "    <tr>\n",
       "      <th>3</th>\n",
       "      <td>room dirty afraid walk barefoot floor looked n...</td>\n",
       "      <td>3.8</td>\n",
       "    </tr>\n",
       "    <tr>\n",
       "      <th>4</th>\n",
       "      <td>booked company line showed picture room though...</td>\n",
       "      <td>6.7</td>\n",
       "    </tr>\n",
       "    <tr>\n",
       "      <th>...</th>\n",
       "      <td>...</td>\n",
       "      <td>...</td>\n",
       "    </tr>\n",
       "    <tr>\n",
       "      <th>306040</th>\n",
       "      <td>noisy night air causing loud banging heating p...</td>\n",
       "      <td>6.3</td>\n",
       "    </tr>\n",
       "    <tr>\n",
       "      <th>306041</th>\n",
       "      <td>put fotos cinde room see booking location give...</td>\n",
       "      <td>5.4</td>\n",
       "    </tr>\n",
       "    <tr>\n",
       "      <th>306042</th>\n",
       "      <td>wifi location no tea coffee room rather cheap ...</td>\n",
       "      <td>5.8</td>\n",
       "    </tr>\n",
       "    <tr>\n",
       "      <th>306043</th>\n",
       "      <td>breakfast excelent lot fress fruit hotel good ...</td>\n",
       "      <td>10.0</td>\n",
       "    </tr>\n",
       "    <tr>\n",
       "      <th>306044</th>\n",
       "      <td>no free parking room another building need exi...</td>\n",
       "      <td>6.7</td>\n",
       "    </tr>\n",
       "  </tbody>\n",
       "</table>\n",
       "<p>306045 rows × 2 columns</p>\n",
       "</div>"
      ],
      "text/plain": [
       "                                                  reviews  review_score\n",
       "0       angry made post available via possible site us...           2.9\n",
       "1       no real complaint hotel great great location s...           7.5\n",
       "2       room nice elderly bit difficult room two story...           7.1\n",
       "3       room dirty afraid walk barefoot floor looked n...           3.8\n",
       "4       booked company line showed picture room though...           6.7\n",
       "...                                                   ...           ...\n",
       "306040  noisy night air causing loud banging heating p...           6.3\n",
       "306041  put fotos cinde room see booking location give...           5.4\n",
       "306042  wifi location no tea coffee room rather cheap ...           5.8\n",
       "306043  breakfast excelent lot fress fruit hotel good ...          10.0\n",
       "306044  no free parking room another building need exi...           6.7\n",
       "\n",
       "[306045 rows x 2 columns]"
      ]
     },
     "execution_count": 70,
     "metadata": {},
     "output_type": "execute_result"
    }
   ],
   "source": [
    "data['length'] = data['reviews'].apply(lambda x: len(word_tokenize(str(x))))\n",
    "data.drop(data[data['length'] < 11].index, inplace=True)\n",
    "data.drop(columns=['length'], inplace=True)\n",
    "data.reset_index(drop=True, inplace=True)\n",
    "data"
   ]
  },
  {
   "cell_type": "markdown",
   "metadata": {},
   "source": [
    "### DROPS w/Regular Stopwords: 299740 / No Stopwords: 386133  / Custom Stopwords: 306045"
   ]
  },
  {
   "cell_type": "code",
   "execution_count": 71,
   "metadata": {},
   "outputs": [
    {
     "data": {
      "text/plain": [
       "(306045, 2)"
      ]
     },
     "execution_count": 71,
     "metadata": {},
     "output_type": "execute_result"
    }
   ],
   "source": [
    "data.shape"
   ]
  },
  {
   "cell_type": "markdown",
   "metadata": {},
   "source": [
    "## RMSE SCORER"
   ]
  },
  {
   "cell_type": "code",
   "execution_count": 191,
   "metadata": {},
   "outputs": [],
   "source": [
    "from sklearn.metrics import fbeta_score, make_scorer\n",
    "from sklearn.metrics import mean_squared_error\n",
    "\n",
    "def rmse_function(y_test, y_train):\n",
    "    return np.sqrt(mean_squared_error(y_test, y_train))\n",
    "\n",
    "rmse_scorer = make_scorer(rmse_function)\n",
    "\n",
    "# def rmsle_neg_func(y_test, y_train):\n",
    "#     return np.sqrt(mean_squared_log_error(y_test, y_train)) * (-1)\n",
    "\n",
    "# rmsle_neg = make_scorer(rmsle_neg_func)"
   ]
  },
  {
   "cell_type": "markdown",
   "metadata": {},
   "source": [
    "# Vectorizer: Tf-Idf - Model: LinearRegression (max_features=50)"
   ]
  },
  {
   "cell_type": "raw",
   "metadata": {},
   "source": [
    "from sklearn.feature_extraction.text import TfidfVectorizer\n",
    "\n",
    "tf_idf_vectorizer = TfidfVectorizer(max_features=50)"
   ]
  },
  {
   "cell_type": "raw",
   "metadata": {},
   "source": [
    "X = tf_idf_vectorizer.fit_transform(data['reviews'][:10000])\n",
    "y = data['review_score'][:10000]"
   ]
  },
  {
   "cell_type": "raw",
   "metadata": {},
   "source": [
    "from sklearn.model_selection import train_test_split\n",
    "r\n",
    "# Hold out \n",
    "X_train, X_test, y_train, y_test = train_test_split(pd.DataFrame(X.toarray(),columns = tf_idf_vectorizer.get_feature_names()), y, test_size=0.2)\n",
    "\n",
    "#check\n",
    "X_train.shape, X_test.shape, y_train.shape, y_test.shape"
   ]
  },
  {
   "cell_type": "raw",
   "metadata": {},
   "source": [
    "from sklearn.linear_model import LinearRegression\n",
    "from sklearn.feature_extraction.text import CountVectorizer\n",
    "from sklearn.model_selection import cross_validate\n",
    "\n",
    "model = LinearRegression()\n",
    "model.fit(X_train,y_train)\n",
    "\n",
    "custom_scorer = {'r2': 'r2',\n",
    "                 'rmse_scorer': rmse_scorer,\n",
    "                 }\n",
    "\n",
    "result = cross_validate(model,X_test,y_test, scoring=custom_scorer)\n",
    "\n",
    "f\"R2: {result['test_r2'].mean()}  RMSE: {result['test_rmse_scorer'].mean()}\""
   ]
  },
  {
   "cell_type": "markdown",
   "metadata": {},
   "source": [
    "# Vectorizer: Tf-Idf - Model: LinearRegression (max_features=200)"
   ]
  },
  {
   "cell_type": "code",
   "execution_count": 229,
   "metadata": {},
   "outputs": [],
   "source": [
    "from sklearn.feature_extraction.text import TfidfVectorizer\n",
    "\n",
    "tf_idf_vectorizer = TfidfVectorizer(max_features=200)"
   ]
  },
  {
   "cell_type": "code",
   "execution_count": 230,
   "metadata": {},
   "outputs": [
    {
     "data": {
      "text/plain": [
       "((10000, 200), (10000,))"
      ]
     },
     "execution_count": 230,
     "metadata": {},
     "output_type": "execute_result"
    }
   ],
   "source": [
    "X = tf_idf_vectorizer.fit_transform(data['reviews'][:10000])\n",
    "y = data['review_score'][:10000]\n",
    "X.shape, y.shape"
   ]
  },
  {
   "cell_type": "markdown",
   "metadata": {},
   "source": [
    "# PCA"
   ]
  },
  {
   "cell_type": "code",
   "execution_count": 231,
   "metadata": {},
   "outputs": [
    {
     "data": {
      "text/plain": [
       "array([[-2.51290151e-01, -3.24090130e-01,  1.81929055e-03, ...,\n",
       "         9.19324078e-02, -3.61586198e-02,  4.13647663e-02],\n",
       "       [ 1.66408161e-01,  8.93624619e-04, -2.55790218e-02, ...,\n",
       "         8.99740562e-02,  9.35076398e-03,  4.53786455e-03],\n",
       "       [-7.34292769e-02,  9.09895019e-02,  9.51373927e-02, ...,\n",
       "        -9.57161406e-03, -1.74688336e-02,  2.69814213e-02],\n",
       "       ...,\n",
       "       [-2.07937037e-01, -1.69306976e-01, -1.05956108e-01, ...,\n",
       "        -7.68668913e-02, -4.87109834e-02,  6.93136864e-02],\n",
       "       [ 2.60088040e-01,  1.43347067e-01, -2.86905998e-01, ...,\n",
       "         2.80225244e-02, -5.63982668e-03,  3.41155589e-02],\n",
       "       [ 9.80867641e-03, -8.31205055e-02,  3.12924729e-02, ...,\n",
       "         2.21464583e-02, -1.57925795e-02,  1.77694834e-04]])"
      ]
     },
     "execution_count": 231,
     "metadata": {},
     "output_type": "execute_result"
    }
   ],
   "source": [
    "from sklearn.decomposition import PCA\n",
    "pca = PCA(n_components=100)\n",
    "\n",
    "# find all Principal Components PC (no y!)\n",
    "pca.fit(X.toarray())\n",
    "Xpca = pca.transform(X.toarray()) \n",
    "Xpca"
   ]
  },
  {
   "cell_type": "code",
   "execution_count": 232,
   "metadata": {},
   "outputs": [
    {
     "data": {
      "text/plain": [
       "(10000, 100)"
      ]
     },
     "execution_count": 232,
     "metadata": {},
     "output_type": "execute_result"
    }
   ],
   "source": [
    "Xpca.shape"
   ]
  },
  {
   "cell_type": "markdown",
   "metadata": {},
   "source": [
    "# NMF ??"
   ]
  },
  {
   "cell_type": "code",
   "execution_count": 212,
   "metadata": {},
   "outputs": [],
   "source": [
    "from sklearn.decomposition import NMF\n",
    "\n",
    "# Put The PCA Here ???? or the normal X ????\n",
    "\n",
    "model = NMF(n_components=50, init='random', random_state=0)\n",
    "Xnmf = model.fit_transform(X.toarray())\n",
    "H = model.components_"
   ]
  },
  {
   "cell_type": "code",
   "execution_count": 213,
   "metadata": {},
   "outputs": [
    {
     "data": {
      "text/plain": [
       "array([[0.00000000e+00, 0.00000000e+00, 0.00000000e+00, ...,\n",
       "        3.04967046e-02, 0.00000000e+00, 0.00000000e+00],\n",
       "       [0.00000000e+00, 0.00000000e+00, 1.14926766e-01, ...,\n",
       "        0.00000000e+00, 1.54747720e-03, 0.00000000e+00],\n",
       "       [0.00000000e+00, 0.00000000e+00, 1.02740483e-01, ...,\n",
       "        0.00000000e+00, 1.25916381e-03, 0.00000000e+00],\n",
       "       ...,\n",
       "       [0.00000000e+00, 0.00000000e+00, 0.00000000e+00, ...,\n",
       "        3.48372721e-03, 0.00000000e+00, 5.03469394e-03],\n",
       "       [1.28604842e+00, 0.00000000e+00, 7.81728065e-01, ...,\n",
       "        0.00000000e+00, 1.73897035e-01, 1.12296155e-03],\n",
       "       [9.02422482e-01, 0.00000000e+00, 0.00000000e+00, ...,\n",
       "        1.86175816e-01, 1.06554040e-01, 0.00000000e+00]])"
      ]
     },
     "execution_count": 213,
     "metadata": {},
     "output_type": "execute_result"
    }
   ],
   "source": [
    "Xnmf"
   ]
  },
  {
   "cell_type": "code",
   "execution_count": 215,
   "metadata": {},
   "outputs": [
    {
     "data": {
      "text/plain": [
       "(10000, 50)"
      ]
     },
     "execution_count": 215,
     "metadata": {},
     "output_type": "execute_result"
    }
   ],
   "source": [
    "Xnmf.shape"
   ]
  },
  {
   "cell_type": "markdown",
   "metadata": {},
   "source": [
    "# Hold out "
   ]
  },
  {
   "cell_type": "code",
   "execution_count": 234,
   "metadata": {},
   "outputs": [
    {
     "data": {
      "text/plain": [
       "((8000, 100), (2000, 100), (8000,), (2000,))"
      ]
     },
     "execution_count": 234,
     "metadata": {},
     "output_type": "execute_result"
    }
   ],
   "source": [
    "from sklearn.model_selection import train_test_split\n",
    "\n",
    "# Hold out \n",
    "X_train, X_test, y_train, y_test = train_test_split(Xpca, y, test_size=0.2)\n",
    "\n",
    "#check\n",
    "X_train.shape, X_test.shape, y_train.shape, y_test.shape"
   ]
  },
  {
   "cell_type": "markdown",
   "metadata": {},
   "source": [
    "#  Vectorizer: Tf-Idf (max_features=200) - Model: LinearRegression"
   ]
  },
  {
   "cell_type": "code",
   "execution_count": 235,
   "metadata": {},
   "outputs": [
    {
     "data": {
      "text/plain": [
       "'R2: 0.35085300399160485  RMSE: 1.429289393763272'"
      ]
     },
     "execution_count": 235,
     "metadata": {},
     "output_type": "execute_result"
    }
   ],
   "source": [
    "from sklearn.linear_model import LinearRegression\n",
    "from sklearn.feature_extraction.text import CountVectorizer\n",
    "from sklearn.model_selection import cross_validate\n",
    "\n",
    "model = LinearRegression()\n",
    "model.fit(X_train,y_train)\n",
    "\n",
    "custom_scorer = {'r2': 'r2',\n",
    "                 'rmse_scorer': rmse_scorer,\n",
    "                 }\n",
    "\n",
    "result = cross_validate(model,X_test,y_test, scoring=custom_scorer)\n",
    "\n",
    "f\"R2: {result['test_r2'].mean()}  RMSE: {result['test_rmse_scorer'].mean()}\""
   ]
  },
  {
   "cell_type": "code",
   "execution_count": 236,
   "metadata": {},
   "outputs": [
    {
     "data": {
      "text/plain": [
       "<matplotlib.collections.PathCollection at 0x7f07098f33a0>"
      ]
     },
     "execution_count": 236,
     "metadata": {},
     "output_type": "execute_result"
    },
    {
     "data": {
      "image/png": "[encoded data removed]",
      "text/plain": [
       "<Figure size 432x288 with 1 Axes>"
      ]
     },
     "metadata": {
      "needs_background": "light"
     },
     "output_type": "display_data"
    }
   ],
   "source": [
    "import matplotlib.pyplot as plt \n",
    "y_pred = model.predict(X_test)\n",
    "plt.scatter(y_test, y_pred)"
   ]
  },
  {
   "cell_type": "markdown",
   "metadata": {},
   "source": [
    "# Vectorizer: Tf-Idf (max_features=200) - Model: Lasso"
   ]
  },
  {
   "cell_type": "raw",
   "metadata": {},
   "source": [
    "from sklearn.model_selection import GridSearchCV\n",
    "from sklearn.pipeline import Pipeline\n",
    "from sklearn.feature_extraction.text import TfidfVectorizer\n",
    "from sklearn.linear_model import Lasso\n",
    "\n",
    "model = Lasso()\n",
    "model.fit(X_train,y_train)\n",
    "\n",
    "custom_scorer = {'r2': 'r2',\n",
    "                 'rmse_scorer': rmse_scorer,\n",
    "                 }\n",
    "\n",
    "result = cross_validate(model,X_test,y_test, scoring=custom_scorer)\n",
    "\n",
    "f\"R2: {result['test_r2'].mean()}  RMSE: {result['test_rmse_scorer'].mean()}\""
   ]
  },
  {
   "cell_type": "markdown",
   "metadata": {},
   "source": [
    "# Vectorizer: Tf-Idf - Model: Random Forest"
   ]
  },
  {
   "cell_type": "code",
   "execution_count": 148,
   "metadata": {},
   "outputs": [
    {
     "data": {
      "text/plain": [
       "'R2: 0.3047270592839843  RMSE: 0.18678120288893033'"
      ]
     },
     "execution_count": 148,
     "metadata": {},
     "output_type": "execute_result"
    }
   ],
   "source": [
    "from sklearn.pipeline import Pipeline\n",
    "from sklearn.ensemble import RandomForestRegressor\n",
    "from sklearn.feature_extraction.text import TfidfVectorizer\n",
    "from sklearn.model_selection import train_test_split\n",
    "from sklearn.model_selection import cross_val_score\n",
    "\n",
    "model = RandomForestRegressor(n_estimators=100)\n",
    "model.fit(X_train,y_train)\n",
    "\n",
    "custom_scorer = {'r2': 'r2',\n",
    "                 'rmse_scorer': rmse_scorer,\n",
    "                 }\n",
    "\n",
    "result = cross_validate(model,X_test,y_test, scoring=custom_scorer)\n",
    "\n",
    "f\"R2: {result['test_r2'].mean()}  RMSE: {result['test_rmse_scorer'].mean()}\""
   ]
  },
  {
   "cell_type": "raw",
   "metadata": {},
   "source": [
    "model = RandomForestRegressor(max_depth=80, min_samples_split=3, min_samples_leaf=2, n_estimators=200)\n",
    "model.fit(X_train,y_train)\n",
    "\n",
    "cv_results = cross_val_score(model, X_test,y_test, cv=5, scoring='r2').mean()\n",
    "cv_results"
   ]
  },
  {
   "cell_type": "raw",
   "metadata": {},
   "source": [
    "model = RandomForestRegressor(max_depth=100, min_samples_split=20, min_samples_leaf=10, n_estimators=200)\n",
    "model.fit(X_train,y_train)\n",
    "\n",
    "cv_results = cross_val_score(model, X_test,y_test, cv=5, scoring='r2').mean()\n",
    "cv_results"
   ]
  },
  {
   "cell_type": "markdown",
   "metadata": {},
   "source": [
    "# Vectorizer: Tf-Idf - Model: KNN"
   ]
  },
  {
   "cell_type": "code",
   "execution_count": 218,
   "metadata": {},
   "outputs": [
    {
     "data": {
      "text/plain": [
       "'R2: 0.08500387238139655  RMSE: 1.6858628087609033'"
      ]
     },
     "execution_count": 218,
     "metadata": {},
     "output_type": "execute_result"
    }
   ],
   "source": [
    "from sklearn.neighbors import KNeighborsRegressor\n",
    "\n",
    "model = KNeighborsRegressor()\n",
    "model.fit(X_train,y_train)\n",
    "\n",
    "custom_scorer = {'r2': 'r2',\n",
    "                 'rmse_scorer': rmse_scorer,\n",
    "                 }\n",
    "\n",
    "result = cross_validate(model,X_test,y_test, scoring=custom_scorer)\n",
    "\n",
    "f\"R2: {result['test_r2'].mean()}  RMSE: {result['test_rmse_scorer'].mean()}\""
   ]
  },
  {
   "cell_type": "markdown",
   "metadata": {},
   "source": [
    "# Vectorizer: Tf-Idf - SVM - Linear (0.37)"
   ]
  },
  {
   "cell_type": "markdown",
   "metadata": {},
   "source": [
    "#### Version 1"
   ]
  },
  {
   "cell_type": "code",
   "execution_count": 237,
   "metadata": {},
   "outputs": [
    {
     "data": {
      "text/plain": [
       "'R2: 0.33599881630252904  RMSE: 1.446643877119312'"
      ]
     },
     "execution_count": 237,
     "metadata": {},
     "output_type": "execute_result"
    }
   ],
   "source": [
    "from sklearn.svm import SVR\n",
    "\n",
    "model = SVR(kernel='linear')\n",
    "model.fit(X_train,y_train)\n",
    "\n",
    "custom_scorer = {'r2': 'r2',\n",
    "                 'rmse_scorer': rmse_scorer,\n",
    "                 }\n",
    "\n",
    "result = cross_validate(model,X_test,y_test, scoring=custom_scorer)\n",
    "\n",
    "f\"R2: {result['test_r2'].mean()}  RMSE: {result['test_rmse_scorer'].mean()}\""
   ]
  },
  {
   "cell_type": "code",
   "execution_count": 238,
   "metadata": {},
   "outputs": [
    {
     "data": {
      "text/plain": [
       "<matplotlib.collections.PathCollection at 0x7f071935d1c0>"
      ]
     },
     "execution_count": 238,
     "metadata": {},
     "output_type": "execute_result"
    },
    {
     "data": {
      "image/png": "[encoded data removed]",
      "text/plain": [
       "<Figure size 432x288 with 1 Axes>"
      ]
     },
     "metadata": {
      "needs_background": "light"
     },
     "output_type": "display_data"
    }
   ],
   "source": [
    "import matplotlib.pyplot as plt \n",
    "y_pred = model.predict(X_test)\n",
    "plt.scatter(y_test, y_pred)"
   ]
  },
  {
   "cell_type": "code",
   "execution_count": 87,
   "metadata": {},
   "outputs": [
    {
     "data": {
      "text/plain": [
       "0.30385071418473253"
      ]
     },
     "execution_count": 87,
     "metadata": {},
     "output_type": "execute_result"
    }
   ],
   "source": [
    "model = SVR(kernel='linear', gamma=0.001, C=0.1)\n",
    "model.fit(X_train,y_train)\n",
    "\n",
    "custom_scorer = {'r2': 'r2',\n",
    "                 'rmse_scorer': rmse_scorer,\n",
    "                 }\n",
    "\n",
    "result = cross_validate(model,X_test,y_test, scoring=custom_scorer)\n",
    "\n",
    "f\"R2: {result['test_r2'].mean()}  RMSE: {result['test_rmse_scorer'].mean()}\""
   ]
  },
  {
   "cell_type": "code",
   "execution_count": 84,
   "metadata": {},
   "outputs": [
    {
     "data": {
      "text/plain": [
       "0.36068800865523204"
      ]
     },
     "execution_count": 84,
     "metadata": {},
     "output_type": "execute_result"
    }
   ],
   "source": [
    "model = SVR(kernel='linear', gamma=3, C=10)\n",
    "model.fit(X_train,y_train)\n",
    "\n",
    "custom_scorer = {'r2': 'r2',\n",
    "                 'rmse_scorer': rmse_scorer,\n",
    "                 }\n",
    "\n",
    "result = cross_validate(model,X_test,y_test, scoring=custom_scorer)\n",
    "\n",
    "f\"R2: {result['test_r2'].mean()}  RMSE: {result['test_rmse_scorer'].mean()}\""
   ]
  },
  {
   "cell_type": "code",
   "execution_count": 85,
   "metadata": {},
   "outputs": [
    {
     "data": {
      "text/plain": [
       "0.36068800865523204"
      ]
     },
     "execution_count": 85,
     "metadata": {},
     "output_type": "execute_result"
    }
   ],
   "source": [
    "model = SVR(kernel='linear', gamma=0.01, C=10)\n",
    "model.fit(X_train,y_train)\n",
    "\n",
    "custom_scorer = {'r2': 'r2',\n",
    "                 'rmse_scorer': rmse_scorer,\n",
    "                 }\n",
    "\n",
    "result = cross_validate(model,X_test,y_test, scoring=custom_scorer)\n",
    "\n",
    "f\"R2: {result['test_r2'].mean()}  RMSE: {result['test_rmse_scorer'].mean()}\""
   ]
  },
  {
   "cell_type": "code",
   "execution_count": 86,
   "metadata": {},
   "outputs": [
    {
     "data": {
      "text/plain": [
       "0.38295458639891194"
      ]
     },
     "execution_count": 86,
     "metadata": {},
     "output_type": "execute_result"
    }
   ],
   "source": [
    "model = SVR(kernel='linear', gamma=0.01, C=1)\n",
    "model.fit(X_train,y_train)\n",
    "\n",
    "custom_scorer = {'r2': 'r2',\n",
    "                 'rmse_scorer': rmse_scorer,\n",
    "                 }\n",
    "\n",
    "result = cross_validate(model,X_test,y_test, scoring=custom_scorer)\n",
    "\n",
    "f\"R2: {result['test_r2'].mean()}  RMSE: {result['test_rmse_scorer'].mean()}\""
   ]
  },
  {
   "cell_type": "code",
   "execution_count": 88,
   "metadata": {},
   "outputs": [
    {
     "data": {
      "text/plain": [
       "0.38295458639891194"
      ]
     },
     "execution_count": 88,
     "metadata": {},
     "output_type": "execute_result"
    }
   ],
   "source": [
    "model = SVR(kernel='linear', gamma=0.001, C=1)\n",
    "model.fit(X_train,y_train)\n",
    "\n",
    "custom_scorer = {'r2': 'r2',\n",
    "                 'rmse_scorer': rmse_scorer,\n",
    "                 }\n",
    "\n",
    "result = cross_validate(model,X_test,y_test, scoring=custom_scorer)\n",
    "\n",
    "f\"R2: {result['test_r2'].mean()}  RMSE: {result['test_rmse_scorer'].mean()}\""
   ]
  },
  {
   "cell_type": "markdown",
   "metadata": {},
   "source": [
    "#### Version 2"
   ]
  },
  {
   "cell_type": "code",
   "execution_count": 89,
   "metadata": {},
   "outputs": [
    {
     "data": {
      "text/plain": [
       "0.28554151262991323"
      ]
     },
     "execution_count": 89,
     "metadata": {},
     "output_type": "execute_result"
    }
   ],
   "source": [
    "model = SVR(kernel='poly')\n",
    "model.fit(X_train,y_train)\n",
    "\n",
    "custom_scorer = {'r2': 'r2',\n",
    "                 'rmse_scorer': rmse_scorer,\n",
    "                 }\n",
    "\n",
    "result = cross_validate(model,X_test,y_test, scoring=custom_scorer)\n",
    "\n",
    "f\"R2: {result['test_r2'].mean()}  RMSE: {result['test_rmse_scorer'].mean()}\""
   ]
  },
  {
   "cell_type": "markdown",
   "metadata": {},
   "source": [
    "### Version 3"
   ]
  },
  {
   "cell_type": "code",
   "execution_count": 239,
   "metadata": {},
   "outputs": [
    {
     "data": {
      "text/plain": [
       "'R2: 0.34469697737295996  RMSE: 1.4372222801600443'"
      ]
     },
     "execution_count": 239,
     "metadata": {},
     "output_type": "execute_result"
    }
   ],
   "source": [
    "model = SVR(kernel='rbf')\n",
    "model.fit(X_train,y_train)\n",
    "\n",
    "custom_scorer = {'r2': 'r2',\n",
    "                 'rmse_scorer': rmse_scorer,\n",
    "                 }\n",
    "\n",
    "result = cross_validate(model,X_test,y_test, scoring=custom_scorer)\n",
    "\n",
    "f\"R2: {result['test_r2'].mean()}  RMSE: {result['test_rmse_scorer'].mean()}\""
   ]
  },
  {
   "cell_type": "code",
   "execution_count": 240,
   "metadata": {},
   "outputs": [
    {
     "data": {
      "text/plain": [
       "<matplotlib.collections.PathCollection at 0x7f0712e978e0>"
      ]
     },
     "execution_count": 240,
     "metadata": {},
     "output_type": "execute_result"
    },
    {
     "data": {
      "image/png": "[encoded data removed]",
      "text/plain": [
       "<Figure size 432x288 with 1 Axes>"
      ]
     },
     "metadata": {
      "needs_background": "light"
     },
     "output_type": "display_data"
    }
   ],
   "source": [
    "import matplotlib.pyplot as plt \n",
    "y_pred = model.predict(X_test)\n",
    "plt.scatter(y_test, y_pred)"
   ]
  },
  {
   "cell_type": "code",
   "execution_count": 91,
   "metadata": {},
   "outputs": [
    {
     "data": {
      "text/plain": [
       "0.38082171795040104"
      ]
     },
     "execution_count": 91,
     "metadata": {},
     "output_type": "execute_result"
    }
   ],
   "source": [
    "model = SVR(kernel='rbf', gamma=0.15, C=20)\n",
    "model.fit(X_train,y_train)\n",
    "\n",
    "custom_scorer = {'r2': 'r2',\n",
    "                 'rmse_scorer': rmse_scorer,\n",
    "                 }\n",
    "\n",
    "result = cross_validate(model,X_test,y_test, scoring=custom_scorer)\n",
    "\n",
    "f\"R2: {result['test_r2'].mean()}  RMSE: {result['test_rmse_scorer'].mean()}\""
   ]
  },
  {
   "cell_type": "code",
   "execution_count": 93,
   "metadata": {},
   "outputs": [
    {
     "data": {
      "text/plain": [
       "0.38672415379815905"
      ]
     },
     "execution_count": 93,
     "metadata": {},
     "output_type": "execute_result"
    }
   ],
   "source": [
    "model = SVR(kernel='rbf', gamma=1, C=1)\n",
    "model.fit(X_train,y_train)\n",
    "\n",
    "custom_scorer = {'r2': 'r2',\n",
    "                 'rmse_scorer': rmse_scorer,\n",
    "                 }\n",
    "\n",
    "result = cross_validate(model,X_test,y_test, scoring=custom_scorer)\n",
    "\n",
    "f\"R2: {result['test_r2'].mean()}  RMSE: {result['test_rmse_scorer'].mean()}\""
   ]
  },
  {
   "cell_type": "markdown",
   "metadata": {},
   "source": [
    "### Version 4"
   ]
  },
  {
   "cell_type": "code",
   "execution_count": 94,
   "metadata": {},
   "outputs": [
    {
     "data": {
      "text/plain": [
       "0.36714457061801686"
      ]
     },
     "execution_count": 94,
     "metadata": {},
     "output_type": "execute_result"
    }
   ],
   "source": [
    "model = SVR(kernel='sigmoid')\n",
    "model.fit(X_train,y_train)\n",
    "\n",
    "custom_scorer = {'r2': 'r2',\n",
    "                 'rmse_scorer': rmse_scorer,\n",
    "                 }\n",
    "\n",
    "result = cross_validate(model,X_test,y_test, scoring=custom_scorer)\n",
    "\n",
    "f\"R2: {result['test_r2'].mean()}  RMSE: {result['test_rmse_scorer'].mean()}\""
   ]
  },
  {
   "cell_type": "markdown",
   "metadata": {},
   "source": [
    "### Version 5 - SVR(kernel='linear') - RandomSearch"
   ]
  },
  {
   "cell_type": "raw",
   "metadata": {},
   "source": [
    "# DO THEM ON GOOGLE COLAB - TAKES TOOOOO LONG\n",
    "\n",
    "from sklearn.model_selection import RandomizedSearchCV\n",
    "from scipy.stats import randint\n",
    "\n",
    "# Random search \n",
    "random_search = RandomizedSearchCV(\n",
    "    SVR(kernel='linear'), \n",
    "    param_distributions ={\n",
    "        'C': [0.001, 0.01, 0.1, 1, 10],\n",
    "        'gamma': [0.001, 0.01, 0.1, 1, 5]},\n",
    "    cv=5,\n",
    "    n_iter = 20,\n",
    "    scoring='r2',\n",
    "    )\n",
    "\n",
    "random_search.fit(X_train,y_train)\n",
    "random_search.best_estimator_, random_search.best_score_"
   ]
  },
  {
   "cell_type": "markdown",
   "metadata": {},
   "source": [
    "### Version 6 - SVR(kernel='rbf') - RandomSearch "
   ]
  },
  {
   "cell_type": "raw",
   "metadata": {},
   "source": [
    "# DO THEM ON GOOGLE COLAB - TAKES TOOOOO LONG\n",
    "\n",
    "from sklearn.model_selection import RandomizedSearchCV\n",
    "from scipy.stats import randint\n",
    "\n",
    "# Random search \n",
    "random_search = RandomizedSearchCV(\n",
    "    SVR(kernel='rbf'), \n",
    "    param_distributions ={\n",
    "        'C': [0.001, 0.01, 0.1, 1, 10],\n",
    "        'gamma': [0.001, 0.01, 0.1, 1, 5]},\n",
    "    cv=5,\n",
    "    n_iter = 20,\n",
    "    scoring='r2',\n",
    "    )\n",
    "\n",
    "random_search.fit(X_train,y_train)\n",
    "random_search.best_estimator_, random_search.best_score_"
   ]
  },
  {
   "cell_type": "markdown",
   "metadata": {},
   "source": [
    "#  20.000 DataPoints and max_features=500"
   ]
  },
  {
   "cell_type": "code",
   "execution_count": 132,
   "metadata": {},
   "outputs": [
    {
     "data": {
      "text/plain": [
       "((16000, 500), (4000, 500), (16000,), (4000,))"
      ]
     },
     "execution_count": 132,
     "metadata": {},
     "output_type": "execute_result"
    }
   ],
   "source": [
    "from sklearn.feature_extraction.text import TfidfVectorizer\n",
    "\n",
    "tf_idf_vectorizer = TfidfVectorizer(max_features=500)\n",
    "\n",
    "X = tf_idf_vectorizer.fit_transform(data['reviews'][:20000])\n",
    "y = data['review_score'][:20000]\n",
    "\n",
    "from sklearn.model_selection import train_test_split\n",
    "\n",
    "# Hold out \n",
    "X_train, X_test, y_train, y_test = train_test_split(pd.DataFrame(X.toarray(),columns = tf_idf_vectorizer.get_feature_names()), y, test_size=0.2)\n",
    "\n",
    "#check\n",
    "X_train.shape, X_test.shape, y_train.shape, y_test.shape"
   ]
  },
  {
   "cell_type": "markdown",
   "metadata": {},
   "source": [
    "#### Model: LinearRegression "
   ]
  },
  {
   "cell_type": "code",
   "execution_count": 96,
   "metadata": {},
   "outputs": [
    {
     "data": {
      "text/plain": [
       "0.4078666027919796"
      ]
     },
     "execution_count": 96,
     "metadata": {},
     "output_type": "execute_result"
    }
   ],
   "source": [
    "from sklearn.linear_model import LinearRegression\n",
    "\n",
    "model = LinearRegression()\n",
    "model.fit(X_train,y_train)\n",
    "\n",
    "custom_scorer = {'r2': 'r2',\n",
    "                 'rmse_scorer': rmse_scorer,\n",
    "                 }\n",
    "\n",
    "result = cross_validate(model,X_test,y_test, scoring=custom_scorer)\n",
    "\n",
    "f\"R2: {result['test_r2'].mean()}  RMSE: {result['test_rmse_scorer'].mean()}\""
   ]
  },
  {
   "cell_type": "markdown",
   "metadata": {},
   "source": [
    "#### Model: Random Forest  "
   ]
  },
  {
   "cell_type": "code",
   "execution_count": 97,
   "metadata": {},
   "outputs": [
    {
     "data": {
      "text/plain": [
       "0.35126847940401723"
      ]
     },
     "execution_count": 97,
     "metadata": {},
     "output_type": "execute_result"
    }
   ],
   "source": [
    "model = RandomForestRegressor(n_estimators=100)\n",
    "model.fit(X_train,y_train)\n",
    "\n",
    "custom_scorer = {'r2': 'r2',\n",
    "                 'rmse_scorer': rmse_scorer,\n",
    "                 }\n",
    "\n",
    "result = cross_validate(model,X_test,y_test, scoring=custom_scorer)\n",
    "\n",
    "f\"R2: {result['test_r2'].mean()}  RMSE: {result['test_rmse_scorer'].mean()}\""
   ]
  },
  {
   "cell_type": "markdown",
   "metadata": {},
   "source": [
    "#### Model: SVM - Linear"
   ]
  },
  {
   "cell_type": "code",
   "execution_count": 98,
   "metadata": {},
   "outputs": [
    {
     "data": {
      "text/plain": [
       "0.41798028913534535"
      ]
     },
     "execution_count": 98,
     "metadata": {},
     "output_type": "execute_result"
    }
   ],
   "source": [
    "from sklearn.svm import SVR\n",
    "\n",
    "model = SVR(kernel='linear')\n",
    "model.fit(X_train,y_train)\n",
    "\n",
    "custom_scorer = {'r2': 'r2',\n",
    "                 'rmse_scorer': rmse_scorer,\n",
    "                 }\n",
    "\n",
    "result = cross_validate(model,X_test,y_test, scoring=custom_scorer)\n",
    "\n",
    "f\"R2: {result['test_r2'].mean()}  RMSE: {result['test_rmse_scorer'].mean()}\""
   ]
  },
  {
   "cell_type": "markdown",
   "metadata": {},
   "source": [
    "#### Model: SVM - rbf"
   ]
  },
  {
   "cell_type": "code",
   "execution_count": 133,
   "metadata": {},
   "outputs": [
    {
     "data": {
      "text/plain": [
       "'R2: 0.39870656998793724  RMSE: 0.17066079681784124'"
      ]
     },
     "execution_count": 133,
     "metadata": {},
     "output_type": "execute_result"
    }
   ],
   "source": [
    "model = SVR(kernel='rbf')\n",
    "model.fit(X_train,y_train)\n",
    "\n",
    "custom_scorer = {'r2': 'r2',\n",
    "                 'rmse_scorer': rmse_scorer,\n",
    "                 }\n",
    "\n",
    "result = cross_validate(model,X_test,y_test, scoring=custom_scorer)\n",
    "\n",
    "f\"R2: {result['test_r2'].mean()}  RMSE: {result['test_rmse_scorer'].mean()}\""
   ]
  },
  {
   "cell_type": "markdown",
   "metadata": {},
   "source": [
    "# Export"
   ]
  },
  {
   "cell_type": "code",
   "execution_count": null,
   "metadata": {},
   "outputs": [],
   "source": [
    "# import pickle\n",
    "\n",
    "# # Export pipeline as pickle file\n",
    "# with open(\"pipeline.pkl\", \"wb\") as file:\n",
    "#     pickle.dump(best_pipeline, file)"
   ]
  }
 ],
 "metadata": {
  "kernelspec": {
   "display_name": "Python 3",
   "language": "python",
   "name": "python3"
  },
  "language_info": {
   "codemirror_mode": {
    "name": "ipython",
    "version": 3
   },
   "file_extension": ".py",
   "mimetype": "text/x-python",
   "name": "python",
   "nbconvert_exporter": "python",
   "pygments_lexer": "ipython3",
   "version": "3.8.6"
  }
 },
 "nbformat": 4,
 "nbformat_minor": 5
}
