{
  "nbformat": 4,
  "nbformat_minor": 5,
  "metadata": {
    "kernelspec": {
      "display_name": "Python 3",
      "language": "python",
      "name": "python3"
    },
    "language_info": {
      "codemirror_mode": {
        "name": "ipython",
        "version": 3
      },
      "file_extension": ".py",
      "mimetype": "text/x-python",
      "name": "python",
      "nbconvert_exporter": "python",
      "pygments_lexer": "ipython3",
      "version": "3.8.6"
    },
    "colab": {
      "name": "03.03_working_NN_tested.ipynb",
      "provenance": [],
      "collapsed_sections": [
        "lwW8AbGu9OJl"
      ],
      "toc_visible": true
    },
    "accelerator": "GPU"
  },
  "cells": [
    {
      "cell_type": "markdown",
      "metadata": {
        "id": "DoBSNuKg9OCF"
      },
      "source": [
        "### Imports and loading data"
      ],
      "id": "DoBSNuKg9OCF"
    },
    {
      "cell_type": "code",
      "metadata": {
        "id": "NknQ-71c9ODk"
      },
      "source": [
        "import pandas as pd\n",
        "import numpy as np\n",
        "import string\n",
        "import nltk\n",
        "from nltk.corpus import stopwords\n",
        "from nltk.tokenize import word_tokenize\n",
        "from nltk.stem import WordNetLemmatizer"
      ],
      "id": "NknQ-71c9ODk",
      "execution_count": null,
      "outputs": []
    },
    {
      "cell_type": "code",
      "metadata": {
        "id": "W3unfqMF9ODs"
      },
      "source": [
        "dataset_1 = pd.read_csv(\"dataset_1.csv\")"
      ],
      "id": "W3unfqMF9ODs",
      "execution_count": null,
      "outputs": []
    },
    {
      "cell_type": "code",
      "metadata": {
        "colab": {
          "base_uri": "https://localhost:8080/"
        },
        "id": "Lja15pRcW2hS",
        "outputId": "4b22b18d-f51c-482e-d7f9-1cc13829b53f"
      },
      "source": [
        "import nltk\r\n",
        "nltk.download('stopwords')\r\n",
        "nltk.download('punkt')\r\n",
        "nltk.download('wordnet')"
      ],
      "id": "Lja15pRcW2hS",
      "execution_count": null,
      "outputs": [
        {
          "output_type": "stream",
          "text": [
            "[nltk_data] Downloading package stopwords to /root/nltk_data...\n",
            "[nltk_data]   Package stopwords is already up-to-date!\n",
            "[nltk_data] Downloading package punkt to /root/nltk_data...\n",
            "[nltk_data]   Package punkt is already up-to-date!\n",
            "[nltk_data] Downloading package wordnet to /root/nltk_data...\n",
            "[nltk_data]   Package wordnet is already up-to-date!\n"
          ],
          "name": "stdout"
        },
        {
          "output_type": "execute_result",
          "data": {
            "text/plain": [
              "True"
            ]
          },
          "metadata": {
            "tags": []
          },
          "execution_count": 3
        }
      ]
    },
    {
      "cell_type": "code",
      "metadata": {
        "id": "sgrSUnCY9OD4",
        "colab": {
          "base_uri": "https://localhost:8080/",
          "height": 419
        },
        "outputId": "0a3d2e19-f914-484f-b179-c7bc50620cd6"
      },
      "source": [
        "dataset_1 = dataset_1[['Negative_Review', 'Positive_Review', 'Reviewer_Score']]\r\n",
        "\r\n",
        "dataset_1[['Negative_Review']] = dataset_1[['Negative_Review']].replace(to_replace=\"No Negative\", value=\"\")\r\n",
        "\r\n",
        "dataset_1[['Positive_Review']] = dataset_1[['Positive_Review']].replace(to_replace=\"No Positive\", value=\"\")\r\n",
        "\r\n",
        "dataset_1[\"Review_Text\"] = dataset_1['Negative_Review'] + \" \" + dataset_1['Positive_Review']\r\n",
        "\r\n",
        "dataset_1 = dataset_1.drop(columns=['Negative_Review', 'Positive_Review'])\r\n",
        "\r\n",
        "dataset_1['Review_Text'] = dataset_1['Review_Text'].apply(lambda x: x.lower())\r\n",
        "\r\n",
        "def remove_numbers(text):\r\n",
        "    text = ''.join(word for word in text if not word.isdigit())\r\n",
        "    return text\r\n",
        "\r\n",
        "dataset_1['Review_Text'] = dataset_1['Review_Text'].apply(remove_numbers)\r\n",
        "\r\n",
        "for punctuation in string.punctuation:\r\n",
        "    dataset_1['Review_Text'] = dataset_1['Review_Text'].replace(punctuation, '') \r\n",
        "    \r\n",
        "def custom_stopwords():\r\n",
        "    \"\"\"create custom stopwords list excluding negative words\"\"\"\r\n",
        "    negative_words = ['no',\r\n",
        "    'nor',\r\n",
        "    'not',\r\n",
        "    \"don't\",\r\n",
        "    'should',\r\n",
        "    \"should've\",\r\n",
        "    'aren',\r\n",
        "    \"aren't\",\r\n",
        "    'couldn',\r\n",
        "    \"couldn't\",\r\n",
        "    'didn',\r\n",
        "    \"didn't\",\r\n",
        "    'doesn',\r\n",
        "    \"doesn't\",\r\n",
        "    'hadn',\r\n",
        "    \"hadn't\",\r\n",
        "    'hasn',\r\n",
        "    \"hasn't\",\r\n",
        "    'haven',\r\n",
        "    \"haven't\",\r\n",
        "    'isn',\r\n",
        "    \"isn't\",\r\n",
        "    \"wasn't\",\r\n",
        "    'weren',\r\n",
        "    \"weren't\",\r\n",
        "    'won',\r\n",
        "    \"won't\",\r\n",
        "    'wouldn',\r\n",
        "    \"wouldn't\"]\r\n",
        "    custom_stopwords = [x for x in stopwords.words('english') if x not in negative_words]\r\n",
        "    return custom_stopwords\r\n",
        "\r\n",
        "custom_stopwords = custom_stopwords()\r\n",
        "\r\n",
        "stop_words = custom_stopwords\r\n",
        "dataset_1['reviews'] = dataset_1['Review_Text'].map(word_tokenize)\r\n",
        "dataset_1['reviews'] = dataset_1['reviews'].map(lambda x: [w for w in x if not w in stop_words])\r\n",
        "\r\n",
        "lemmatizer = WordNetLemmatizer()\r\n",
        "\r\n",
        "def lemmatizing(text):\r\n",
        "    lemmatized = [lemmatizer.lemmatize(word) for word in text]\r\n",
        "    text = lemmatized\r\n",
        "    text = ' '.join(word for word in text)\r\n",
        "    return text\r\n",
        "\r\n",
        "dataset_1['reviews'] = dataset_1['reviews'].apply(lemmatizing)\r\n",
        "\r\n",
        "dataset_1['review_score'] = dataset_1['Reviewer_Score'] # / 10\r\n",
        "\r\n",
        "dataset_1 = dataset_1.drop(columns=['Review_Text', 'Reviewer_Score'])\r\n",
        "\r\n",
        "dataset_1['review_score'] = dataset_1['review_score'].round(decimals=2)"
      ],
      "id": "sgrSUnCY9OD4",
      "execution_count": null,
      "outputs": [
        {
          "output_type": "execute_result",
          "data": {
            "text/html": [
              "<div>\n",
              "<style scoped>\n",
              "    .dataframe tbody tr th:only-of-type {\n",
              "        vertical-align: middle;\n",
              "    }\n",
              "\n",
              "    .dataframe tbody tr th {\n",
              "        vertical-align: top;\n",
              "    }\n",
              "\n",
              "    .dataframe thead th {\n",
              "        text-align: right;\n",
              "    }\n",
              "</style>\n",
              "<table border=\"1\" class=\"dataframe\">\n",
              "  <thead>\n",
              "    <tr style=\"text-align: right;\">\n",
              "      <th></th>\n",
              "      <th>reviews</th>\n",
              "      <th>review_score</th>\n",
              "    </tr>\n",
              "  </thead>\n",
              "  <tbody>\n",
              "    <tr>\n",
              "      <th>0</th>\n",
              "      <td>angry made post available via possible site us...</td>\n",
              "      <td>2.9</td>\n",
              "    </tr>\n",
              "    <tr>\n",
              "      <th>1</th>\n",
              "      <td>no real complaint hotel great great location s...</td>\n",
              "      <td>7.5</td>\n",
              "    </tr>\n",
              "    <tr>\n",
              "      <th>2</th>\n",
              "      <td>room nice elderly bit difficult room two story...</td>\n",
              "      <td>7.1</td>\n",
              "    </tr>\n",
              "    <tr>\n",
              "      <th>3</th>\n",
              "      <td>room dirty afraid walk barefoot floor looked n...</td>\n",
              "      <td>3.8</td>\n",
              "    </tr>\n",
              "    <tr>\n",
              "      <th>4</th>\n",
              "      <td>booked company line showed picture room though...</td>\n",
              "      <td>6.7</td>\n",
              "    </tr>\n",
              "    <tr>\n",
              "      <th>...</th>\n",
              "      <td>...</td>\n",
              "      <td>...</td>\n",
              "    </tr>\n",
              "    <tr>\n",
              "      <th>515733</th>\n",
              "      <td>no trolly staff help take luggage room location</td>\n",
              "      <td>7.0</td>\n",
              "    </tr>\n",
              "    <tr>\n",
              "      <th>515734</th>\n",
              "      <td>hotel look like surely not breakfast ok got ea...</td>\n",
              "      <td>5.8</td>\n",
              "    </tr>\n",
              "    <tr>\n",
              "      <th>515735</th>\n",
              "      <td>ac useless hot week vienna gave hot air</td>\n",
              "      <td>2.5</td>\n",
              "    </tr>\n",
              "    <tr>\n",
              "      <th>515736</th>\n",
              "      <td>room enormous really comfortable believe famil...</td>\n",
              "      <td>8.8</td>\n",
              "    </tr>\n",
              "    <tr>\n",
              "      <th>515737</th>\n",
              "      <td>rd floor didn work free wife staff kind</td>\n",
              "      <td>8.3</td>\n",
              "    </tr>\n",
              "  </tbody>\n",
              "</table>\n",
              "<p>515738 rows × 2 columns</p>\n",
              "</div>"
            ],
            "text/plain": [
              "                                                  reviews  review_score\n",
              "0       angry made post available via possible site us...           2.9\n",
              "1       no real complaint hotel great great location s...           7.5\n",
              "2       room nice elderly bit difficult room two story...           7.1\n",
              "3       room dirty afraid walk barefoot floor looked n...           3.8\n",
              "4       booked company line showed picture room though...           6.7\n",
              "...                                                   ...           ...\n",
              "515733    no trolly staff help take luggage room location           7.0\n",
              "515734  hotel look like surely not breakfast ok got ea...           5.8\n",
              "515735            ac useless hot week vienna gave hot air           2.5\n",
              "515736  room enormous really comfortable believe famil...           8.8\n",
              "515737            rd floor didn work free wife staff kind           8.3\n",
              "\n",
              "[515738 rows x 2 columns]"
            ]
          },
          "metadata": {
            "tags": []
          },
          "execution_count": 4
        }
      ]
    },
    {
      "cell_type": "markdown",
      "metadata": {
        "id": "j4ZAGhMO9OFd"
      },
      "source": [
        "------------------------------------- NEW FILE --------------------------"
      ],
      "id": "j4ZAGhMO9OFd"
    },
    {
      "cell_type": "markdown",
      "metadata": {
        "id": "UMk3GDXR9OFi"
      },
      "source": [
        "# Import CSV"
      ],
      "id": "UMk3GDXR9OFi"
    },
    {
      "cell_type": "code",
      "metadata": {
        "colab": {
          "base_uri": "https://localhost:8080/",
          "height": 419
        },
        "id": "oIjlWOoS9OFj",
        "outputId": "4420146a-a6d0-4508-9b06-480feccf4334"
      },
      "source": [
        "#data = pd.read_csv(\"../raw_data/clean_dataset_1.csv\", index_col=0)\n",
        "data = dataset_1\n",
        "data"
      ],
      "id": "oIjlWOoS9OFj",
      "execution_count": null,
      "outputs": [
        {
          "output_type": "execute_result",
          "data": {
            "text/html": [
              "<div>\n",
              "<style scoped>\n",
              "    .dataframe tbody tr th:only-of-type {\n",
              "        vertical-align: middle;\n",
              "    }\n",
              "\n",
              "    .dataframe tbody tr th {\n",
              "        vertical-align: top;\n",
              "    }\n",
              "\n",
              "    .dataframe thead th {\n",
              "        text-align: right;\n",
              "    }\n",
              "</style>\n",
              "<table border=\"1\" class=\"dataframe\">\n",
              "  <thead>\n",
              "    <tr style=\"text-align: right;\">\n",
              "      <th></th>\n",
              "      <th>reviews</th>\n",
              "      <th>review_score</th>\n",
              "    </tr>\n",
              "  </thead>\n",
              "  <tbody>\n",
              "    <tr>\n",
              "      <th>0</th>\n",
              "      <td>angry made post available via possible site us...</td>\n",
              "      <td>2.9</td>\n",
              "    </tr>\n",
              "    <tr>\n",
              "      <th>1</th>\n",
              "      <td>no real complaint hotel great great location s...</td>\n",
              "      <td>7.5</td>\n",
              "    </tr>\n",
              "    <tr>\n",
              "      <th>2</th>\n",
              "      <td>room nice elderly bit difficult room two story...</td>\n",
              "      <td>7.1</td>\n",
              "    </tr>\n",
              "    <tr>\n",
              "      <th>3</th>\n",
              "      <td>room dirty afraid walk barefoot floor looked n...</td>\n",
              "      <td>3.8</td>\n",
              "    </tr>\n",
              "    <tr>\n",
              "      <th>4</th>\n",
              "      <td>booked company line showed picture room though...</td>\n",
              "      <td>6.7</td>\n",
              "    </tr>\n",
              "    <tr>\n",
              "      <th>...</th>\n",
              "      <td>...</td>\n",
              "      <td>...</td>\n",
              "    </tr>\n",
              "    <tr>\n",
              "      <th>515733</th>\n",
              "      <td>no trolly staff help take luggage room location</td>\n",
              "      <td>7.0</td>\n",
              "    </tr>\n",
              "    <tr>\n",
              "      <th>515734</th>\n",
              "      <td>hotel look like surely not breakfast ok got ea...</td>\n",
              "      <td>5.8</td>\n",
              "    </tr>\n",
              "    <tr>\n",
              "      <th>515735</th>\n",
              "      <td>ac useless hot week vienna gave hot air</td>\n",
              "      <td>2.5</td>\n",
              "    </tr>\n",
              "    <tr>\n",
              "      <th>515736</th>\n",
              "      <td>room enormous really comfortable believe famil...</td>\n",
              "      <td>8.8</td>\n",
              "    </tr>\n",
              "    <tr>\n",
              "      <th>515737</th>\n",
              "      <td>rd floor didn work free wife staff kind</td>\n",
              "      <td>8.3</td>\n",
              "    </tr>\n",
              "  </tbody>\n",
              "</table>\n",
              "<p>515738 rows × 2 columns</p>\n",
              "</div>"
            ],
            "text/plain": [
              "                                                  reviews  review_score\n",
              "0       angry made post available via possible site us...           2.9\n",
              "1       no real complaint hotel great great location s...           7.5\n",
              "2       room nice elderly bit difficult room two story...           7.1\n",
              "3       room dirty afraid walk barefoot floor looked n...           3.8\n",
              "4       booked company line showed picture room though...           6.7\n",
              "...                                                   ...           ...\n",
              "515733    no trolly staff help take luggage room location           7.0\n",
              "515734  hotel look like surely not breakfast ok got ea...           5.8\n",
              "515735            ac useless hot week vienna gave hot air           2.5\n",
              "515736  room enormous really comfortable believe famil...           8.8\n",
              "515737            rd floor didn work free wife staff kind           8.3\n",
              "\n",
              "[515738 rows x 2 columns]"
            ]
          },
          "metadata": {
            "tags": []
          },
          "execution_count": 7
        }
      ]
    },
    {
      "cell_type": "markdown",
      "metadata": {
        "id": "R38Zdbha9OFj"
      },
      "source": [
        "# Remove less than 5 words"
      ],
      "id": "R38Zdbha9OFj"
    },
    {
      "cell_type": "code",
      "metadata": {
        "colab": {
          "base_uri": "https://localhost:8080/",
          "height": 419
        },
        "id": "wnG0zm289OFk",
        "outputId": "1da5ce6e-f6e0-4d5a-b781-e6eb5292653b"
      },
      "source": [
        "data['length'] = data['reviews'].apply(lambda x: len(word_tokenize(str(x))))\n",
        "data.drop(data[data['length'] < 6].index, inplace=True)\n",
        "data.drop(columns=['length'], inplace=True)\n",
        "data.reset_index(drop=True, inplace=True)\n",
        "data"
      ],
      "id": "wnG0zm289OFk",
      "execution_count": null,
      "outputs": [
        {
          "output_type": "execute_result",
          "data": {
            "text/html": [
              "<div>\n",
              "<style scoped>\n",
              "    .dataframe tbody tr th:only-of-type {\n",
              "        vertical-align: middle;\n",
              "    }\n",
              "\n",
              "    .dataframe tbody tr th {\n",
              "        vertical-align: top;\n",
              "    }\n",
              "\n",
              "    .dataframe thead th {\n",
              "        text-align: right;\n",
              "    }\n",
              "</style>\n",
              "<table border=\"1\" class=\"dataframe\">\n",
              "  <thead>\n",
              "    <tr style=\"text-align: right;\">\n",
              "      <th></th>\n",
              "      <th>reviews</th>\n",
              "      <th>review_score</th>\n",
              "    </tr>\n",
              "  </thead>\n",
              "  <tbody>\n",
              "    <tr>\n",
              "      <th>0</th>\n",
              "      <td>angry made post available via possible site us...</td>\n",
              "      <td>2.9</td>\n",
              "    </tr>\n",
              "    <tr>\n",
              "      <th>1</th>\n",
              "      <td>no real complaint hotel great great location s...</td>\n",
              "      <td>7.5</td>\n",
              "    </tr>\n",
              "    <tr>\n",
              "      <th>2</th>\n",
              "      <td>room nice elderly bit difficult room two story...</td>\n",
              "      <td>7.1</td>\n",
              "    </tr>\n",
              "    <tr>\n",
              "      <th>3</th>\n",
              "      <td>room dirty afraid walk barefoot floor looked n...</td>\n",
              "      <td>3.8</td>\n",
              "    </tr>\n",
              "    <tr>\n",
              "      <th>4</th>\n",
              "      <td>booked company line showed picture room though...</td>\n",
              "      <td>6.7</td>\n",
              "    </tr>\n",
              "    <tr>\n",
              "      <th>...</th>\n",
              "      <td>...</td>\n",
              "      <td>...</td>\n",
              "    </tr>\n",
              "    <tr>\n",
              "      <th>421649</th>\n",
              "      <td>no trolly staff help take luggage room location</td>\n",
              "      <td>7.0</td>\n",
              "    </tr>\n",
              "    <tr>\n",
              "      <th>421650</th>\n",
              "      <td>hotel look like surely not breakfast ok got ea...</td>\n",
              "      <td>5.8</td>\n",
              "    </tr>\n",
              "    <tr>\n",
              "      <th>421651</th>\n",
              "      <td>ac useless hot week vienna gave hot air</td>\n",
              "      <td>2.5</td>\n",
              "    </tr>\n",
              "    <tr>\n",
              "      <th>421652</th>\n",
              "      <td>room enormous really comfortable believe famil...</td>\n",
              "      <td>8.8</td>\n",
              "    </tr>\n",
              "    <tr>\n",
              "      <th>421653</th>\n",
              "      <td>rd floor didn work free wife staff kind</td>\n",
              "      <td>8.3</td>\n",
              "    </tr>\n",
              "  </tbody>\n",
              "</table>\n",
              "<p>421654 rows × 2 columns</p>\n",
              "</div>"
            ],
            "text/plain": [
              "                                                  reviews  review_score\n",
              "0       angry made post available via possible site us...           2.9\n",
              "1       no real complaint hotel great great location s...           7.5\n",
              "2       room nice elderly bit difficult room two story...           7.1\n",
              "3       room dirty afraid walk barefoot floor looked n...           3.8\n",
              "4       booked company line showed picture room though...           6.7\n",
              "...                                                   ...           ...\n",
              "421649    no trolly staff help take luggage room location           7.0\n",
              "421650  hotel look like surely not breakfast ok got ea...           5.8\n",
              "421651            ac useless hot week vienna gave hot air           2.5\n",
              "421652  room enormous really comfortable believe famil...           8.8\n",
              "421653            rd floor didn work free wife staff kind           8.3\n",
              "\n",
              "[421654 rows x 2 columns]"
            ]
          },
          "metadata": {
            "tags": []
          },
          "execution_count": 8
        }
      ]
    },
    {
      "cell_type": "markdown",
      "metadata": {
        "id": "uQS9FInR9OH8"
      },
      "source": [
        "#  NEURAL NETWORK"
      ],
      "id": "uQS9FInR9OH8"
    },
    {
      "cell_type": "code",
      "metadata": {
        "id": "Gqy9_Or87dj8"
      },
      "source": [
        "df_1 = data[data['review_score'] < 5][:5000]"
      ],
      "id": "Gqy9_Or87dj8",
      "execution_count": null,
      "outputs": []
    },
    {
      "cell_type": "code",
      "metadata": {
        "id": "BMAvbYZu775v"
      },
      "source": [
        "df_2 = data[(data['review_score'] > 5) & (data['review_score'] <8)][:5000]"
      ],
      "id": "BMAvbYZu775v",
      "execution_count": null,
      "outputs": []
    },
    {
      "cell_type": "code",
      "metadata": {
        "id": "FPN6eBo_8hfk"
      },
      "source": [
        "df_3 = data[(data['review_score'] > 8) & (data['review_score'] <9)][:5000]"
      ],
      "id": "FPN6eBo_8hfk",
      "execution_count": null,
      "outputs": []
    },
    {
      "cell_type": "code",
      "metadata": {
        "id": "CnyuBRGa8iI3"
      },
      "source": [
        "df_4 = data[(data['review_score'] > 9) & (data['review_score'] < 10.1)][:5000]"
      ],
      "id": "CnyuBRGa8iI3",
      "execution_count": null,
      "outputs": []
    },
    {
      "cell_type": "code",
      "metadata": {
        "colab": {
          "base_uri": "https://localhost:8080/",
          "height": 415
        },
        "id": "JFHVF2hf86s9",
        "outputId": "80e6ca17-3d3d-405f-9566-d73c1d8ed395"
      },
      "source": [
        "pd.concat([df_1,df_2,df_3,df_4])"
      ],
      "id": "JFHVF2hf86s9",
      "execution_count": null,
      "outputs": [
        {
          "output_type": "execute_result",
          "data": {
            "text/html": [
              "<div>\n",
              "<style scoped>\n",
              "    .dataframe tbody tr th:only-of-type {\n",
              "        vertical-align: middle;\n",
              "    }\n",
              "\n",
              "    .dataframe tbody tr th {\n",
              "        vertical-align: top;\n",
              "    }\n",
              "\n",
              "    .dataframe thead th {\n",
              "        text-align: right;\n",
              "    }\n",
              "</style>\n",
              "<table border=\"1\" class=\"dataframe\">\n",
              "  <thead>\n",
              "    <tr style=\"text-align: right;\">\n",
              "      <th></th>\n",
              "      <th>reviews</th>\n",
              "      <th>review_score</th>\n",
              "    </tr>\n",
              "  </thead>\n",
              "  <tbody>\n",
              "    <tr>\n",
              "      <th>0</th>\n",
              "      <td>angry made post available via possible site us...</td>\n",
              "      <td>2.9</td>\n",
              "    </tr>\n",
              "    <tr>\n",
              "      <th>3</th>\n",
              "      <td>room dirty afraid walk barefoot floor looked n...</td>\n",
              "      <td>3.8</td>\n",
              "    </tr>\n",
              "    <tr>\n",
              "      <th>6</th>\n",
              "      <td>cleaner not change sheet duvet everyday made b...</td>\n",
              "      <td>4.6</td>\n",
              "    </tr>\n",
              "    <tr>\n",
              "      <th>12</th>\n",
              "      <td>floor room filfy dirty basic room yr old tv ro...</td>\n",
              "      <td>4.6</td>\n",
              "    </tr>\n",
              "    <tr>\n",
              "      <th>21</th>\n",
              "      <td>room overrated disaster room dirty smelly hot ...</td>\n",
              "      <td>3.8</td>\n",
              "    </tr>\n",
              "    <tr>\n",
              "      <th>...</th>\n",
              "      <td>...</td>\n",
              "      <td>...</td>\n",
              "    </tr>\n",
              "    <tr>\n",
              "      <th>12330</th>\n",
              "      <td>not think anything could better sure bit price...</td>\n",
              "      <td>10.0</td>\n",
              "    </tr>\n",
              "    <tr>\n",
              "      <th>12331</th>\n",
              "      <td>breakfast best hotel bed comfy usually like pi...</td>\n",
              "      <td>10.0</td>\n",
              "    </tr>\n",
              "    <tr>\n",
              "      <th>12332</th>\n",
              "      <td>nothing excellent hotel great location excepti...</td>\n",
              "      <td>10.0</td>\n",
              "    </tr>\n",
              "    <tr>\n",
              "      <th>12333</th>\n",
              "      <td>nothing could better staff attentive extremely...</td>\n",
              "      <td>10.0</td>\n",
              "    </tr>\n",
              "    <tr>\n",
              "      <th>12334</th>\n",
              "      <td>whole experience wonderful staff helpful frien...</td>\n",
              "      <td>10.0</td>\n",
              "    </tr>\n",
              "  </tbody>\n",
              "</table>\n",
              "<p>20000 rows × 2 columns</p>\n",
              "</div>"
            ],
            "text/plain": [
              "                                                 reviews  review_score\n",
              "0      angry made post available via possible site us...           2.9\n",
              "3      room dirty afraid walk barefoot floor looked n...           3.8\n",
              "6      cleaner not change sheet duvet everyday made b...           4.6\n",
              "12     floor room filfy dirty basic room yr old tv ro...           4.6\n",
              "21     room overrated disaster room dirty smelly hot ...           3.8\n",
              "...                                                  ...           ...\n",
              "12330  not think anything could better sure bit price...          10.0\n",
              "12331  breakfast best hotel bed comfy usually like pi...          10.0\n",
              "12332  nothing excellent hotel great location excepti...          10.0\n",
              "12333  nothing could better staff attentive extremely...          10.0\n",
              "12334  whole experience wonderful staff helpful frien...          10.0\n",
              "\n",
              "[20000 rows x 2 columns]"
            ]
          },
          "metadata": {
            "tags": []
          },
          "execution_count": 476
        }
      ]
    },
    {
      "cell_type": "code",
      "metadata": {
        "id": "JB85f1Tu9OH9",
        "colab": {
          "base_uri": "https://localhost:8080/"
        },
        "outputId": "85f5b9d2-fd97-4b74-a1fd-9eda2d231d6b"
      },
      "source": [
        "X_2 = pd.concat([df_1,df_2,df_3,df_4])['reviews']\n",
        "y_2 = pd.concat([df_1,df_2,df_3,df_4])['review_score']\n",
        "y = pd.concat([df_1,df_2,df_3,df_4])['review_score']\n",
        "print(X_2.shape, y_2.shape)\n",
        "X_2.reset_index(drop=True, inplace=True)\n",
        "X_2"
      ],
      "id": "JB85f1Tu9OH9",
      "execution_count": null,
      "outputs": [
        {
          "output_type": "stream",
          "text": [
            "(20000,) (20000,)\n"
          ],
          "name": "stdout"
        },
        {
          "output_type": "execute_result",
          "data": {
            "text/plain": [
              "0        angry made post available via possible site us...\n",
              "1        room dirty afraid walk barefoot floor looked n...\n",
              "2        cleaner not change sheet duvet everyday made b...\n",
              "3        floor room filfy dirty basic room yr old tv ro...\n",
              "4        room overrated disaster room dirty smelly hot ...\n",
              "                               ...                        \n",
              "19995    not think anything could better sure bit price...\n",
              "19996    breakfast best hotel bed comfy usually like pi...\n",
              "19997    nothing excellent hotel great location excepti...\n",
              "19998    nothing could better staff attentive extremely...\n",
              "19999    whole experience wonderful staff helpful frien...\n",
              "Name: reviews, Length: 20000, dtype: object"
            ]
          },
          "metadata": {
            "tags": []
          },
          "execution_count": 510
        }
      ]
    },
    {
      "cell_type": "code",
      "metadata": {
        "colab": {
          "base_uri": "https://localhost:8080/"
        },
        "id": "r6FVm5I08g-9",
        "outputId": "6bd25e5b-9206-436e-ba82-e35babcbb614"
      },
      "source": [
        "# Baseline Model\r\n",
        "from sklearn.metrics import mean_absolute_error\r\n",
        "\r\n",
        "y_pred_baseline = np.random.uniform(low=0, high=10., size=(4000,))  # Taking into account that averages are around 8.2\r\n",
        "\r\n",
        "baseline_mae = mean_absolute_error(y[:4000], y_pred_baseline)\r\n",
        "baseline_mae"
      ],
      "id": "r6FVm5I08g-9",
      "execution_count": null,
      "outputs": [
        {
          "output_type": "execute_result",
          "data": {
            "text/plain": [
              "2.675800879371502"
            ]
          },
          "metadata": {
            "tags": []
          },
          "execution_count": 512
        }
      ]
    },
    {
      "cell_type": "code",
      "metadata": {
        "id": "ZMeZWSTJ9OIK"
      },
      "source": [
        "# # Tokenize X\n",
        "# import nltk\n",
        "# from nltk.tokenize import word_tokenize\n",
        "\n",
        "# def tokenize_words(text):\n",
        "#     # Tokenizing\n",
        "#     text_tokenized = word_tokenize(text)\n",
        "#     text = [word for word in text_tokenized] # if not word in stop_words]\n",
        "# #     text = ' '.join([word for word in text])\n",
        "#     return text"
      ],
      "id": "ZMeZWSTJ9OIK",
      "execution_count": null,
      "outputs": []
    },
    {
      "cell_type": "code",
      "metadata": {
        "id": "HjD4UPXe9OIL"
      },
      "source": [
        "# Tokenize X\n",
        "# X_2 = [tokenize_words(X_2[row]) for row in range(0, len(X_2))]\n",
        "\n",
        "from tensorflow.keras.preprocessing.text import Tokenizer\n",
        "\n",
        "max_words = 5000\n",
        "\n",
        "def tokenInit(train, max_words):\n",
        "    tokenizer = Tokenizer(num_words=max_words)\n",
        "    tokenizer.fit_on_texts(train)\n",
        "    return tokenizer"
      ],
      "id": "HjD4UPXe9OIL",
      "execution_count": null,
      "outputs": []
    },
    {
      "cell_type": "code",
      "metadata": {
        "id": "83KZafWO9OIL"
      },
      "source": [
        "tokenizer = tokenInit(X_2, max_words)"
      ],
      "id": "83KZafWO9OIL",
      "execution_count": null,
      "outputs": []
    },
    {
      "cell_type": "code",
      "metadata": {
        "colab": {
          "base_uri": "https://localhost:8080/"
        },
        "id": "HcYR8lw9oX3V",
        "outputId": "42ad8b0b-be4b-4eeb-e160-963738f7ab9f"
      },
      "source": [
        "tokenizer.word_index"
      ],
      "id": "HcYR8lw9oX3V",
      "execution_count": null,
      "outputs": [
        {
          "output_type": "execute_result",
          "data": {
            "text/plain": [
              "{'room': 1,\n",
              " 'hotel': 2,\n",
              " 'staff': 3,\n",
              " 'not': 4,\n",
              " 'location': 5,\n",
              " 'breakfast': 6,\n",
              " 'good': 7,\n",
              " 'bed': 8,\n",
              " 'no': 9,\n",
              " 'small': 10,\n",
              " 'great': 11,\n",
              " 'friendly': 12,\n",
              " 'nice': 13,\n",
              " 'helpful': 14,\n",
              " 'clean': 15,\n",
              " 'bathroom': 16,\n",
              " 'would': 17,\n",
              " 'comfortable': 18,\n",
              " 'stay': 19,\n",
              " 'service': 20,\n",
              " 'one': 21,\n",
              " 'u': 22,\n",
              " 'night': 23,\n",
              " 'excellent': 24,\n",
              " 'could': 25,\n",
              " 'bar': 26,\n",
              " 'shower': 27,\n",
              " 'time': 28,\n",
              " 'really': 29,\n",
              " 'didn': 30,\n",
              " 'like': 31,\n",
              " 'reception': 32,\n",
              " 'nothing': 33,\n",
              " 'london': 34,\n",
              " 'also': 35,\n",
              " 'day': 36,\n",
              " 'lovely': 37,\n",
              " 'get': 38,\n",
              " 'station': 39,\n",
              " 'restaurant': 40,\n",
              " 'view': 41,\n",
              " 'even': 42,\n",
              " 'area': 43,\n",
              " 'close': 44,\n",
              " 'well': 45,\n",
              " 'floor': 46,\n",
              " 'check': 47,\n",
              " 'little': 48,\n",
              " 'price': 49,\n",
              " 'poor': 50,\n",
              " 'food': 51,\n",
              " 'bit': 52,\n",
              " 'window': 53,\n",
              " 'work': 54,\n",
              " 'walk': 55,\n",
              " 'facility': 56,\n",
              " 'need': 57,\n",
              " 'door': 58,\n",
              " 'old': 59,\n",
              " 'water': 60,\n",
              " 'air': 61,\n",
              " 'booking': 62,\n",
              " 'tube': 63,\n",
              " 'everything': 64,\n",
              " 'back': 65,\n",
              " 'quiet': 66,\n",
              " 'got': 67,\n",
              " 'booked': 68,\n",
              " 'next': 69,\n",
              " 'much': 70,\n",
              " 'money': 71,\n",
              " 'made': 72,\n",
              " 'two': 73,\n",
              " 'place': 74,\n",
              " 'told': 75,\n",
              " 'bad': 76,\n",
              " 'hot': 77,\n",
              " 'asked': 78,\n",
              " 'comfy': 79,\n",
              " 'minute': 80,\n",
              " 'size': 81,\n",
              " 'park': 82,\n",
              " 'around': 83,\n",
              " 'expensive': 84,\n",
              " 'lot': 85,\n",
              " 'star': 86,\n",
              " 'stayed': 87,\n",
              " 'free': 88,\n",
              " 'building': 89,\n",
              " 'double': 90,\n",
              " 'better': 91,\n",
              " 'quite': 92,\n",
              " 'perfect': 93,\n",
              " 'coffee': 94,\n",
              " 'noisy': 95,\n",
              " 'extremely': 96,\n",
              " 'first': 97,\n",
              " 'noise': 98,\n",
              " 'go': 99,\n",
              " 'wifi': 100,\n",
              " 'dirty': 101,\n",
              " 'morning': 102,\n",
              " 'extra': 103,\n",
              " 'people': 104,\n",
              " 'thing': 105,\n",
              " 'big': 106,\n",
              " 'use': 107,\n",
              " 'beautiful': 108,\n",
              " 'paid': 109,\n",
              " 'bath': 110,\n",
              " 'cold': 111,\n",
              " 'tiny': 112,\n",
              " 'never': 113,\n",
              " 'near': 114,\n",
              " 'enough': 115,\n",
              " 'couldn': 116,\n",
              " 'way': 117,\n",
              " 'amazing': 118,\n",
              " 'sleep': 119,\n",
              " 'standard': 120,\n",
              " 'value': 121,\n",
              " 'should': 122,\n",
              " 'front': 123,\n",
              " 'make': 124,\n",
              " 'guest': 125,\n",
              " 'desk': 126,\n",
              " 'working': 127,\n",
              " 'tea': 128,\n",
              " 'space': 129,\n",
              " 'outside': 130,\n",
              " 'drink': 131,\n",
              " 'tv': 132,\n",
              " 'toilet': 133,\n",
              " 'pay': 134,\n",
              " 'away': 135,\n",
              " 'given': 136,\n",
              " 'open': 137,\n",
              " 'hour': 138,\n",
              " 'bedroom': 139,\n",
              " 'modern': 140,\n",
              " 'still': 141,\n",
              " 'problem': 142,\n",
              " 'said': 143,\n",
              " 'easy': 144,\n",
              " 'central': 145,\n",
              " 'went': 146,\n",
              " 'lift': 147,\n",
              " 'experience': 148,\n",
              " 'quality': 149,\n",
              " 'walking': 150,\n",
              " 'spacious': 151,\n",
              " 'fantastic': 152,\n",
              " 'left': 153,\n",
              " 'though': 154,\n",
              " 'wall': 155,\n",
              " 'every': 156,\n",
              " 'another': 157,\n",
              " 'upgrade': 158,\n",
              " 'street': 159,\n",
              " 'feel': 160,\n",
              " 'right': 161,\n",
              " 'min': 162,\n",
              " 'arrived': 163,\n",
              " 'although': 164,\n",
              " 'pillow': 165,\n",
              " 'rude': 166,\n",
              " 'available': 167,\n",
              " 'manager': 168,\n",
              " 'many': 169,\n",
              " 'long': 170,\n",
              " 'card': 171,\n",
              " 'charge': 172,\n",
              " 'arrival': 173,\n",
              " 'put': 174,\n",
              " 'far': 175,\n",
              " 'best': 176,\n",
              " 'recommend': 177,\n",
              " 'choice': 178,\n",
              " 'access': 179,\n",
              " 'find': 180,\n",
              " 'definitely': 181,\n",
              " 'took': 182,\n",
              " 'especially': 183,\n",
              " 'uncomfortable': 184,\n",
              " 'however': 185,\n",
              " 'customer': 186,\n",
              " 'loved': 187,\n",
              " 'towel': 188,\n",
              " 'parking': 189,\n",
              " 'decor': 190,\n",
              " 'take': 191,\n",
              " 'etc': 192,\n",
              " 'felt': 193,\n",
              " 'carpet': 194,\n",
              " 'going': 195,\n",
              " 'without': 196,\n",
              " 'due': 197,\n",
              " 'pleasant': 198,\n",
              " 'large': 199,\n",
              " 'always': 200,\n",
              " 'see': 201,\n",
              " 'conditioning': 202,\n",
              " 'lobby': 203,\n",
              " 'side': 204,\n",
              " 'early': 205,\n",
              " 'paris': 206,\n",
              " 'full': 207,\n",
              " 'look': 208,\n",
              " 'found': 209,\n",
              " 'upgraded': 210,\n",
              " 'underground': 211,\n",
              " 'overall': 212,\n",
              " 'single': 213,\n",
              " 'warm': 214,\n",
              " 'needed': 215,\n",
              " 'high': 216,\n",
              " 'wait': 217,\n",
              " 'hard': 218,\n",
              " 'com': 219,\n",
              " 'think': 220,\n",
              " 'liked': 221,\n",
              " 'ever': 222,\n",
              " 'help': 223,\n",
              " 'convenient': 224,\n",
              " 'light': 225,\n",
              " 'metro': 226,\n",
              " 'pm': 227,\n",
              " 'gave': 228,\n",
              " 'pool': 229,\n",
              " 'issue': 230,\n",
              " 'polite': 231,\n",
              " 'table': 232,\n",
              " 'come': 233,\n",
              " 'broken': 234,\n",
              " 'late': 235,\n",
              " 'suite': 236,\n",
              " 'came': 237,\n",
              " 'slow': 238,\n",
              " 'change': 239,\n",
              " 'offered': 240,\n",
              " 'tired': 241,\n",
              " 'ok': 242,\n",
              " 'want': 243,\n",
              " 'staying': 244,\n",
              " 'call': 245,\n",
              " 'smell': 246,\n",
              " 'ask': 247,\n",
              " 'distance': 248,\n",
              " 'evening': 249,\n",
              " 'located': 250,\n",
              " 'phone': 251,\n",
              " 'looked': 252,\n",
              " 'charged': 253,\n",
              " 'th': 254,\n",
              " 'luggage': 255,\n",
              " 'train': 256,\n",
              " 'new': 257,\n",
              " 'city': 258,\n",
              " 'family': 259,\n",
              " 'anything': 260,\n",
              " 'checked': 261,\n",
              " 'receptionist': 262,\n",
              " 'busy': 263,\n",
              " 'wanted': 264,\n",
              " 'included': 265,\n",
              " 'worth': 266,\n",
              " 'cost': 267,\n",
              " 'car': 268,\n",
              " 'concierge': 269,\n",
              " 'terrible': 270,\n",
              " 'used': 271,\n",
              " 'english': 272,\n",
              " 'person': 273,\n",
              " 'hyde': 274,\n",
              " 'main': 275,\n",
              " 'year': 276,\n",
              " 'whole': 277,\n",
              " 'second': 278,\n",
              " 'know': 279,\n",
              " 'birthday': 280,\n",
              " 'welcoming': 281,\n",
              " 'ready': 282,\n",
              " 'disappointed': 283,\n",
              " 'expected': 284,\n",
              " 'bus': 285,\n",
              " 'top': 286,\n",
              " 'say': 287,\n",
              " 'buffet': 288,\n",
              " 'cleaned': 289,\n",
              " 'fridge': 290,\n",
              " 'super': 291,\n",
              " 'con': 292,\n",
              " 'glass': 293,\n",
              " 'end': 294,\n",
              " 'per': 295,\n",
              " 'visit': 296,\n",
              " 'lounge': 297,\n",
              " 'bottle': 298,\n",
              " 'difficult': 299,\n",
              " 'provided': 300,\n",
              " 'wonderful': 301,\n",
              " 'move': 302,\n",
              " 'moved': 303,\n",
              " 'complimentary': 304,\n",
              " 'nearby': 305,\n",
              " 'fresh': 306,\n",
              " 'able': 307,\n",
              " 'furniture': 308,\n",
              " 'cleanliness': 309,\n",
              " 'within': 310,\n",
              " 'mini': 311,\n",
              " 'cleaning': 312,\n",
              " 'properly': 313,\n",
              " 'hear': 314,\n",
              " 'road': 315,\n",
              " 'give': 316,\n",
              " 'happy': 317,\n",
              " 'book': 318,\n",
              " 'club': 319,\n",
              " 'special': 320,\n",
              " 'worst': 321,\n",
              " 'someone': 322,\n",
              " 'garden': 323,\n",
              " 'kept': 324,\n",
              " 'despite': 325,\n",
              " 'rather': 326,\n",
              " 'short': 327,\n",
              " 'st': 328,\n",
              " 'entrance': 329,\n",
              " 'dark': 330,\n",
              " 'member': 331,\n",
              " 'sure': 332,\n",
              " 'looking': 333,\n",
              " 'else': 334,\n",
              " 'making': 335,\n",
              " 'request': 336,\n",
              " 'taxi': 337,\n",
              " 'heating': 338,\n",
              " 'fact': 339,\n",
              " 'twin': 340,\n",
              " 'rate': 341,\n",
              " 'child': 342,\n",
              " 'order': 343,\n",
              " 'wouldn': 344,\n",
              " 'called': 345,\n",
              " 'option': 346,\n",
              " 'bag': 347,\n",
              " 'elevator': 348,\n",
              " 'getting': 349,\n",
              " 'paddington': 350,\n",
              " 'stair': 351,\n",
              " 'thought': 352,\n",
              " 'different': 353,\n",
              " 'dated': 354,\n",
              " 'leave': 355,\n",
              " 'checking': 356,\n",
              " 'attentive': 357,\n",
              " 'eye': 358,\n",
              " 'superior': 359,\n",
              " 'absolutely': 360,\n",
              " 'site': 361,\n",
              " 'last': 362,\n",
              " 'requested': 363,\n",
              " 'selection': 364,\n",
              " 'mattress': 365,\n",
              " 'seemed': 366,\n",
              " 'hair': 367,\n",
              " 'gym': 368,\n",
              " 'shop': 369,\n",
              " 'awful': 370,\n",
              " 'something': 371,\n",
              " 'stop': 372,\n",
              " 'business': 373,\n",
              " 'waiting': 374,\n",
              " 'offer': 375,\n",
              " 'changed': 376,\n",
              " 'trip': 377,\n",
              " 'sink': 378,\n",
              " 'eat': 379,\n",
              " 'done': 380,\n",
              " 'inside': 381,\n",
              " 'professional': 382,\n",
              " 'expect': 383,\n",
              " 'line': 384,\n",
              " 'closed': 385,\n",
              " 'loud': 386,\n",
              " 'king': 387,\n",
              " 'fine': 388,\n",
              " 'egg': 389,\n",
              " 'half': 390,\n",
              " 'internet': 391,\n",
              " 'basic': 392,\n",
              " 'welcome': 393,\n",
              " 'corridor': 394,\n",
              " 'let': 395,\n",
              " 'tried': 396,\n",
              " 'superb': 397,\n",
              " 'attraction': 398,\n",
              " 'sofa': 399,\n",
              " 'level': 400,\n",
              " 'system': 401,\n",
              " 'plenty': 402,\n",
              " 'efficient': 403,\n",
              " 'spa': 404,\n",
              " 'public': 405,\n",
              " 'disappointing': 406,\n",
              " 'atmosphere': 407,\n",
              " 'coming': 408,\n",
              " 'le': 409,\n",
              " 'fruit': 410,\n",
              " 'property': 411,\n",
              " 'construction': 412,\n",
              " 'three': 413,\n",
              " 'smaller': 414,\n",
              " 'twice': 415,\n",
              " 'machine': 416,\n",
              " 'curtain': 417,\n",
              " 'style': 418,\n",
              " 'wine': 419,\n",
              " 'basement': 420,\n",
              " 'touch': 421,\n",
              " 'pretty': 422,\n",
              " 'key': 423,\n",
              " 'later': 424,\n",
              " 'part': 425,\n",
              " 'limited': 426,\n",
              " 'lack': 427,\n",
              " 'comfort': 428,\n",
              " 'kind': 429,\n",
              " 'return': 430,\n",
              " 'housekeeping': 431,\n",
              " 'picture': 432,\n",
              " 'upon': 433,\n",
              " 'temperature': 434,\n",
              " 'either': 435,\n",
              " 'couple': 436,\n",
              " 'corner': 437,\n",
              " 'bigger': 438,\n",
              " 'design': 439,\n",
              " 'menu': 440,\n",
              " 'fault': 441,\n",
              " 'almost': 442,\n",
              " 'dining': 443,\n",
              " 'across': 444,\n",
              " 'ideal': 445,\n",
              " 'set': 446,\n",
              " 'point': 447,\n",
              " 'deluxe': 448,\n",
              " 'safe': 449,\n",
              " 'friend': 450,\n",
              " 'renovation': 451,\n",
              " 'lady': 452,\n",
              " 'keep': 453,\n",
              " 'centre': 454,\n",
              " 'pound': 455,\n",
              " 'tower': 456,\n",
              " 'cramped': 457,\n",
              " 'sound': 458,\n",
              " 'house': 459,\n",
              " 'meant': 460,\n",
              " 'brilliant': 461,\n",
              " 'run': 462,\n",
              " 'huge': 463,\n",
              " 'milk': 464,\n",
              " 'enjoyed': 465,\n",
              " 'sheet': 466,\n",
              " 'complaint': 467,\n",
              " 'paying': 468,\n",
              " 'served': 469,\n",
              " 'non': 470,\n",
              " 'transport': 471,\n",
              " 'anyone': 472,\n",
              " 'dinner': 473,\n",
              " 'fan': 474,\n",
              " 'ground': 475,\n",
              " 'step': 476,\n",
              " 'plug': 477,\n",
              " 'already': 478,\n",
              " 'yet': 479,\n",
              " 'toiletry': 480,\n",
              " 'actually': 481,\n",
              " 'weekend': 482,\n",
              " 'complained': 483,\n",
              " 'shopping': 484,\n",
              " 'several': 485,\n",
              " 'queue': 486,\n",
              " 'cup': 487,\n",
              " 'plus': 488,\n",
              " 'meal': 489,\n",
              " 'executive': 490,\n",
              " 'ac': 491,\n",
              " 'head': 492,\n",
              " 'wrong': 493,\n",
              " 'theatre': 494,\n",
              " 'stuff': 495,\n",
              " 'instead': 496,\n",
              " 'since': 497,\n",
              " 'least': 498,\n",
              " 'refund': 499,\n",
              " 'weren': 500,\n",
              " 'cooked': 501,\n",
              " 'try': 502,\n",
              " 'website': 503,\n",
              " 'horrible': 504,\n",
              " 'attitude': 505,\n",
              " 'interior': 506,\n",
              " 'amount': 507,\n",
              " 'grand': 508,\n",
              " 'airport': 509,\n",
              " 'start': 510,\n",
              " 'worked': 511,\n",
              " 'photo': 512,\n",
              " 'soft': 513,\n",
              " 'kid': 514,\n",
              " 'decent': 515,\n",
              " 'chair': 516,\n",
              " 'credit': 517,\n",
              " 'overpriced': 518,\n",
              " 'using': 519,\n",
              " 'general': 520,\n",
              " 'maybe': 521,\n",
              " 'show': 522,\n",
              " 'considering': 523,\n",
              " 'turned': 524,\n",
              " 'wardrobe': 525,\n",
              " 'deal': 526,\n",
              " 'hall': 527,\n",
              " 'slightly': 528,\n",
              " 'week': 529,\n",
              " 'seen': 530,\n",
              " 'unable': 531,\n",
              " 'smoking': 532,\n",
              " 'thank': 533,\n",
              " 'reason': 534,\n",
              " 'major': 535,\n",
              " 'home': 536,\n",
              " 'travel': 537,\n",
              " 'accommodating': 538,\n",
              " 'condition': 539,\n",
              " 'number': 540,\n",
              " 'cafe': 541,\n",
              " 'may': 542,\n",
              " 'case': 543,\n",
              " 'partner': 544,\n",
              " 'probably': 545,\n",
              " 'balcony': 546,\n",
              " 'love': 547,\n",
              " 'real': 548,\n",
              " 'totally': 549,\n",
              " 'rest': 550,\n",
              " 'reservation': 551,\n",
              " 'unfortunately': 552,\n",
              " 'turn': 553,\n",
              " 'ceiling': 554,\n",
              " 'euro': 555,\n",
              " 'cheap': 556,\n",
              " 'worn': 557,\n",
              " 'everywhere': 558,\n",
              " 'average': 559,\n",
              " 'together': 560,\n",
              " 'detail': 561,\n",
              " 'wet': 562,\n",
              " 'received': 563,\n",
              " 'informed': 564,\n",
              " 'cleaner': 565,\n",
              " 'c': 566,\n",
              " 'complain': 567,\n",
              " 'care': 568,\n",
              " 'opened': 569,\n",
              " 'stain': 570,\n",
              " 'ordered': 571,\n",
              " 'cross': 572,\n",
              " 'didnt': 573,\n",
              " 'item': 574,\n",
              " 'hand': 575,\n",
              " 'four': 576,\n",
              " 'position': 577,\n",
              " 'slept': 578,\n",
              " 'particularly': 579,\n",
              " 'taking': 580,\n",
              " 'low': 581,\n",
              " 'unhelpful': 582,\n",
              " 'de': 583,\n",
              " 'variety': 584,\n",
              " 'hilton': 585,\n",
              " 'understand': 586,\n",
              " 'museum': 587,\n",
              " 'mirror': 588,\n",
              " 'priced': 589,\n",
              " 'kensington': 590,\n",
              " 'delicious': 591,\n",
              " 'information': 592,\n",
              " 'email': 593,\n",
              " 'n': 594,\n",
              " 'refurbishment': 595,\n",
              " 'square': 596,\n",
              " 'husband': 597,\n",
              " 'waited': 598,\n",
              " 'middle': 599,\n",
              " 'checkout': 600,\n",
              " 'clearly': 601,\n",
              " 'daughter': 602,\n",
              " 'handy': 603,\n",
              " 'e': 604,\n",
              " 'management': 605,\n",
              " 'name': 606,\n",
              " 'fire': 607,\n",
              " 'trying': 608,\n",
              " 'except': 609,\n",
              " 'tap': 610,\n",
              " 'equipped': 611,\n",
              " 'cool': 612,\n",
              " 'finally': 613,\n",
              " 'sit': 614,\n",
              " 'taken': 615,\n",
              " 'wife': 616,\n",
              " 'lighting': 617,\n",
              " 'payment': 618,\n",
              " 'tourist': 619,\n",
              " 'suitcase': 620,\n",
              " 'swimming': 621,\n",
              " 'throughout': 622,\n",
              " 'alarm': 623,\n",
              " 'decorated': 624,\n",
              " 'highly': 625,\n",
              " 'doesn': 626,\n",
              " 'refurbished': 627,\n",
              " 'amenity': 628,\n",
              " 'eiffel': 629,\n",
              " 'completely': 630,\n",
              " 'leaving': 631,\n",
              " 'separate': 632,\n",
              " 'local': 633,\n",
              " 'control': 634,\n",
              " 'fabulous': 635,\n",
              " 'possible': 636,\n",
              " 'mentioned': 637,\n",
              " 'walked': 638,\n",
              " 'proximity': 639,\n",
              " 'sleeping': 640,\n",
              " 'apart': 641,\n",
              " 'kettle': 642,\n",
              " 'v': 643,\n",
              " 'iron': 644,\n",
              " 'larger': 645,\n",
              " 'refused': 646,\n",
              " 'maintenance': 647,\n",
              " 'thin': 648,\n",
              " 'asking': 649,\n",
              " 'seem': 650,\n",
              " 'history': 651,\n",
              " 'hardly': 652,\n",
              " 'court': 653,\n",
              " 'kitchen': 654,\n",
              " 'paper': 655,\n",
              " 'everyone': 656,\n",
              " 'bill': 657,\n",
              " 'sign': 658,\n",
              " 'previous': 659,\n",
              " 'whilst': 660,\n",
              " 'reasonable': 661,\n",
              " 'trouble': 662,\n",
              " 'shabby': 663,\n",
              " 'ended': 664,\n",
              " 'disgusting': 665,\n",
              " 'must': 666,\n",
              " 'attention': 667,\n",
              " 'barely': 668,\n",
              " 'quick': 669,\n",
              " 'tidy': 670,\n",
              " 'advertised': 671,\n",
              " 'accommodation': 672,\n",
              " 'provide': 673,\n",
              " 'bank': 674,\n",
              " 'round': 675,\n",
              " 'helped': 676,\n",
              " 'please': 677,\n",
              " 'certainly': 678,\n",
              " 'chocolate': 679,\n",
              " 'box': 680,\n",
              " 'stained': 681,\n",
              " 'connection': 682,\n",
              " 'otherwise': 683,\n",
              " 'compact': 684,\n",
              " 'surprise': 685,\n",
              " 'adequate': 686,\n",
              " 'traffic': 687,\n",
              " 'speak': 688,\n",
              " 'guy': 689,\n",
              " 'wi': 690,\n",
              " 'nicely': 691,\n",
              " 'drain': 692,\n",
              " 'empty': 693,\n",
              " 'center': 694,\n",
              " 'unit': 695,\n",
              " 'opposite': 696,\n",
              " 'tell': 697,\n",
              " 'incredibly': 698,\n",
              " 'fi': 699,\n",
              " 'returned': 700,\n",
              " 'young': 701,\n",
              " 'mean': 702,\n",
              " 'cosy': 703,\n",
              " 'sized': 704,\n",
              " 'continental': 705,\n",
              " 'till': 706,\n",
              " 'fixed': 707,\n",
              " 'type': 708,\n",
              " 'won': 709,\n",
              " 'unfriendly': 710,\n",
              " 'heater': 711,\n",
              " 'socket': 712,\n",
              " 'personal': 713,\n",
              " 'easily': 714,\n",
              " 'quickly': 715,\n",
              " 'behind': 716,\n",
              " 'compared': 717,\n",
              " 'fit': 718,\n",
              " 'world': 719,\n",
              " 'waterloo': 720,\n",
              " 'apology': 721,\n",
              " 'channel': 722,\n",
              " 'isn': 723,\n",
              " 'fix': 724,\n",
              " 'none': 725,\n",
              " 'shame': 726,\n",
              " 'aircon': 727,\n",
              " 'keeping': 728,\n",
              " 'flight': 729,\n",
              " 'conditioner': 730,\n",
              " 'slipper': 731,\n",
              " 'victoria': 732,\n",
              " 'seems': 733,\n",
              " 'security': 734,\n",
              " 'enjoy': 735,\n",
              " 'pub': 736,\n",
              " 'longer': 737,\n",
              " 'situated': 738,\n",
              " 'including': 739,\n",
              " 'impossible': 740,\n",
              " 'foot': 741,\n",
              " 'generally': 742,\n",
              " 'sight': 743,\n",
              " 'month': 744,\n",
              " 'occasion': 745,\n",
              " 'added': 746,\n",
              " 'proper': 747,\n",
              " 'five': 748,\n",
              " 'heathrow': 749,\n",
              " 'bonus': 750,\n",
              " 'character': 751,\n",
              " 'thanks': 752,\n",
              " 'saturday': 753,\n",
              " 'minibar': 754,\n",
              " 'downstairs': 755,\n",
              " 'duvet': 756,\n",
              " 'luxury': 757,\n",
              " 'courteous': 758,\n",
              " 'age': 759,\n",
              " 'bring': 760,\n",
              " 'subway': 761,\n",
              " 'soon': 762,\n",
              " 'facing': 763,\n",
              " 'smelt': 764,\n",
              " 'filthy': 765,\n",
              " 'screen': 766,\n",
              " 'queensway': 767,\n",
              " 'annoying': 768,\n",
              " 'running': 769,\n",
              " 'face': 770,\n",
              " 'avoid': 771,\n",
              " 'smoke': 772,\n",
              " 'arrive': 773,\n",
              " 'man': 774,\n",
              " 'concert': 775,\n",
              " 'apollo': 776,\n",
              " 'via': 777,\n",
              " 'holiday': 778,\n",
              " 'hallway': 779,\n",
              " 'sister': 780,\n",
              " 'inn': 781,\n",
              " 'lower': 782,\n",
              " 'decoration': 783,\n",
              " 'anniversary': 784,\n",
              " 'westminster': 785,\n",
              " 'cake': 786,\n",
              " 'saw': 787,\n",
              " 'spend': 788,\n",
              " 'allowed': 789,\n",
              " 'pre': 790,\n",
              " 'clear': 791,\n",
              " 'fairly': 792,\n",
              " 'sunday': 793,\n",
              " 'music': 794,\n",
              " 'smile': 795,\n",
              " 'dust': 796,\n",
              " 'woke': 797,\n",
              " 'deposit': 798,\n",
              " 'wish': 799,\n",
              " 'hadn': 800,\n",
              " 'heard': 801,\n",
              " 'anywhere': 802,\n",
              " 'afternoon': 803,\n",
              " 'missing': 804,\n",
              " 'pricey': 805,\n",
              " 'spent': 806,\n",
              " 'spot': 807,\n",
              " 'seat': 808,\n",
              " 'brought': 809,\n",
              " 'sent': 810,\n",
              " 'appreciated': 811,\n",
              " 'bedding': 812,\n",
              " 'appointed': 813,\n",
              " 'comment': 814,\n",
              " 'mention': 815,\n",
              " 'river': 816,\n",
              " 'entire': 817,\n",
              " 'stand': 818,\n",
              " 'straight': 819,\n",
              " 'review': 820,\n",
              " 'immediately': 821,\n",
              " 'saying': 822,\n",
              " 'studio': 823,\n",
              " 'fully': 824,\n",
              " 'badly': 825,\n",
              " 'renovated': 826,\n",
              " 'board': 827,\n",
              " 'directly': 828,\n",
              " 'heat': 829,\n",
              " 'linen': 830,\n",
              " 'choose': 831,\n",
              " 'stylish': 832,\n",
              " 'freezing': 833,\n",
              " 'answer': 834,\n",
              " 'along': 835,\n",
              " 'reach': 836,\n",
              " 'job': 837,\n",
              " 'overlooking': 838,\n",
              " 'minor': 839,\n",
              " 'perhaps': 840,\n",
              " 'sorry': 841,\n",
              " 'narrow': 842,\n",
              " 'additional': 843,\n",
              " 'believe': 844,\n",
              " 'ben': 845,\n",
              " 'cover': 846,\n",
              " 'fab': 847,\n",
              " 'blocked': 848,\n",
              " 'travelling': 849,\n",
              " 'woken': 850,\n",
              " 'response': 851,\n",
              " 'clothes': 852,\n",
              " 'might': 853,\n",
              " 'replaced': 854,\n",
              " 'past': 855,\n",
              " 'tub': 856,\n",
              " 'visiting': 857,\n",
              " 'cheaper': 858,\n",
              " 'hammersmith': 859,\n",
              " 'cocktail': 860,\n",
              " 'pressure': 861,\n",
              " 'literally': 862,\n",
              " 'fast': 863,\n",
              " 'rubbish': 864,\n",
              " 'stunning': 865,\n",
              " 'required': 866,\n",
              " 'sauna': 867,\n",
              " 'sort': 868,\n",
              " 'guess': 869,\n",
              " 'smelly': 870,\n",
              " 'normal': 871,\n",
              " 'fair': 872,\n",
              " 'contact': 873,\n",
              " 'plate': 874,\n",
              " 'advance': 875,\n",
              " 'wash': 876,\n",
              " 'dont': 877,\n",
              " 'adult': 878,\n",
              " 'gorgeous': 879,\n",
              " 'relaxing': 880,\n",
              " 'bacon': 881,\n",
              " 'worse': 882,\n",
              " 'ridiculous': 883,\n",
              " 'idea': 884,\n",
              " 'onto': 885,\n",
              " 'plaza': 886,\n",
              " 'mistake': 887,\n",
              " 'party': 888,\n",
              " 'store': 889,\n",
              " 'power': 890,\n",
              " 'forgot': 891,\n",
              " 'designed': 892,\n",
              " 'smelled': 893,\n",
              " 'complete': 894,\n",
              " 'spoke': 895,\n",
              " 'advised': 896,\n",
              " 'question': 897,\n",
              " 'course': 898,\n",
              " 'wasnt': 899,\n",
              " 'class': 900,\n",
              " 'others': 901,\n",
              " 'roof': 902,\n",
              " 'nor': 903,\n",
              " 'soap': 904,\n",
              " 'simply': 905,\n",
              " 'earl': 906,\n",
              " 'luxurious': 907,\n",
              " 'south': 908,\n",
              " 'mark': 909,\n",
              " 'sometimes': 910,\n",
              " 'tight': 911,\n",
              " 'strange': 912,\n",
              " 'group': 913,\n",
              " 'matter': 914,\n",
              " 'aware': 915,\n",
              " 'date': 916,\n",
              " 'british': 917,\n",
              " 'maintained': 918,\n",
              " 'obviously': 919,\n",
              " 'block': 920,\n",
              " 'showed': 921,\n",
              " 'junior': 922,\n",
              " 'cupboard': 923,\n",
              " 'sitting': 924,\n",
              " 'note': 925,\n",
              " 'neighborhood': 926,\n",
              " 'juice': 927,\n",
              " 'ambience': 928,\n",
              " 'original': 929,\n",
              " 'storage': 930,\n",
              " 'treat': 931,\n",
              " 'rating': 932,\n",
              " 'feeling': 933,\n",
              " 'impressive': 934,\n",
              " 'duty': 935,\n",
              " 'feature': 936,\n",
              " 'mind': 937,\n",
              " 'poorly': 938,\n",
              " 'state': 939,\n",
              " 'shut': 940,\n",
              " 'hairdryer': 941,\n",
              " 'recommended': 942,\n",
              " 'managed': 943,\n",
              " 'paul': 944,\n",
              " 'dry': 945,\n",
              " 'pushed': 946,\n",
              " 'following': 947,\n",
              " 'discount': 948,\n",
              " 'microwave': 949,\n",
              " 'tasty': 950,\n",
              " 'placed': 951,\n",
              " 'exceptional': 952,\n",
              " 'negative': 953,\n",
              " 'third': 954,\n",
              " 'impression': 955,\n",
              " 'situation': 956,\n",
              " 'acceptable': 957,\n",
              " 'decided': 958,\n",
              " 'bother': 959,\n",
              " 'higher': 960,\n",
              " 'son': 961,\n",
              " 'russell': 962,\n",
              " 'exceptionally': 963,\n",
              " 'west': 964,\n",
              " 'unless': 965,\n",
              " 'mobile': 966,\n",
              " 'covent': 967,\n",
              " 'nd': 968,\n",
              " 'happened': 969,\n",
              " 'returning': 970,\n",
              " 'girl': 971,\n",
              " 'prior': 972,\n",
              " 'traveller': 973,\n",
              " 'closet': 974,\n",
              " 'hanging': 975,\n",
              " 'toast': 976,\n",
              " 'watch': 977,\n",
              " 'layout': 978,\n",
              " 'ago': 979,\n",
              " 'awesome': 980,\n",
              " 'constant': 981,\n",
              " 'midnight': 982,\n",
              " 'black': 983,\n",
              " 'experienced': 984,\n",
              " 'lost': 985,\n",
              " 'eventually': 986,\n",
              " 'difference': 987,\n",
              " 'opening': 988,\n",
              " 'impressed': 989,\n",
              " 'nicer': 990,\n",
              " 'office': 991,\n",
              " 'fitting': 992,\n",
              " 'signal': 993,\n",
              " 'meeting': 994,\n",
              " 'account': 995,\n",
              " 'allocated': 996,\n",
              " 'earlier': 997,\n",
              " 'expecting': 998,\n",
              " 'covered': 999,\n",
              " 'supposed': 1000,\n",
              " ...}"
            ]
          },
          "metadata": {
            "tags": []
          },
          "execution_count": 516
        }
      ]
    },
    {
      "cell_type": "code",
      "metadata": {
        "id": "rrIA6NOg9OIM"
      },
      "source": [
        "sequences = tokenizer.texts_to_sequences(X_2)"
      ],
      "id": "rrIA6NOg9OIM",
      "execution_count": null,
      "outputs": []
    },
    {
      "cell_type": "code",
      "metadata": {
        "id": "ZZOFPRVt9OIN"
      },
      "source": [
        "# sequences[0]"
      ],
      "id": "ZZOFPRVt9OIN",
      "execution_count": null,
      "outputs": []
    },
    {
      "cell_type": "code",
      "metadata": {
        "colab": {
          "base_uri": "https://localhost:8080/"
        },
        "id": "4qg4EPeh9OIQ",
        "outputId": "e9bd945c-53a6-48ee-ac4f-c4204e80559a"
      },
      "source": [
        "# We need Padding\n",
        "len(sequences[0]),len(sequences[1]),len(sequences[2]),len(sequences[3]),len(sequences[4])"
      ],
      "id": "4qg4EPeh9OIQ",
      "execution_count": null,
      "outputs": [
        {
          "output_type": "execute_result",
          "data": {
            "text/plain": [
              "(171, 117, 24, 18, 75)"
            ]
          },
          "metadata": {
            "tags": []
          },
          "execution_count": 519
        }
      ]
    },
    {
      "cell_type": "code",
      "metadata": {
        "id": "QrVk3IwK9OIU"
      },
      "source": [
        "from tensorflow.keras.preprocessing.sequence import pad_sequences\n",
        "\n",
        "X_pad = pad_sequences(sequences, dtype='int32', padding='post') # Removed: dtype='float32',"
      ],
      "id": "QrVk3IwK9OIU",
      "execution_count": null,
      "outputs": []
    },
    {
      "cell_type": "code",
      "metadata": {
        "colab": {
          "base_uri": "https://localhost:8080/"
        },
        "id": "_u7h0JEt9OId",
        "outputId": "c956c959-3744-4747-fa5a-9348d5ccbaae"
      },
      "source": [
        "X_pad.shape"
      ],
      "id": "_u7h0JEt9OId",
      "execution_count": null,
      "outputs": [
        {
          "output_type": "execute_result",
          "data": {
            "text/plain": [
              "(20000, 255)"
            ]
          },
          "metadata": {
            "tags": []
          },
          "execution_count": 521
        }
      ]
    },
    {
      "cell_type": "markdown",
      "metadata": {
        "id": "D_3UnBBw9OIj"
      },
      "source": [
        " ### Hold out"
      ],
      "id": "D_3UnBBw9OIj"
    },
    {
      "cell_type": "code",
      "metadata": {
        "colab": {
          "base_uri": "https://localhost:8080/"
        },
        "id": "ZeZmiatu9OIk",
        "outputId": "b9463b76-e132-4867-fd8f-dd6605427727"
      },
      "source": [
        "from sklearn.model_selection import train_test_split\n",
        "\n",
        "# Hold out \n",
        "X_train, X_test, y_train, y_test = train_test_split(X_pad, y, test_size=0.2)\n",
        "\n",
        "#check\n",
        "X_train.shape, X_test.shape, y_train.shape, y_test.shape"
      ],
      "id": "ZeZmiatu9OIk",
      "execution_count": null,
      "outputs": [
        {
          "output_type": "execute_result",
          "data": {
            "text/plain": [
              "((16000, 255), (4000, 255), (16000,), (4000,))"
            ]
          },
          "metadata": {
            "tags": []
          },
          "execution_count": 522
        }
      ]
    },
    {
      "cell_type": "code",
      "metadata": {
        "colab": {
          "base_uri": "https://localhost:8080/"
        },
        "id": "FYjCpKfq9OJb",
        "outputId": "533141ce-6640-436f-9169-88e5318c4bec"
      },
      "source": [
        "X_train[0]"
      ],
      "id": "FYjCpKfq9OJb",
      "execution_count": null,
      "outputs": [
        {
          "output_type": "execute_result",
          "data": {
            "text/plain": [
              "array([ 451,   54, 1918,    1,   95, 1499,  567, 1793,   31, 1823,    1,\n",
              "       1092,   54,  803,  261,  185,   69,  102,   25,  314,  104,  195,\n",
              "          1,    9,    1,  128,   94,   56,  726,   30,  243,  245,  487,\n",
              "        128,  187,    5,    2,   11,  704,   16,  139,   15, 1064,    0,\n",
              "          0,    0,    0,    0,    0,    0,    0,    0,    0,    0,    0,\n",
              "          0,    0,    0,    0,    0,    0,    0,    0,    0,    0,    0,\n",
              "          0,    0,    0,    0,    0,    0,    0,    0,    0,    0,    0,\n",
              "          0,    0,    0,    0,    0,    0,    0,    0,    0,    0,    0,\n",
              "          0,    0,    0,    0,    0,    0,    0,    0,    0,    0,    0,\n",
              "          0,    0,    0,    0,    0,    0,    0,    0,    0,    0,    0,\n",
              "          0,    0,    0,    0,    0,    0,    0,    0,    0,    0,    0,\n",
              "          0,    0,    0,    0,    0,    0,    0,    0,    0,    0,    0,\n",
              "          0,    0,    0,    0,    0,    0,    0,    0,    0,    0,    0,\n",
              "          0,    0,    0,    0,    0,    0,    0,    0,    0,    0,    0,\n",
              "          0,    0,    0,    0,    0,    0,    0,    0,    0,    0,    0,\n",
              "          0,    0,    0,    0,    0,    0,    0,    0,    0,    0,    0,\n",
              "          0,    0,    0,    0,    0,    0,    0,    0,    0,    0,    0,\n",
              "          0,    0,    0,    0,    0,    0,    0,    0,    0,    0,    0,\n",
              "          0,    0,    0,    0,    0,    0,    0,    0,    0,    0,    0,\n",
              "          0,    0,    0,    0,    0,    0,    0,    0,    0,    0,    0,\n",
              "          0,    0,    0,    0,    0,    0,    0,    0,    0,    0,    0,\n",
              "          0,    0,    0,    0,    0,    0,    0,    0,    0,    0,    0,\n",
              "          0,    0,    0,    0,    0,    0,    0,    0,    0,    0,    0,\n",
              "          0,    0], dtype=int32)"
            ]
          },
          "metadata": {
            "tags": []
          },
          "execution_count": 523
        }
      ]
    },
    {
      "cell_type": "code",
      "metadata": {
        "colab": {
          "base_uri": "https://localhost:8080/"
        },
        "id": "30yU4AaJuSbN",
        "outputId": "a90449fe-826b-4bda-cb88-879fdfc557f0"
      },
      "source": [
        "y_train"
      ],
      "id": "30yU4AaJuSbN",
      "execution_count": null,
      "outputs": [
        {
          "output_type": "execute_result",
          "data": {
            "text/plain": [
              "12130    8.3\n",
              "14465    8.8\n",
              "56960    4.2\n",
              "16288    5.8\n",
              "28085    8.3\n",
              "        ... \n",
              "9690     7.9\n",
              "47531    2.9\n",
              "22321    8.8\n",
              "52956    2.9\n",
              "20109    8.8\n",
              "Name: review_score, Length: 16000, dtype: float64"
            ]
          },
          "metadata": {
            "tags": []
          },
          "execution_count": 524
        }
      ]
    },
    {
      "cell_type": "markdown",
      "metadata": {
        "id": "rLNOtDBS9OJe"
      },
      "source": [
        " ### NN"
      ],
      "id": "rLNOtDBS9OJe"
    },
    {
      "cell_type": "code",
      "metadata": {
        "id": "xsLzkc_I9OJe"
      },
      "source": [
        "from sklearn.model_selection import cross_validate\n",
        "from tensorflow.keras import layers\n",
        "from tensorflow.keras import models\n",
        "from tensorflow.keras import Sequential\n",
        "from tensorflow.keras import regularizers\n",
        "\n",
        "\n",
        "def initialize_model():\n",
        "    ### Model architecture\n",
        "    model_gensim_2 = models.Sequential()\n",
        " \n",
        "    ### Embedding Padded\n",
        "    model_gensim_2.add(layers.Embedding(input_dim=5000, output_dim=100, mask_zero=True))\n",
        "        \n",
        "    ### First convolution & max-pooling\n",
        "    model_gensim_2.add(layers.LSTM(units=100, activation='tanh', return_sequences=True)) #, recurrent_dropout=0.3))   #244 or 100 ??\n",
        "    # model_gensim_2.add(layers.LSTM(units=100, activation='tanh', return_sequences=True))\n",
        "    model_gensim_2.add(layers.LSTM(units=50, activation='tanh')) #, recurrent_dropout=0.3))   #244 or 100 ??\n",
        "    model_gensim_2.add(layers.Dropout(0.2))                     #change params\n",
        "    # model_gensim_2.add(layers.Dense(40, activation='relu', kernel_regularizer=regularizers.L1(0.01)))    #Use regulazers\n",
        "    # model_gensim_2.add(layers.Dropout(0.2))                     #change params\n",
        "    model_gensim_2.add(layers.Dense(20, activation='relu', kernel_regularizer=regularizers.L1(0.01)))    #Use regulazers\n",
        "    model_gensim_2.add(layers.Dropout(0.2))                     #change params\n",
        "    model_gensim_2.add(layers.Dense(10, activation='relu', kernel_regularizer=regularizers.L1(0.01)))    #Use regulazers\n",
        "    model_gensim_2.add(layers.Dropout(0.2))                     #change params \n",
        "\n",
        "    ### Last layer (let's say a classification with 10 output)\n",
        "    model_gensim_2.add(layers.Dense(1, activation='linear'))\n",
        "        \n",
        "    ### Model compilation\n",
        "    model_gensim_2.compile(loss='mse', \n",
        "                  optimizer='rmsprop',    #rmsprop or adam?\n",
        "                  metrics=['mae'])     \n",
        "\n",
        "    return model_gensim_2"
      ],
      "id": "xsLzkc_I9OJe",
      "execution_count": null,
      "outputs": []
    },
    {
      "cell_type": "code",
      "metadata": {
        "colab": {
          "base_uri": "https://localhost:8080/"
        },
        "id": "-r6i2ZdD9OJf",
        "outputId": "4ccfb6fd-d876-4f9e-a87e-e8fdf3316225"
      },
      "source": [
        "model_gensim_2 = initialize_model()\n",
        "model_gensim_2.summary()"
      ],
      "id": "-r6i2ZdD9OJf",
      "execution_count": null,
      "outputs": [
        {
          "output_type": "stream",
          "text": [
            "Model: \"sequential_78\"\n",
            "_________________________________________________________________\n",
            "Layer (type)                 Output Shape              Param #   \n",
            "=================================================================\n",
            "embedding_76 (Embedding)     (None, None, 100)         500000    \n",
            "_________________________________________________________________\n",
            "lstm_138 (LSTM)              (None, None, 100)         80400     \n",
            "_________________________________________________________________\n",
            "lstm_139 (LSTM)              (None, 50)                30200     \n",
            "_________________________________________________________________\n",
            "dropout_195 (Dropout)        (None, 50)                0         \n",
            "_________________________________________________________________\n",
            "dense_269 (Dense)            (None, 20)                1020      \n",
            "_________________________________________________________________\n",
            "dropout_196 (Dropout)        (None, 20)                0         \n",
            "_________________________________________________________________\n",
            "dense_270 (Dense)            (None, 10)                210       \n",
            "_________________________________________________________________\n",
            "dropout_197 (Dropout)        (None, 10)                0         \n",
            "_________________________________________________________________\n",
            "dense_271 (Dense)            (None, 1)                 11        \n",
            "=================================================================\n",
            "Total params: 611,841\n",
            "Trainable params: 611,841\n",
            "Non-trainable params: 0\n",
            "_________________________________________________________________\n"
          ],
          "name": "stdout"
        }
      ]
    },
    {
      "cell_type": "code",
      "metadata": {
        "colab": {
          "base_uri": "https://localhost:8080/"
        },
        "id": "PKsS0M_J9OJg",
        "outputId": "3e63fddc-58cb-4d4a-d3b7-982ddd411418"
      },
      "source": [
        "### YOUR CODE HERE\n",
        "\n",
        "from tensorflow.keras.callbacks import EarlyStopping \n",
        "\n",
        "# YOUR CODE HERE\n",
        "es = EarlyStopping(monitor='val_loss', mode='min', verbose=1, patience=10, restore_best_weights=True)\n",
        "model_gensim_2 = initialize_model()\n",
        "\n",
        "history = model_gensim_2.fit(X_train, y_train,\n",
        "          validation_split=0.2,\n",
        "          batch_size=32,\n",
        "          epochs=200,\n",
        "          verbose=1,\n",
        "          callbacks=[es])"
      ],
      "id": "PKsS0M_J9OJg",
      "execution_count": null,
      "outputs": [
        {
          "output_type": "stream",
          "text": [
            "Epoch 1/200\n",
            "400/400 [==============================] - 30s 59ms/step - loss: 16.1132 - mae: 3.0572 - val_loss: 3.5862 - val_mae: 1.3595\n",
            "Epoch 2/200\n",
            "400/400 [==============================] - 22s 54ms/step - loss: 7.3231 - mae: 2.0148 - val_loss: 3.0870 - val_mae: 1.2274\n",
            "Epoch 3/200\n",
            "400/400 [==============================] - 22s 54ms/step - loss: 6.2047 - mae: 1.8327 - val_loss: 3.5582 - val_mae: 1.4080\n",
            "Epoch 4/200\n",
            "400/400 [==============================] - 21s 54ms/step - loss: 5.4982 - mae: 1.7415 - val_loss: 2.8590 - val_mae: 1.2370\n",
            "Epoch 5/200\n",
            "400/400 [==============================] - 22s 54ms/step - loss: 5.0887 - mae: 1.6607 - val_loss: 2.3618 - val_mae: 1.0719\n",
            "Epoch 6/200\n",
            "400/400 [==============================] - 22s 54ms/step - loss: 4.5261 - mae: 1.5792 - val_loss: 2.3077 - val_mae: 1.0268\n",
            "Epoch 7/200\n",
            "400/400 [==============================] - 22s 54ms/step - loss: 4.0994 - mae: 1.4876 - val_loss: 2.2995 - val_mae: 1.0795\n",
            "Epoch 8/200\n",
            "400/400 [==============================] - 22s 54ms/step - loss: 3.6445 - mae: 1.4164 - val_loss: 2.3257 - val_mae: 1.0682\n",
            "Epoch 9/200\n",
            "400/400 [==============================] - 22s 54ms/step - loss: 3.3870 - mae: 1.3683 - val_loss: 2.2729 - val_mae: 1.0749\n",
            "Epoch 10/200\n",
            "400/400 [==============================] - 22s 54ms/step - loss: 3.1386 - mae: 1.3245 - val_loss: 2.2164 - val_mae: 1.0702\n",
            "Epoch 11/200\n",
            "400/400 [==============================] - 22s 54ms/step - loss: 3.0133 - mae: 1.2967 - val_loss: 2.3591 - val_mae: 1.1544\n",
            "Epoch 12/200\n",
            "400/400 [==============================] - 22s 54ms/step - loss: 2.9081 - mae: 1.2890 - val_loss: 2.2518 - val_mae: 1.0880\n",
            "Epoch 13/200\n",
            "400/400 [==============================] - 22s 54ms/step - loss: 2.6990 - mae: 1.2347 - val_loss: 2.2910 - val_mae: 1.1326\n",
            "Epoch 14/200\n",
            "400/400 [==============================] - 21s 54ms/step - loss: 2.5507 - mae: 1.1992 - val_loss: 2.4462 - val_mae: 1.1929\n",
            "Epoch 15/200\n",
            "400/400 [==============================] - 21s 53ms/step - loss: 2.4877 - mae: 1.1715 - val_loss: 2.3011 - val_mae: 1.0816\n",
            "Epoch 16/200\n",
            "400/400 [==============================] - 22s 54ms/step - loss: 2.2950 - mae: 1.1273 - val_loss: 2.2283 - val_mae: 1.0735\n",
            "Epoch 17/200\n",
            "400/400 [==============================] - 22s 54ms/step - loss: 2.3088 - mae: 1.1442 - val_loss: 2.3800 - val_mae: 1.1237\n",
            "Epoch 18/200\n",
            "400/400 [==============================] - 22s 54ms/step - loss: 2.1744 - mae: 1.0880 - val_loss: 2.3899 - val_mae: 1.1488\n",
            "Epoch 19/200\n",
            "400/400 [==============================] - 22s 54ms/step - loss: 2.0510 - mae: 1.0586 - val_loss: 2.3231 - val_mae: 1.0613\n",
            "Epoch 20/200\n",
            "400/400 [==============================] - 22s 54ms/step - loss: 1.9059 - mae: 1.0144 - val_loss: 2.3237 - val_mae: 1.0616\n",
            "Restoring model weights from the end of the best epoch.\n",
            "Epoch 00020: early stopping\n"
          ],
          "name": "stdout"
        }
      ]
    },
    {
      "cell_type": "code",
      "metadata": {
        "id": "sAE_u8RK9OJh"
      },
      "source": [
        "# history.history"
      ],
      "id": "sAE_u8RK9OJh",
      "execution_count": null,
      "outputs": []
    },
    {
      "cell_type": "code",
      "metadata": {
        "colab": {
          "base_uri": "https://localhost:8080/"
        },
        "id": "5Fltqukw9OJi",
        "outputId": "fad16b6d-97a3-42c2-8ea7-90d8315829bd"
      },
      "source": [
        "model_gensim_2.evaluate(X_test, y_test, verbose=0)"
      ],
      "id": "5Fltqukw9OJi",
      "execution_count": null,
      "outputs": [
        {
          "output_type": "execute_result",
          "data": {
            "text/plain": [
              "[2.0735416412353516, 1.0279209613800049]"
            ]
          },
          "metadata": {
            "tags": []
          },
          "execution_count": 529
        }
      ]
    },
    {
      "cell_type": "code",
      "metadata": {
        "colab": {
          "base_uri": "https://localhost:8080/",
          "height": 515
        },
        "id": "KxanBfp_9OJi",
        "outputId": "a01d91a8-d4d0-4b34-d1e1-e6d6a53eb024"
      },
      "source": [
        "plt.plot(history.history['loss'], label='train mse')      #CHANGE\n",
        "plt.plot(history.history['val_loss'], label='val mse')      #CHANGE\n",
        "plt.legend()\n",
        "plt.show()\n",
        "plt.plot(history.history['mae'], label='train mae')      #CHANGE\n",
        "plt.plot(history.history['val_mae'], label='val mae')\n",
        "plt.legend()\n",
        "plt.show()"
      ],
      "id": "KxanBfp_9OJi",
      "execution_count": null,
      "outputs": [
        {
          "output_type": "display_data",
          "data": {
            "image/png": "[encoded data removed]",
            "text/plain": [
              "<Figure size 432x288 with 1 Axes>"
            ]
          },
          "metadata": {
            "tags": [],
            "needs_background": "light"
          }
        },
        {
          "output_type": "display_data",
          "data": {
            "image/png": "[encoded data removed]",
            "text/plain": [
              "<Figure size 432x288 with 1 Axes>"
            ]
          },
          "metadata": {
            "tags": [],
            "needs_background": "light"
          }
        }
      ]
    },
    {
      "cell_type": "code",
      "metadata": {
        "colab": {
          "base_uri": "https://localhost:8080/",
          "height": 282
        },
        "id": "FTJvAugY9OJj",
        "outputId": "f0592174-8525-4f94-9459-829d7635836e"
      },
      "source": [
        "import matplotlib.pyplot as plt \n",
        "y_pred_model = model_gensim_2.predict(X_test)\n",
        "plt.scatter(y_test, y_pred_model)"
      ],
      "id": "FTJvAugY9OJj",
      "execution_count": null,
      "outputs": [
        {
          "output_type": "execute_result",
          "data": {
            "text/plain": [
              "<matplotlib.collections.PathCollection at 0x7f1bd4699750>"
            ]
          },
          "metadata": {
            "tags": []
          },
          "execution_count": 531
        },
        {
          "output_type": "display_data",
          "data": {
            "image/png": "[encoded data removed]",
            "text/plain": [
              "<Figure size 432x288 with 1 Axes>"
            ]
          },
          "metadata": {
            "tags": [],
            "needs_background": "light"
          }
        }
      ]
    },
    {
      "cell_type": "code",
      "metadata": {
        "colab": {
          "base_uri": "https://localhost:8080/",
          "height": 299
        },
        "id": "MHL1YTJ2-dHd",
        "outputId": "2e6df6e7-374f-49e9-dd98-478c40172291"
      },
      "source": [
        "# Baseline Model\r\n",
        "print(f'Baseline Model MAE {baseline_mae}')\r\n",
        "plt.scatter(y_test, y_pred_baseline)"
      ],
      "id": "MHL1YTJ2-dHd",
      "execution_count": null,
      "outputs": [
        {
          "output_type": "stream",
          "text": [
            "Baseline Model MAE 2.675800879371502\n"
          ],
          "name": "stdout"
        },
        {
          "output_type": "execute_result",
          "data": {
            "text/plain": [
              "<matplotlib.collections.PathCollection at 0x7f1bd46843d0>"
            ]
          },
          "metadata": {
            "tags": []
          },
          "execution_count": 532
        },
        {
          "output_type": "display_data",
          "data": {
            "image/png": "[encoded data removed]",
            "text/plain": [
              "<Figure size 432x288 with 1 Axes>"
            ]
          },
          "metadata": {
            "tags": [],
            "needs_background": "light"
          }
        }
      ]
    },
    {
      "cell_type": "code",
      "metadata": {
        "id": "5D_qh1Ui9OJj",
        "colab": {
          "base_uri": "https://localhost:8080/",
          "height": 120
        },
        "outputId": "3b5ebc0e-d654-4be2-8d32-e7e2fe98c1a9"
      },
      "source": [
        "# 0\tangry made post available via possible site us...\t2.9\r\n",
        "\r\n",
        "# pre process and convert to pad ...\r\n",
        "X_2[0] # = sequences[0]"
      ],
      "id": "5D_qh1Ui9OJj",
      "execution_count": null,
      "outputs": [
        {
          "output_type": "execute_result",
          "data": {
            "application/vnd.google.colaboratory.intrinsic+json": {
              "type": "string"
            },
            "text/plain": [
              "'angry made post available via possible site use planing trip no one make mistake booking place made booking via booking com stayed night hotel july upon arrival placed small room nd floor hotel turned not room booked specially reserved level duplex room would big window high ceiling room ok mind broken window not closed hello rain mini fridge contained sort bio weapon least guessed smell intimately asked change room explaining time booked duplex btw cost simple double got way volume due high ceiling offered room next day check next day clock order get room waned not best way begin holiday wait till order check new room wonderful waist time room got wanted peaceful internal garden view big window tired waiting room placed belonging rushed city evening turned constant noise room guess made vibrating vent tube something constant annoying hell not stop even making hard fall asleep wife audio recording not attach want send via e mail next day technician came not able determine cause disturbing sound offered change room hotel fully booked room left one smaller seems newer park outside hotel beautiful'"
            ]
          },
          "metadata": {
            "tags": []
          },
          "execution_count": 533
        }
      ]
    },
    {
      "cell_type": "code",
      "metadata": {
        "colab": {
          "base_uri": "https://localhost:8080/"
        },
        "id": "lNKlL1XLgtUV",
        "outputId": "1320eb45-2cb5-4823-9add-10b3eaedad94"
      },
      "source": [
        "X_pad[0] # sequences[0]\r\n",
        "# sequences[0]"
      ],
      "id": "lNKlL1XLgtUV",
      "execution_count": null,
      "outputs": [
        {
          "output_type": "execute_result",
          "data": {
            "text/plain": [
              "array([2365,   72, 1938,  167,  777,  636,  361,  107,  377,    9,   21,\n",
              "        124,  887,   62,   74,   72,   62,  777,   62,  219,   87,   23,\n",
              "          2, 2431,  433,  173,  951,   10,    1,  968,   46,    2,  524,\n",
              "          4,    1,   68, 1357, 1153,  400, 2293,    1,   17,  106,   53,\n",
              "        216,  554,    1,  242,  937,  234,   53,    4,  385, 2366, 1472,\n",
              "        311,  290, 3307,  868,  498,  246,   78,  239,    1, 2514,   28,\n",
              "         68, 2293, 4144,  267, 1287,   90,   67,  117, 2432,  197,  216,\n",
              "        554,  240,    1,   69,   36,   47,   69,   36, 1790,  343,   38,\n",
              "          1,    4,  176,  117, 2294,  778,  217,  706,  343,   47,  257,\n",
              "          1,  301, 4601,   28,    1,   67,  264, 1473, 1430,  323,   41,\n",
              "        106,   53,  241,  374,    1,  951, 2218, 2433,  258,  249,  524,\n",
              "        981,   98,    1,  869,   72, 1750,   63,  371,  981,  768, 3308,\n",
              "          4,  372,   42,  335,  218, 1820, 2154,  616,    4,  243, 1044,\n",
              "        777,  604, 1993,   69,   36, 1994,  237,    4,  307, 1523, 2045,\n",
              "        458,  240,  239,    1,    2,  824,   68,    1,  153,   21,  414,\n",
              "        733, 3309,   82,  130,    2,  108,    0,    0,    0,    0,    0,\n",
              "          0,    0,    0,    0,    0,    0,    0,    0,    0,    0,    0,\n",
              "          0,    0,    0,    0,    0,    0,    0,    0,    0,    0,    0,\n",
              "          0,    0,    0,    0,    0,    0,    0,    0,    0,    0,    0,\n",
              "          0,    0,    0,    0,    0,    0,    0,    0,    0,    0,    0,\n",
              "          0,    0,    0,    0,    0,    0,    0,    0,    0,    0,    0,\n",
              "          0,    0,    0,    0,    0,    0,    0,    0,    0,    0,    0,\n",
              "          0,    0,    0,    0,    0,    0,    0,    0,    0,    0,    0,\n",
              "          0,    0], dtype=int32)"
            ]
          },
          "metadata": {
            "tags": []
          },
          "execution_count": 534
        }
      ]
    },
    {
      "cell_type": "code",
      "metadata": {
        "colab": {
          "base_uri": "https://localhost:8080/"
        },
        "id": "6rvqN2_jrOAN",
        "outputId": "af5cb9e0-5156-4874-fbf9-087a0e31ea01"
      },
      "source": [
        "tokenizer.word_index[\"broken\"],   tokenizer.word_index[\"angry\"],   # Val?/"
      ],
      "id": "6rvqN2_jrOAN",
      "execution_count": null,
      "outputs": [
        {
          "output_type": "execute_result",
          "data": {
            "text/plain": [
              "(234, 2365)"
            ]
          },
          "metadata": {
            "tags": []
          },
          "execution_count": 535
        }
      ]
    },
    {
      "cell_type": "code",
      "metadata": {
        "colab": {
          "base_uri": "https://localhost:8080/"
        },
        "id": "TVuYcGtxpM3F",
        "outputId": "9f06adf9-c2e4-4fc7-a430-6b8a8dfaee97"
      },
      "source": [
        "#model_gensim.predict([[X_pad[0]]])\r\n",
        "model_gensim_2.predict(np.expand_dims(X_pad[0], axis=0))[0][0]"
      ],
      "id": "TVuYcGtxpM3F",
      "execution_count": null,
      "outputs": [
        {
          "output_type": "execute_result",
          "data": {
            "text/plain": [
              "4.400562"
            ]
          },
          "metadata": {
            "tags": []
          },
          "execution_count": 536
        }
      ]
    },
    {
      "cell_type": "code",
      "metadata": {
        "id": "oiyuOlgh9OJk",
        "colab": {
          "base_uri": "https://localhost:8080/"
        },
        "outputId": "8b4a29c0-b30e-4623-db53-f46398128c69"
      },
      "source": [
        "# 1\tno real complaint hotel great great location s...\t7.5\r\n",
        "\r\n",
        "# pre process and convert to pad ...\r\n",
        "X_pad[1] # = sequences[1]"
      ],
      "id": "oiyuOlgh9OJk",
      "execution_count": null,
      "outputs": [
        {
          "output_type": "execute_result",
          "data": {
            "text/plain": [
              "array([   1,  101, 2965,   55,   46,  252,    4,  289,  529, 1474,  308,\n",
              "        252,   13,  432,  101,   58,  252,   31, 2365, 1821,   27,  692,\n",
              "       2515,    3,    4, 1655,  336,   15,   36, 1119, 3547,  422, 1022,\n",
              "       1858,  902,    1, 1321, 1475,    4,    8,   25,   35,  201,  658,\n",
              "        997,   60, 1751,   35,  787, 2367,  769,   46,  212,  278,   46,\n",
              "        411,  252,  101,  825,  324,  286,  237,  724,  371,    1,   69,\n",
              "         58,  982,   95,  169,  125,  586, 2219,  769,    2,   59,   89,\n",
              "       3548,   49, 2598,    2,  362,   23,  483,   60, 1751,   23, 1656,\n",
              "        168,  240,  302,  353,    1,  375,  237,  422,  235,   83,  982,\n",
              "        478,    8,  282,  119,   11,    5,   13, 1685,   26,   40,   13,\n",
              "         37, 3310,   43,   89,   35,   92,  751,    0,    0,    0,    0,\n",
              "          0,    0,    0,    0,    0,    0,    0,    0,    0,    0,    0,\n",
              "          0,    0,    0,    0,    0,    0,    0,    0,    0,    0,    0,\n",
              "          0,    0,    0,    0,    0,    0,    0,    0,    0,    0,    0,\n",
              "          0,    0,    0,    0,    0,    0,    0,    0,    0,    0,    0,\n",
              "          0,    0,    0,    0,    0,    0,    0,    0,    0,    0,    0,\n",
              "          0,    0,    0,    0,    0,    0,    0,    0,    0,    0,    0,\n",
              "          0,    0,    0,    0,    0,    0,    0,    0,    0,    0,    0,\n",
              "          0,    0,    0,    0,    0,    0,    0,    0,    0,    0,    0,\n",
              "          0,    0,    0,    0,    0,    0,    0,    0,    0,    0,    0,\n",
              "          0,    0,    0,    0,    0,    0,    0,    0,    0,    0,    0,\n",
              "          0,    0,    0,    0,    0,    0,    0,    0,    0,    0,    0,\n",
              "          0,    0,    0,    0,    0,    0,    0,    0,    0,    0,    0,\n",
              "          0,    0], dtype=int32)"
            ]
          },
          "metadata": {
            "tags": []
          },
          "execution_count": 537
        }
      ]
    },
    {
      "cell_type": "code",
      "metadata": {
        "colab": {
          "base_uri": "https://localhost:8080/"
        },
        "id": "uLUF86thk5SQ",
        "outputId": "a63da559-e957-4c91-8b70-d90d1d117cd4"
      },
      "source": [
        "model_gensim_2.predict(np.expand_dims(X_pad[1], axis=0))[0][0]"
      ],
      "id": "uLUF86thk5SQ",
      "execution_count": null,
      "outputs": [
        {
          "output_type": "execute_result",
          "data": {
            "text/plain": [
              "4.7029657"
            ]
          },
          "metadata": {
            "tags": []
          },
          "execution_count": 538
        }
      ]
    },
    {
      "cell_type": "code",
      "metadata": {
        "id": "2u_E70_l9OJk",
        "colab": {
          "base_uri": "https://localhost:8080/"
        },
        "outputId": "3f88ff13-b45f-488d-964b-4af389e06c5f"
      },
      "source": [
        "sentence_test = \"I really liked the hotel. Everything was amazing, thanks for all\"\r\n",
        "\r\n",
        "sentence_test =  tokenizer.texts_to_sequences([sentence_test])\r\n",
        "sentence_test = pad_sequences(sentence_test, dtype='int32', padding='post', maxlen=X_pad[0].shape[0])\r\n",
        "sentence_test\r\n",
        "\r\n",
        "model_gensim_2.predict(np.expand_dims(sentence_test[0], axis=0))[0][0]"
      ],
      "id": "2u_E70_l9OJk",
      "execution_count": null,
      "outputs": [
        {
          "output_type": "execute_result",
          "data": {
            "text/plain": [
              "9.151367"
            ]
          },
          "metadata": {
            "tags": []
          },
          "execution_count": 539
        }
      ]
    },
    {
      "cell_type": "code",
      "metadata": {
        "id": "AHJgnHgd9OJl",
        "colab": {
          "base_uri": "https://localhost:8080/"
        },
        "outputId": "55b7b649-cc37-47f3-9b7a-a91299a7594f"
      },
      "source": [
        "sentence_test = \"The hotel was horrible. We had prostitues fihgts and blod over the bed. Everything was brokend and smelly\"\r\n",
        "\r\n",
        "sentence_test =  tokenizer.texts_to_sequences([sentence_test])\r\n",
        "sentence_test = pad_sequences(sentence_test, dtype='int32', padding='post', maxlen=X_pad[0].shape[0])\r\n",
        "sentence_test\r\n",
        "\r\n",
        "model_gensim_2.predict(np.expand_dims(sentence_test[0], axis=0))[0][0]"
      ],
      "id": "AHJgnHgd9OJl",
      "execution_count": null,
      "outputs": [
        {
          "output_type": "execute_result",
          "data": {
            "text/plain": [
              "4.404791"
            ]
          },
          "metadata": {
            "tags": []
          },
          "execution_count": 540
        }
      ]
    },
    {
      "cell_type": "code",
      "metadata": {
        "colab": {
          "base_uri": "https://localhost:8080/"
        },
        "id": "rISfqZOnHzXn",
        "outputId": "339a4db7-ebf9-46b1-ba26-be80fdc58053"
      },
      "source": [
        "sentence_test = \"Great vacation until we tried to travel home. We tried calling and waited more than 2 hours for a callback and then they were unable/unwilling to help us. Stranded for 48 hours because of this company with no help rebooking flights. We are out for hotel, food, and time off work because I was hung up on repeatedly by their customer service department. Once I was finally home, they told me there's nothing they can do for me that they were really sorry all this happened. They were unwilling to make it right, but told me that I could have requested a refund for my flight home if I would have been able to reach them at the time.\"\r\n",
        "\r\n",
        "sentence_test =  tokenizer.texts_to_sequences([sentence_test])\r\n",
        "sentence_test = pad_sequences(sentence_test, dtype='int32', padding='post', maxlen=X_pad[0].shape[0])\r\n",
        "sentence_test\r\n",
        "\r\n",
        "model_gensim_2.predict(np.expand_dims(sentence_test[0], axis=0))[0][0]"
      ],
      "id": "rISfqZOnHzXn",
      "execution_count": null,
      "outputs": [
        {
          "output_type": "execute_result",
          "data": {
            "text/plain": [
              "4.8320665"
            ]
          },
          "metadata": {
            "tags": []
          },
          "execution_count": 548
        }
      ]
    },
    {
      "cell_type": "code",
      "metadata": {
        "colab": {
          "base_uri": "https://localhost:8080/"
        },
        "id": "ghybdNmhH96u",
        "outputId": "eaee3138-8426-4f7e-dfcc-5f69c732a1d2"
      },
      "source": [
        "sentence_test = \"single rooms like hospital rooms single rooms hotel sparse intentional know ugly like trapped hospital white walls sink basin room small rectangle shape.the beds hard rocks blankets rough really noisy.this overrated hotel stayed fan stype hotels,  \"\r\n",
        "\r\n",
        "sentence_test =  tokenizer.texts_to_sequences([sentence_test])\r\n",
        "sentence_test = pad_sequences(sentence_test, dtype='int32', padding='post', maxlen=X_pad[0].shape[0])\r\n",
        "sentence_test\r\n",
        "\r\n",
        "model_gensim_2.predict(np.expand_dims(sentence_test[0], axis=0))[0][0]"
      ],
      "id": "ghybdNmhH96u",
      "execution_count": null,
      "outputs": [
        {
          "output_type": "execute_result",
          "data": {
            "text/plain": [
              "4.400562"
            ]
          },
          "metadata": {
            "tags": []
          },
          "execution_count": 547
        }
      ]
    },
    {
      "cell_type": "markdown",
      "metadata": {
        "id": "lwW8AbGu9OJl"
      },
      "source": [
        "# Export"
      ],
      "id": "lwW8AbGu9OJl"
    },
    {
      "cell_type": "code",
      "metadata": {
        "id": "NvrgagrS9OJm"
      },
      "source": [
        "# import pickle\n",
        "\n",
        "# # Export pipeline as pickle file\n",
        "# with open(\"pipeline.pkl\", \"wb\") as file:\n",
        "#     pickle.dump(best_pipeline, file)"
      ],
      "id": "NvrgagrS9OJm",
      "execution_count": null,
      "outputs": []
    }
  ]
}