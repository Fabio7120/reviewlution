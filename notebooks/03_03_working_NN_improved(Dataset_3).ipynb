{
  "nbformat": 4,
  "nbformat_minor": 5,
  "metadata": {
    "kernelspec": {
      "display_name": "Python 3",
      "language": "python",
      "name": "python3"
    },
    "language_info": {
      "codemirror_mode": {
        "name": "ipython",
        "version": 3
      },
      "file_extension": ".py",
      "mimetype": "text/x-python",
      "name": "python",
      "nbconvert_exporter": "python",
      "pygments_lexer": "ipython3",
      "version": "3.8.6"
    },
    "colab": {
      "name": "03.03_working_NN_improved(Dataset_3).ipynb",
      "provenance": [],
      "collapsed_sections": [
        "lwW8AbGu9OJl"
      ]
    },
    "accelerator": "GPU"
  },
  "cells": [
    {
      "cell_type": "markdown",
      "metadata": {
        "id": "DoBSNuKg9OCF"
      },
      "source": [
        "### Imports and loading data"
      ],
      "id": "DoBSNuKg9OCF"
    },
    {
      "cell_type": "code",
      "metadata": {
        "id": "NknQ-71c9ODk"
      },
      "source": [
        "import pandas as pd\n",
        "import numpy as np\n",
        "import string\n",
        "import nltk\n",
        "from nltk.corpus import stopwords\n",
        "from nltk.tokenize import word_tokenize\n",
        "from nltk.stem import WordNetLemmatizer"
      ],
      "id": "NknQ-71c9ODk",
      "execution_count": 5,
      "outputs": []
    },
    {
      "cell_type": "code",
      "metadata": {
        "id": "W3unfqMF9ODs"
      },
      "source": [
        "dataset_3 = pd.read_csv(\"dataset_3.csv\")\r\n"
      ],
      "id": "W3unfqMF9ODs",
      "execution_count": 11,
      "outputs": []
    },
    {
      "cell_type": "markdown",
      "metadata": {
        "id": "j4ZAGhMO9OFd"
      },
      "source": [
        "------------------------------------- NEW FILE --------------------------"
      ],
      "id": "j4ZAGhMO9OFd"
    },
    {
      "cell_type": "markdown",
      "metadata": {
        "id": "UMk3GDXR9OFi"
      },
      "source": [
        "# Import CSV"
      ],
      "id": "UMk3GDXR9OFi"
    },
    {
      "cell_type": "code",
      "metadata": {
        "id": "oIjlWOoS9OFj"
      },
      "source": [
        "#data = pd.read_csv(\"../raw_data/clean_dataset_1.csv\", index_col=0)\n",
        "data = dataset_3b\n",
        "data.rename(columns={'Review': 'reviews', 'Rating': 'review_score'}, inplace=True)"
      ],
      "id": "oIjlWOoS9OFj",
      "execution_count": 9,
      "outputs": []
    },
    {
      "cell_type": "markdown",
      "metadata": {
        "id": "R38Zdbha9OFj"
      },
      "source": [
        "# Remove less than 5 words"
      ],
      "id": "R38Zdbha9OFj"
    },
    {
      "cell_type": "code",
      "metadata": {
        "colab": {
          "base_uri": "https://localhost:8080/"
        },
        "id": "-yar6EVdck00",
        "outputId": "d8cda000-3f0f-4f2d-ddc5-fb35cc04ff08"
      },
      "source": [
        "import nltk\r\n",
        "nltk.download('punkt')\r\n",
        "nltk.download('wordnet')"
      ],
      "id": "-yar6EVdck00",
      "execution_count": 13,
      "outputs": [
        {
          "output_type": "stream",
          "text": [
            "[nltk_data] Downloading package punkt to /root/nltk_data...\n",
            "[nltk_data]   Unzipping tokenizers/punkt.zip.\n",
            "[nltk_data] Downloading package wordnet to /root/nltk_data...\n",
            "[nltk_data]   Unzipping corpora/wordnet.zip.\n"
          ],
          "name": "stdout"
        },
        {
          "output_type": "execute_result",
          "data": {
            "text/plain": [
              "True"
            ]
          },
          "metadata": {
            "tags": []
          },
          "execution_count": 13
        }
      ]
    },
    {
      "cell_type": "code",
      "metadata": {
        "colab": {
          "base_uri": "https://localhost:8080/",
          "height": 419
        },
        "id": "wnG0zm289OFk",
        "outputId": "c86b4fa1-f4f0-446c-d16b-f61639ac1b0c"
      },
      "source": [
        "data['length'] = data['reviews'].apply(lambda x: len(word_tokenize(str(x))))\n",
        "data.drop(data[data['length'] < 6].index, inplace=True)\n",
        "data.drop(columns=['length'], inplace=True)\n",
        "data.reset_index(drop=True, inplace=True)\n",
        "data"
      ],
      "id": "wnG0zm289OFk",
      "execution_count": 14,
      "outputs": [
        {
          "output_type": "execute_result",
          "data": {
            "text/html": [
              "<div>\n",
              "<style scoped>\n",
              "    .dataframe tbody tr th:only-of-type {\n",
              "        vertical-align: middle;\n",
              "    }\n",
              "\n",
              "    .dataframe tbody tr th {\n",
              "        vertical-align: top;\n",
              "    }\n",
              "\n",
              "    .dataframe thead th {\n",
              "        text-align: right;\n",
              "    }\n",
              "</style>\n",
              "<table border=\"1\" class=\"dataframe\">\n",
              "  <thead>\n",
              "    <tr style=\"text-align: right;\">\n",
              "      <th></th>\n",
              "      <th>reviews</th>\n",
              "      <th>review_score</th>\n",
              "    </tr>\n",
              "  </thead>\n",
              "  <tbody>\n",
              "    <tr>\n",
              "      <th>0</th>\n",
              "      <td>nice hotel expensive parking got good deal sta...</td>\n",
              "      <td>4</td>\n",
              "    </tr>\n",
              "    <tr>\n",
              "      <th>1</th>\n",
              "      <td>ok nothing special charge diamond member hilto...</td>\n",
              "      <td>2</td>\n",
              "    </tr>\n",
              "    <tr>\n",
              "      <th>2</th>\n",
              "      <td>nice rooms not 4* experience hotel monaco seat...</td>\n",
              "      <td>3</td>\n",
              "    </tr>\n",
              "    <tr>\n",
              "      <th>3</th>\n",
              "      <td>unique, great stay, wonderful time hotel monac...</td>\n",
              "      <td>5</td>\n",
              "    </tr>\n",
              "    <tr>\n",
              "      <th>4</th>\n",
              "      <td>great stay great stay, went seahawk game aweso...</td>\n",
              "      <td>5</td>\n",
              "    </tr>\n",
              "    <tr>\n",
              "      <th>...</th>\n",
              "      <td>...</td>\n",
              "      <td>...</td>\n",
              "    </tr>\n",
              "    <tr>\n",
              "      <th>20486</th>\n",
              "      <td>best kept secret 3rd time staying charm, not 5...</td>\n",
              "      <td>5</td>\n",
              "    </tr>\n",
              "    <tr>\n",
              "      <th>20487</th>\n",
              "      <td>great location price view hotel great quick pl...</td>\n",
              "      <td>4</td>\n",
              "    </tr>\n",
              "    <tr>\n",
              "      <th>20488</th>\n",
              "      <td>ok just looks nice modern outside, desk staff ...</td>\n",
              "      <td>2</td>\n",
              "    </tr>\n",
              "    <tr>\n",
              "      <th>20489</th>\n",
              "      <td>hotel theft ruined vacation hotel opened sept ...</td>\n",
              "      <td>1</td>\n",
              "    </tr>\n",
              "    <tr>\n",
              "      <th>20490</th>\n",
              "      <td>people talking, ca n't believe excellent ratin...</td>\n",
              "      <td>2</td>\n",
              "    </tr>\n",
              "  </tbody>\n",
              "</table>\n",
              "<p>20491 rows × 2 columns</p>\n",
              "</div>"
            ],
            "text/plain": [
              "                                                 reviews  review_score\n",
              "0      nice hotel expensive parking got good deal sta...             4\n",
              "1      ok nothing special charge diamond member hilto...             2\n",
              "2      nice rooms not 4* experience hotel monaco seat...             3\n",
              "3      unique, great stay, wonderful time hotel monac...             5\n",
              "4      great stay great stay, went seahawk game aweso...             5\n",
              "...                                                  ...           ...\n",
              "20486  best kept secret 3rd time staying charm, not 5...             5\n",
              "20487  great location price view hotel great quick pl...             4\n",
              "20488  ok just looks nice modern outside, desk staff ...             2\n",
              "20489  hotel theft ruined vacation hotel opened sept ...             1\n",
              "20490  people talking, ca n't believe excellent ratin...             2\n",
              "\n",
              "[20491 rows x 2 columns]"
            ]
          },
          "metadata": {
            "tags": []
          },
          "execution_count": 14
        }
      ]
    },
    {
      "cell_type": "markdown",
      "metadata": {
        "id": "uQS9FInR9OH8"
      },
      "source": [
        "#  NEURAL NETWORK"
      ],
      "id": "uQS9FInR9OH8"
    },
    {
      "cell_type": "code",
      "metadata": {
        "id": "Gqy9_Or87dj8"
      },
      "source": [
        "df_1 = data[data['review_score'] < 3][:3000]"
      ],
      "id": "Gqy9_Or87dj8",
      "execution_count": 88,
      "outputs": []
    },
    {
      "cell_type": "code",
      "metadata": {
        "id": "BMAvbYZu775v"
      },
      "source": [
        "# df_2 = data[(data['review_score'] > 5) & (data['review_score'] <8)][:5000]"
      ],
      "id": "BMAvbYZu775v",
      "execution_count": 24,
      "outputs": []
    },
    {
      "cell_type": "code",
      "metadata": {
        "id": "FPN6eBo_8hfk"
      },
      "source": [
        "# df_3 = data[(data['review_score'] > 8) & (data['review_score'] <4)][:2000]"
      ],
      "id": "FPN6eBo_8hfk",
      "execution_count": 25,
      "outputs": []
    },
    {
      "cell_type": "code",
      "metadata": {
        "id": "CnyuBRGa8iI3"
      },
      "source": [
        "df_4 = data[(data['review_score'] > 4) & (data['review_score'] < 10.1)][:3000]"
      ],
      "id": "CnyuBRGa8iI3",
      "execution_count": 87,
      "outputs": []
    },
    {
      "cell_type": "code",
      "metadata": {
        "colab": {
          "base_uri": "https://localhost:8080/",
          "height": 419
        },
        "id": "JFHVF2hf86s9",
        "outputId": "d171f6b4-8695-4f44-fecf-0f8653ff5134"
      },
      "source": [
        "pd.concat([df_1,df_4])"
      ],
      "id": "JFHVF2hf86s9",
      "execution_count": 72,
      "outputs": [
        {
          "output_type": "execute_result",
          "data": {
            "text/html": [
              "<div>\n",
              "<style scoped>\n",
              "    .dataframe tbody tr th:only-of-type {\n",
              "        vertical-align: middle;\n",
              "    }\n",
              "\n",
              "    .dataframe tbody tr th {\n",
              "        vertical-align: top;\n",
              "    }\n",
              "\n",
              "    .dataframe thead th {\n",
              "        text-align: right;\n",
              "    }\n",
              "</style>\n",
              "<table border=\"1\" class=\"dataframe\">\n",
              "  <thead>\n",
              "    <tr style=\"text-align: right;\">\n",
              "      <th></th>\n",
              "      <th>reviews</th>\n",
              "      <th>review_score</th>\n",
              "    </tr>\n",
              "  </thead>\n",
              "  <tbody>\n",
              "    <tr>\n",
              "      <th>1</th>\n",
              "      <td>ok nothing special charge diamond member hilto...</td>\n",
              "      <td>2</td>\n",
              "    </tr>\n",
              "    <tr>\n",
              "      <th>10</th>\n",
              "      <td>poor value stayed monaco seattle july, nice ho...</td>\n",
              "      <td>2</td>\n",
              "    </tr>\n",
              "    <tr>\n",
              "      <th>15</th>\n",
              "      <td>horrible customer service hotel stay february ...</td>\n",
              "      <td>1</td>\n",
              "    </tr>\n",
              "    <tr>\n",
              "      <th>16</th>\n",
              "      <td>disappointed say anticipating stay hotel monac...</td>\n",
              "      <td>2</td>\n",
              "    </tr>\n",
              "    <tr>\n",
              "      <th>24</th>\n",
              "      <td>great location need internally upgrade advanta...</td>\n",
              "      <td>2</td>\n",
              "    </tr>\n",
              "    <tr>\n",
              "      <th>...</th>\n",
              "      <td>...</td>\n",
              "      <td>...</td>\n",
              "    </tr>\n",
              "    <tr>\n",
              "      <th>7234</th>\n",
              "      <td>lovely hotel left bank hotel des grands hommes...</td>\n",
              "      <td>5</td>\n",
              "    </tr>\n",
              "    <tr>\n",
              "      <th>7236</th>\n",
              "      <td>family france traveled paris husband 3 childre...</td>\n",
              "      <td>5</td>\n",
              "    </tr>\n",
              "    <tr>\n",
              "      <th>7238</th>\n",
              "      <td>ca n't wait come, n't pleased stay grande homm...</td>\n",
              "      <td>5</td>\n",
              "    </tr>\n",
              "    <tr>\n",
              "      <th>7239</th>\n",
              "      <td>great hotel great view wife just returned 7 ni...</td>\n",
              "      <td>5</td>\n",
              "    </tr>\n",
              "    <tr>\n",
              "      <th>7240</th>\n",
              "      <td>wonderful hotel perfect place stay excellent l...</td>\n",
              "      <td>5</td>\n",
              "    </tr>\n",
              "  </tbody>\n",
              "</table>\n",
              "<p>6000 rows × 2 columns</p>\n",
              "</div>"
            ],
            "text/plain": [
              "                                                reviews  review_score\n",
              "1     ok nothing special charge diamond member hilto...             2\n",
              "10    poor value stayed monaco seattle july, nice ho...             2\n",
              "15    horrible customer service hotel stay february ...             1\n",
              "16    disappointed say anticipating stay hotel monac...             2\n",
              "24    great location need internally upgrade advanta...             2\n",
              "...                                                 ...           ...\n",
              "7234  lovely hotel left bank hotel des grands hommes...             5\n",
              "7236  family france traveled paris husband 3 childre...             5\n",
              "7238  ca n't wait come, n't pleased stay grande homm...             5\n",
              "7239  great hotel great view wife just returned 7 ni...             5\n",
              "7240  wonderful hotel perfect place stay excellent l...             5\n",
              "\n",
              "[6000 rows x 2 columns]"
            ]
          },
          "metadata": {
            "tags": []
          },
          "execution_count": 72
        }
      ]
    },
    {
      "cell_type": "code",
      "metadata": {
        "id": "JB85f1Tu9OH9",
        "colab": {
          "base_uri": "https://localhost:8080/"
        },
        "outputId": "751096f7-bbc8-45e2-f477-a05e8dc9d1b3"
      },
      "source": [
        "X_2 = pd.concat([df_1,df_4])['reviews']\n",
        "y_2 = pd.concat([df_1,df_4])['review_score']\n",
        "y = pd.concat([df_1,df_4])['review_score']\n",
        "print(X_2.shape, y_2.shape)\n",
        "X_2.reset_index(drop=True, inplace=True)"
      ],
      "id": "JB85f1Tu9OH9",
      "execution_count": 73,
      "outputs": [
        {
          "output_type": "stream",
          "text": [
            "(6000,) (6000,)\n"
          ],
          "name": "stdout"
        }
      ]
    },
    {
      "cell_type": "code",
      "metadata": {
        "colab": {
          "base_uri": "https://localhost:8080/"
        },
        "id": "r6FVm5I08g-9",
        "outputId": "6f6adbdc-9221-405f-c880-8d0eaf9d4965"
      },
      "source": [
        "# Baseline Model\r\n",
        "from sklearn.metrics import mean_absolute_error\r\n",
        "\r\n",
        "y_pred_baseline = np.random.uniform(low=0, high=5., size=(1200,))  # only 20%\r\n",
        "\r\n",
        "baseline_mae = mean_absolute_error(y[:1200], y_pred_baseline)\r\n",
        "baseline_mae"
      ],
      "id": "r6FVm5I08g-9",
      "execution_count": 75,
      "outputs": [
        {
          "output_type": "execute_result",
          "data": {
            "text/plain": [
              "1.5342161553587934"
            ]
          },
          "metadata": {
            "tags": []
          },
          "execution_count": 75
        }
      ]
    },
    {
      "cell_type": "code",
      "metadata": {
        "id": "HjD4UPXe9OIL"
      },
      "source": [
        "# Tokenize \n",
        "from tensorflow.keras.preprocessing.text import Tokenizer\n",
        "\n",
        "max_words = 5000\n",
        "\n",
        "def tokenInit(train, max_words):\n",
        "    tokenizer = Tokenizer(num_words=max_words)\n",
        "    tokenizer.fit_on_texts(train)\n",
        "    return tokenizer"
      ],
      "id": "HjD4UPXe9OIL",
      "execution_count": 76,
      "outputs": []
    },
    {
      "cell_type": "code",
      "metadata": {
        "id": "83KZafWO9OIL"
      },
      "source": [
        "tokenizer = tokenInit(X_2, max_words)"
      ],
      "id": "83KZafWO9OIL",
      "execution_count": 77,
      "outputs": []
    },
    {
      "cell_type": "code",
      "metadata": {
        "id": "HcYR8lw9oX3V"
      },
      "source": [
        "# Check the top Words\r\n",
        "# tokenizer.word_index"
      ],
      "id": "HcYR8lw9oX3V",
      "execution_count": 78,
      "outputs": []
    },
    {
      "cell_type": "code",
      "metadata": {
        "id": "rrIA6NOg9OIM"
      },
      "source": [
        "sequences = tokenizer.texts_to_sequences(X_2)\r\n",
        "# sequences[0]"
      ],
      "id": "rrIA6NOg9OIM",
      "execution_count": 79,
      "outputs": []
    },
    {
      "cell_type": "code",
      "metadata": {
        "colab": {
          "base_uri": "https://localhost:8080/"
        },
        "id": "4qg4EPeh9OIQ",
        "outputId": "981bb577-3eb5-4446-e5cf-c8d3e298efaa"
      },
      "source": [
        "# We need Padding\n",
        "len(sequences[0]),len(sequences[1]),len(sequences[2]),len(sequences[3]),len(sequences[4])"
      ],
      "id": "4qg4EPeh9OIQ",
      "execution_count": 80,
      "outputs": [
        {
          "output_type": "execute_result",
          "data": {
            "text/plain": [
              "(248, 45, 212, 231, 33)"
            ]
          },
          "metadata": {
            "tags": []
          },
          "execution_count": 80
        }
      ]
    },
    {
      "cell_type": "code",
      "metadata": {
        "id": "QrVk3IwK9OIU"
      },
      "source": [
        "from tensorflow.keras.preprocessing.sequence import pad_sequences\n",
        "\n",
        "X_pad = pad_sequences(sequences, dtype='int32', padding='post') "
      ],
      "id": "QrVk3IwK9OIU",
      "execution_count": 81,
      "outputs": []
    },
    {
      "cell_type": "code",
      "metadata": {
        "colab": {
          "base_uri": "https://localhost:8080/"
        },
        "id": "_u7h0JEt9OId",
        "outputId": "0410b3d8-6383-415a-e3fa-bd344bd8ea60"
      },
      "source": [
        "X_pad.shape"
      ],
      "id": "_u7h0JEt9OId",
      "execution_count": 82,
      "outputs": [
        {
          "output_type": "execute_result",
          "data": {
            "text/plain": [
              "(6000, 1489)"
            ]
          },
          "metadata": {
            "tags": []
          },
          "execution_count": 82
        }
      ]
    },
    {
      "cell_type": "markdown",
      "metadata": {
        "id": "D_3UnBBw9OIj"
      },
      "source": [
        " ### Hold out"
      ],
      "id": "D_3UnBBw9OIj"
    },
    {
      "cell_type": "code",
      "metadata": {
        "colab": {
          "base_uri": "https://localhost:8080/"
        },
        "id": "ZeZmiatu9OIk",
        "outputId": "957b208b-9613-4eaa-89d6-27326f0aef7e"
      },
      "source": [
        "from sklearn.model_selection import train_test_split\n",
        "\n",
        "# Hold out \n",
        "X_train, X_test, y_train, y_test = train_test_split(X_pad, y, test_size=0.2)\n",
        "\n",
        "#check\n",
        "X_train.shape, X_test.shape, y_train.shape, y_test.shape"
      ],
      "id": "ZeZmiatu9OIk",
      "execution_count": 83,
      "outputs": [
        {
          "output_type": "execute_result",
          "data": {
            "text/plain": [
              "((4800, 1489), (1200, 1489), (4800,), (1200,))"
            ]
          },
          "metadata": {
            "tags": []
          },
          "execution_count": 83
        }
      ]
    },
    {
      "cell_type": "markdown",
      "metadata": {
        "id": "rLNOtDBS9OJe"
      },
      "source": [
        " ### NN"
      ],
      "id": "rLNOtDBS9OJe"
    },
    {
      "cell_type": "code",
      "metadata": {
        "id": "xsLzkc_I9OJe"
      },
      "source": [
        "from sklearn.model_selection import cross_validate\n",
        "from tensorflow.keras import layers\n",
        "from tensorflow.keras import models\n",
        "from tensorflow.keras import Sequential\n",
        "from tensorflow.keras import regularizers\n",
        "\n",
        "\n",
        "def initialize_model():\n",
        "    ### Model architecture\n",
        "    model_gensim_2 = models.Sequential()\n",
        " \n",
        "    ### Embedding Padded\n",
        "    model_gensim_2.add(layers.Embedding(input_dim=5000, output_dim=100, mask_zero=True))\n",
        "        \n",
        "    ### First convolution & max-pooling\n",
        "    model_gensim_2.add(layers.LSTM(units=100, activation='tanh', return_sequences=True)) #, recurrent_dropout=0.3))   #244 or 100 ??\n",
        "    model_gensim_2.add(layers.LSTM(units=100, activation='tanh', return_sequences=True))\n",
        "    model_gensim_2.add(layers.LSTM(units=50, activation='tanh')) #, recurrent_dropout=0.3))   #244 or 100 ??\n",
        "    model_gensim_2.add(layers.Dropout(0.5))                     #change params\n",
        "    model_gensim_2.add(layers.Dense(40, activation='relu', kernel_regularizer=regularizers.L1(0.01)))    #Use regulazers\n",
        "    model_gensim_2.add(layers.Dropout(0.3))                     #change params\n",
        "    model_gensim_2.add(layers.Dense(20, activation='relu', kernel_regularizer=regularizers.L1(0.01)))    #Use regulazers\n",
        "    model_gensim_2.add(layers.Dropout(0.2))                     #change params\n",
        "    model_gensim_2.add(layers.Dense(10, activation='relu', kernel_regularizer=regularizers.L1(0.01)))    #Use regulazers\n",
        "    model_gensim_2.add(layers.Dropout(0.2))                     #change params \n",
        "\n",
        "    ### Last layer (let's say a classification with 10 output)\n",
        "    model_gensim_2.add(layers.Dense(1, activation='linear'))\n",
        "        \n",
        "    ### Model compilation\n",
        "    model_gensim_2.compile(loss='mse', \n",
        "                  optimizer='rmsprop',    #rmsprop or adam?\n",
        "                  metrics=['mae'])     \n",
        "\n",
        "    return model_gensim_2"
      ],
      "id": "xsLzkc_I9OJe",
      "execution_count": 84,
      "outputs": []
    },
    {
      "cell_type": "code",
      "metadata": {
        "colab": {
          "base_uri": "https://localhost:8080/"
        },
        "id": "-r6i2ZdD9OJf",
        "outputId": "5cbe5d05-63be-4267-f7f4-c06a2d1ca7ef"
      },
      "source": [
        "model_gensim_2 = initialize_model()\n",
        "model_gensim_2.summary()"
      ],
      "id": "-r6i2ZdD9OJf",
      "execution_count": 85,
      "outputs": [
        {
          "output_type": "stream",
          "text": [
            "Model: \"sequential_4\"\n",
            "_________________________________________________________________\n",
            "Layer (type)                 Output Shape              Param #   \n",
            "=================================================================\n",
            "embedding_4 (Embedding)      (None, None, 100)         500000    \n",
            "_________________________________________________________________\n",
            "lstm_12 (LSTM)               (None, None, 100)         80400     \n",
            "_________________________________________________________________\n",
            "lstm_13 (LSTM)               (None, None, 100)         80400     \n",
            "_________________________________________________________________\n",
            "lstm_14 (LSTM)               (None, 50)                30200     \n",
            "_________________________________________________________________\n",
            "dropout_16 (Dropout)         (None, 50)                0         \n",
            "_________________________________________________________________\n",
            "dense_16 (Dense)             (None, 40)                2040      \n",
            "_________________________________________________________________\n",
            "dropout_17 (Dropout)         (None, 40)                0         \n",
            "_________________________________________________________________\n",
            "dense_17 (Dense)             (None, 20)                820       \n",
            "_________________________________________________________________\n",
            "dropout_18 (Dropout)         (None, 20)                0         \n",
            "_________________________________________________________________\n",
            "dense_18 (Dense)             (None, 10)                210       \n",
            "_________________________________________________________________\n",
            "dropout_19 (Dropout)         (None, 10)                0         \n",
            "_________________________________________________________________\n",
            "dense_19 (Dense)             (None, 1)                 11        \n",
            "=================================================================\n",
            "Total params: 694,081\n",
            "Trainable params: 694,081\n",
            "Non-trainable params: 0\n",
            "_________________________________________________________________\n"
          ],
          "name": "stdout"
        }
      ]
    },
    {
      "cell_type": "code",
      "metadata": {
        "colab": {
          "base_uri": "https://localhost:8080/"
        },
        "id": "PKsS0M_J9OJg",
        "outputId": "e1df946c-127f-41df-e37c-dfac7548710c"
      },
      "source": [
        "### YOUR CODE HERE\n",
        "\n",
        "from tensorflow.keras.callbacks import EarlyStopping \n",
        "\n",
        "# YOUR CODE HERE\n",
        "es = EarlyStopping(monitor='val_loss', mode='min', verbose=1, patience=10, restore_best_weights=True)\n",
        "model_gensim_2 = initialize_model()\n",
        "\n",
        "history = model_gensim_2.fit(X_train, y_train,\n",
        "          validation_split=0.2,\n",
        "          batch_size=32,\n",
        "          epochs=200,\n",
        "          verbose=1,\n",
        "          callbacks=[es])"
      ],
      "id": "PKsS0M_J9OJg",
      "execution_count": 86,
      "outputs": [
        {
          "output_type": "stream",
          "text": [
            "Epoch 1/200\n",
            "120/120 [==============================] - 19s 100ms/step - loss: 10.7487 - mae: 2.1824 - val_loss: 7.0189 - val_mae: 1.7709\n",
            "Epoch 2/200\n",
            "120/120 [==============================] - 9s 77ms/step - loss: 7.5764 - mae: 1.8499 - val_loss: 5.8161 - val_mae: 1.7527\n",
            "Epoch 3/200\n",
            "120/120 [==============================] - 9s 79ms/step - loss: 5.6809 - mae: 1.5611 - val_loss: 3.3819 - val_mae: 1.0074\n",
            "Epoch 4/200\n",
            "120/120 [==============================] - 9s 76ms/step - loss: 3.5202 - mae: 1.0198 - val_loss: 2.5545 - val_mae: 0.9275\n",
            "Epoch 5/200\n",
            "120/120 [==============================] - 9s 77ms/step - loss: 2.9474 - mae: 0.9628 - val_loss: 2.0398 - val_mae: 0.7385\n",
            "Epoch 6/200\n",
            "120/120 [==============================] - 9s 75ms/step - loss: 2.5294 - mae: 0.8975 - val_loss: 1.6375 - val_mae: 0.5214\n",
            "Epoch 7/200\n",
            "120/120 [==============================] - 9s 78ms/step - loss: 2.1415 - mae: 0.8298 - val_loss: 1.5431 - val_mae: 0.6509\n",
            "Epoch 8/200\n",
            "120/120 [==============================] - 9s 78ms/step - loss: 1.8670 - mae: 0.7883 - val_loss: 1.4525 - val_mae: 0.5062\n",
            "Epoch 9/200\n",
            "120/120 [==============================] - 9s 79ms/step - loss: 1.7546 - mae: 0.7752 - val_loss: 1.4052 - val_mae: 0.6335\n",
            "Epoch 10/200\n",
            "120/120 [==============================] - 10s 82ms/step - loss: 1.6742 - mae: 0.7777 - val_loss: 1.3107 - val_mae: 0.6446\n",
            "Epoch 11/200\n",
            "120/120 [==============================] - 9s 78ms/step - loss: 1.5117 - mae: 0.7510 - val_loss: 1.5777 - val_mae: 0.6815\n",
            "Epoch 12/200\n",
            "120/120 [==============================] - 9s 78ms/step - loss: 1.4168 - mae: 0.7238 - val_loss: 1.1375 - val_mae: 0.5345\n",
            "Epoch 13/200\n",
            "120/120 [==============================] - 9s 78ms/step - loss: 1.3239 - mae: 0.7192 - val_loss: 1.1810 - val_mae: 0.6729\n",
            "Epoch 14/200\n",
            "120/120 [==============================] - 9s 79ms/step - loss: 1.3723 - mae: 0.7357 - val_loss: 1.3846 - val_mae: 0.7509\n",
            "Epoch 15/200\n",
            "120/120 [==============================] - 9s 76ms/step - loss: 1.2874 - mae: 0.7221 - val_loss: 1.2314 - val_mae: 0.6705\n",
            "Epoch 16/200\n",
            "120/120 [==============================] - 9s 78ms/step - loss: 1.2588 - mae: 0.7104 - val_loss: 1.1205 - val_mae: 0.5642\n",
            "Epoch 17/200\n",
            "120/120 [==============================] - 9s 76ms/step - loss: 1.1932 - mae: 0.7004 - val_loss: 0.9562 - val_mae: 0.5058\n",
            "Epoch 18/200\n",
            "120/120 [==============================] - 9s 77ms/step - loss: 1.1266 - mae: 0.6788 - val_loss: 1.0131 - val_mae: 0.5095\n",
            "Epoch 19/200\n",
            "120/120 [==============================] - 9s 76ms/step - loss: 1.1577 - mae: 0.7018 - val_loss: 0.9736 - val_mae: 0.5565\n",
            "Epoch 20/200\n",
            "120/120 [==============================] - 9s 78ms/step - loss: 1.1390 - mae: 0.6883 - val_loss: 1.0437 - val_mae: 0.5936\n",
            "Epoch 21/200\n",
            "120/120 [==============================] - 9s 79ms/step - loss: 1.1044 - mae: 0.6803 - val_loss: 0.9344 - val_mae: 0.4548\n",
            "Epoch 22/200\n",
            "120/120 [==============================] - 9s 78ms/step - loss: 1.0940 - mae: 0.6837 - val_loss: 0.9671 - val_mae: 0.5574\n",
            "Epoch 23/200\n",
            "120/120 [==============================] - 9s 76ms/step - loss: 1.0893 - mae: 0.6763 - val_loss: 1.0587 - val_mae: 0.6746\n",
            "Epoch 24/200\n",
            "120/120 [==============================] - 9s 78ms/step - loss: 1.0920 - mae: 0.6832 - val_loss: 0.9665 - val_mae: 0.5603\n",
            "Epoch 25/200\n",
            "120/120 [==============================] - 9s 77ms/step - loss: 1.0238 - mae: 0.6561 - val_loss: 1.0282 - val_mae: 0.6101\n",
            "Epoch 26/200\n",
            "120/120 [==============================] - 9s 77ms/step - loss: 1.0084 - mae: 0.6520 - val_loss: 0.9429 - val_mae: 0.4866\n",
            "Epoch 27/200\n",
            "120/120 [==============================] - 10s 79ms/step - loss: 1.0058 - mae: 0.6470 - val_loss: 1.1634 - val_mae: 0.6253\n",
            "Epoch 28/200\n",
            "120/120 [==============================] - 9s 76ms/step - loss: 1.0495 - mae: 0.6677 - val_loss: 1.0568 - val_mae: 0.5792\n",
            "Epoch 29/200\n",
            "120/120 [==============================] - 9s 79ms/step - loss: 1.0235 - mae: 0.6520 - val_loss: 1.0390 - val_mae: 0.6713\n",
            "Epoch 30/200\n",
            "120/120 [==============================] - 9s 77ms/step - loss: 0.9672 - mae: 0.6441 - val_loss: 1.0272 - val_mae: 0.4880\n",
            "Epoch 31/200\n",
            "120/120 [==============================] - 9s 77ms/step - loss: 0.9671 - mae: 0.6336 - val_loss: 1.0056 - val_mae: 0.4592\n",
            "Restoring model weights from the end of the best epoch.\n",
            "Epoch 00031: early stopping\n"
          ],
          "name": "stdout"
        }
      ]
    },
    {
      "cell_type": "code",
      "metadata": {
        "id": "sAE_u8RK9OJh"
      },
      "source": [
        "# history.history"
      ],
      "id": "sAE_u8RK9OJh",
      "execution_count": 587,
      "outputs": []
    },
    {
      "cell_type": "code",
      "metadata": {
        "colab": {
          "base_uri": "https://localhost:8080/"
        },
        "id": "5Fltqukw9OJi",
        "outputId": "c7e47e2f-2df6-4251-8102-7e5dc90d8454"
      },
      "source": [
        "model_gensim_2.evaluate(X_test, y_test, verbose=0)"
      ],
      "id": "5Fltqukw9OJi",
      "execution_count": 89,
      "outputs": [
        {
          "output_type": "execute_result",
          "data": {
            "text/plain": [
              "[0.8868385553359985, 0.4604249596595764]"
            ]
          },
          "metadata": {
            "tags": []
          },
          "execution_count": 89
        }
      ]
    },
    {
      "cell_type": "code",
      "metadata": {
        "colab": {
          "base_uri": "https://localhost:8080/",
          "height": 513
        },
        "id": "KxanBfp_9OJi",
        "outputId": "7ae90be2-1431-4417-d63d-f43a640222a0"
      },
      "source": [
        "import matplotlib.pyplot as plt\n",
        "plt.plot(history.history['loss'], label='train mse')      #CHANGE\n",
        "plt.plot(history.history['val_loss'], label='val mse')      #CHANGE\n",
        "plt.legend()\n",
        "plt.show()\n",
        "plt.plot(history.history['mae'], label='train mae')      #CHANGE\n",
        "plt.plot(history.history['val_mae'], label='val mae')\n",
        "plt.legend()\n",
        "plt.show()"
      ],
      "id": "KxanBfp_9OJi",
      "execution_count": 90,
      "outputs": [
        {
          "output_type": "display_data",
          "data": {
            "image/png": "[encoded data removed]",
            "text/plain": [
              "<Figure size 432x288 with 1 Axes>"
            ]
          },
          "metadata": {
            "tags": [],
            "needs_background": "light"
          }
        },
        {
          "output_type": "display_data",
          "data": {
            "image/png": "[encoded data removed]",
            "text/plain": [
              "<Figure size 432x288 with 1 Axes>"
            ]
          },
          "metadata": {
            "tags": [],
            "needs_background": "light"
          }
        }
      ]
    },
    {
      "cell_type": "code",
      "metadata": {
        "colab": {
          "base_uri": "https://localhost:8080/",
          "height": 282
        },
        "id": "FTJvAugY9OJj",
        "outputId": "d8832afe-5de7-4b9b-fa14-82887e5f1447"
      },
      "source": [
        "import matplotlib.pyplot as plt \n",
        "y_pred_model = model_gensim_2.predict(X_test)\n",
        "plt.scatter(y_test, y_pred_model)"
      ],
      "id": "FTJvAugY9OJj",
      "execution_count": 91,
      "outputs": [
        {
          "output_type": "execute_result",
          "data": {
            "text/plain": [
              "<matplotlib.collections.PathCollection at 0x7f73a9aebf10>"
            ]
          },
          "metadata": {
            "tags": []
          },
          "execution_count": 91
        },
        {
          "output_type": "display_data",
          "data": {
            "image/png": "[encoded data removed]",
            "text/plain": [
              "<Figure size 432x288 with 1 Axes>"
            ]
          },
          "metadata": {
            "tags": [],
            "needs_background": "light"
          }
        }
      ]
    },
    {
      "cell_type": "code",
      "metadata": {
        "colab": {
          "base_uri": "https://localhost:8080/",
          "height": 299
        },
        "id": "MHL1YTJ2-dHd",
        "outputId": "02ad328c-1832-4721-9a95-6c9298691f69"
      },
      "source": [
        "# Baseline Model\r\n",
        "print(f'Baseline Model MAE {baseline_mae}')\r\n",
        "plt.scatter(y_test, y_pred_baseline)"
      ],
      "id": "MHL1YTJ2-dHd",
      "execution_count": 92,
      "outputs": [
        {
          "output_type": "stream",
          "text": [
            "Baseline Model MAE 1.5342161553587934\n"
          ],
          "name": "stdout"
        },
        {
          "output_type": "execute_result",
          "data": {
            "text/plain": [
              "<matplotlib.collections.PathCollection at 0x7f73a9a66590>"
            ]
          },
          "metadata": {
            "tags": []
          },
          "execution_count": 92
        },
        {
          "output_type": "display_data",
          "data": {
            "image/png": "[encoded data removed]",
            "text/plain": [
              "<Figure size 432x288 with 1 Axes>"
            ]
          },
          "metadata": {
            "tags": [],
            "needs_background": "light"
          }
        }
      ]
    },
    {
      "cell_type": "code",
      "metadata": {
        "id": "5D_qh1Ui9OJj",
        "colab": {
          "base_uri": "https://localhost:8080/",
          "height": 103
        },
        "outputId": "3027b19a-26ee-4bef-8b44-f388e0e61e15"
      },
      "source": [
        "# 0\tangry made post available via possible site us...\t2.9\r\n",
        "\r\n",
        "# pre process and convert to pad ...\r\n",
        "X_2[0] # = sequences[0]"
      ],
      "id": "5D_qh1Ui9OJj",
      "execution_count": 93,
      "outputs": [
        {
          "output_type": "execute_result",
          "data": {
            "application/vnd.google.colaboratory.intrinsic+json": {
              "type": "string"
            },
            "text/plain": [
              "'ok nothing special charge diamond member hilton decided chain shot 20th anniversary seattle, start booked suite paid extra website description not, suite bedroom bathroom standard hotel room, took printed reservation desk showed said things like tv couch ect desk clerk told oh mixed suites description kimpton website sorry free breakfast, got kidding, embassy suits sitting room bathroom bedroom unlike kimpton calls suite, 5 day stay offer correct false advertising, send kimpton preferred guest website email asking failure provide suite advertised website reservation description furnished hard copy reservation printout website desk manager duty did not reply solution, send email trip guest survey did not follow email mail, guess tell concerned guest.the staff ranged indifferent not helpful, asked desk good breakfast spots neighborhood hood told no hotels, gee best breakfast spots seattle 1/2 block away convenient hotel does not know exist, arrived late night 11 pm inside run bellman busy chating cell phone help bags.prior arrival emailed hotel inform 20th anniversary half really picky wanted make sure good, got nice email saying like deliver bottle champagne chocolate covered strawberries room arrival celebrate, told needed foam pillows, arrival no champagne strawberries no foam pillows great room view alley high rise building good not better housekeeping staff cleaner room property, impressed left morning shopping room got short trips 2 hours, beds comfortable.not good ac-heat control 4 x 4 inch screen bring green shine directly eyes night, light sensitive tape controls.this not 4 start hotel clean business hotel super high rates, better chain hotels seattle,  '"
            ]
          },
          "metadata": {
            "tags": []
          },
          "execution_count": 93
        }
      ]
    },
    {
      "cell_type": "code",
      "metadata": {
        "colab": {
          "base_uri": "https://localhost:8080/"
        },
        "id": "lNKlL1XLgtUV",
        "outputId": "807865e6-ce17-4176-9b30-7675927928dc"
      },
      "source": [
        "X_pad[0] # sequences[0]\r\n",
        "# sequences[0]"
      ],
      "id": "lNKlL1XLgtUV",
      "execution_count": 94,
      "outputs": [
        {
          "output_type": "execute_result",
          "data": {
            "text/plain": [
              "array([145, 110, 296, ...,   0,   0,   0], dtype=int32)"
            ]
          },
          "metadata": {
            "tags": []
          },
          "execution_count": 94
        }
      ]
    },
    {
      "cell_type": "code",
      "metadata": {
        "colab": {
          "base_uri": "https://localhost:8080/"
        },
        "id": "6rvqN2_jrOAN",
        "outputId": "a473c35f-f570-416d-b328-f7e53e2789e8"
      },
      "source": [
        "tokenizer.word_index[\"broken\"],   tokenizer.word_index[\"angry\"],   # Val?/"
      ],
      "id": "6rvqN2_jrOAN",
      "execution_count": 95,
      "outputs": [
        {
          "output_type": "execute_result",
          "data": {
            "text/plain": [
              "(464, 2455)"
            ]
          },
          "metadata": {
            "tags": []
          },
          "execution_count": 95
        }
      ]
    },
    {
      "cell_type": "code",
      "metadata": {
        "colab": {
          "base_uri": "https://localhost:8080/"
        },
        "id": "TVuYcGtxpM3F",
        "outputId": "a8b73894-d846-46f3-f95a-2db486ec4ce8"
      },
      "source": [
        "#model_gensim.predict([[X_pad[0]]])\r\n",
        "model_gensim_2.predict(np.expand_dims(X_pad[0], axis=0))[0][0]"
      ],
      "id": "TVuYcGtxpM3F",
      "execution_count": 96,
      "outputs": [
        {
          "output_type": "execute_result",
          "data": {
            "text/plain": [
              "1.7097647"
            ]
          },
          "metadata": {
            "tags": []
          },
          "execution_count": 96
        }
      ]
    },
    {
      "cell_type": "code",
      "metadata": {
        "id": "2u_E70_l9OJk",
        "colab": {
          "base_uri": "https://localhost:8080/"
        },
        "outputId": "1485833d-3c99-470f-e382-076597ca9815"
      },
      "source": [
        "sentence_test = \"I really liked the hotel. Everything was amazing, thanks for all\"\r\n",
        "\r\n",
        "sentence_test =  tokenizer.texts_to_sequences([sentence_test])\r\n",
        "sentence_test = pad_sequences(sentence_test, dtype='int32', padding='post', maxlen=X_pad[0].shape[0])\r\n",
        "sentence_test\r\n",
        "\r\n",
        "model_gensim_2.predict(np.expand_dims(sentence_test[0], axis=0))[0][0]"
      ],
      "id": "2u_E70_l9OJk",
      "execution_count": 97,
      "outputs": [
        {
          "output_type": "execute_result",
          "data": {
            "text/plain": [
              "4.692631"
            ]
          },
          "metadata": {
            "tags": []
          },
          "execution_count": 97
        }
      ]
    },
    {
      "cell_type": "code",
      "metadata": {
        "id": "AHJgnHgd9OJl",
        "colab": {
          "base_uri": "https://localhost:8080/"
        },
        "outputId": "bfcc5c16-630e-4899-cdf7-156de1e9d687"
      },
      "source": [
        "sentence_test = \"The hotel was horrible. We had prostitutes, drug addicts, fights and blood all over the bed. Everything was broken and smelly\"\r\n",
        "\r\n",
        "sentence_test =  tokenizer.texts_to_sequences([sentence_test])\r\n",
        "sentence_test = pad_sequences(sentence_test, dtype='int32', padding='post', maxlen=X_pad[0].shape[0])\r\n",
        "sentence_test\r\n",
        "\r\n",
        "model_gensim_2.predict(np.expand_dims(sentence_test[0], axis=0))[0][0]"
      ],
      "id": "AHJgnHgd9OJl",
      "execution_count": 98,
      "outputs": [
        {
          "output_type": "execute_result",
          "data": {
            "text/plain": [
              "1.7097647"
            ]
          },
          "metadata": {
            "tags": []
          },
          "execution_count": 98
        }
      ]
    },
    {
      "cell_type": "code",
      "metadata": {
        "colab": {
          "base_uri": "https://localhost:8080/"
        },
        "id": "rISfqZOnHzXn",
        "outputId": "e1666b61-3400-4469-b779-c3799d8a0454"
      },
      "source": [
        "sentence_test = \"Great vacation until we tried to travel home. We tried calling and waited more than 2 hours for a callback and then they were unable/unwilling to help us. Stranded for 48 hours because of this company with no help rebooking flights. We are out for hotel, food, and time off work because I was hung up on repeatedly by their customer service department. Once I was finally home, they told me there's nothing they can do for me that they were really sorry all this happened. They were unwilling to make it right, but told me that I could have requested a refund for my flight home if I would have been able to reach them at the time.\"\r\n",
        "\r\n",
        "sentence_test =  tokenizer.texts_to_sequences([sentence_test])\r\n",
        "sentence_test = pad_sequences(sentence_test, dtype='int32', padding='post', maxlen=X_pad[0].shape[0])\r\n",
        "sentence_test\r\n",
        "\r\n",
        "model_gensim_2.predict(np.expand_dims(sentence_test[0], axis=0))[0][0]"
      ],
      "id": "rISfqZOnHzXn",
      "execution_count": 99,
      "outputs": [
        {
          "output_type": "execute_result",
          "data": {
            "text/plain": [
              "1.7097647"
            ]
          },
          "metadata": {
            "tags": []
          },
          "execution_count": 99
        }
      ]
    },
    {
      "cell_type": "code",
      "metadata": {
        "colab": {
          "base_uri": "https://localhost:8080/"
        },
        "id": "ghybdNmhH96u",
        "outputId": "ed4b7927-2d07-40cf-9039-8fae58e108ce"
      },
      "source": [
        "sentence_test = \"The hotel itself was great, affordable and clean. The bar in the lobby was inviting and the breakfast was great. The hotel was located close to a public transportation site, which made arrival and departure very easy.\"\r\n",
        "\r\n",
        "sentence_test =  tokenizer.texts_to_sequences([sentence_test])\r\n",
        "sentence_test = pad_sequences(sentence_test, dtype='int32', padding='post', maxlen=X_pad[0].shape[0])\r\n",
        "sentence_test\r\n",
        "\r\n",
        "model_gensim_2.predict(np.expand_dims(sentence_test[0], axis=0))[0][0]"
      ],
      "id": "ghybdNmhH96u",
      "execution_count": 100,
      "outputs": [
        {
          "output_type": "execute_result",
          "data": {
            "text/plain": [
              "4.827971"
            ]
          },
          "metadata": {
            "tags": []
          },
          "execution_count": 100
        }
      ]
    },
    {
      "cell_type": "markdown",
      "metadata": {
        "id": "lwW8AbGu9OJl"
      },
      "source": [
        "# Export"
      ],
      "id": "lwW8AbGu9OJl"
    },
    {
      "cell_type": "code",
      "metadata": {
        "id": "NvrgagrS9OJm"
      },
      "source": [
        "# import pickle\n",
        "\n",
        "# # Export pipeline as pickle file\n",
        "# with open(\"pipeline.pkl\", \"wb\") as file:\n",
        "#     pickle.dump(best_pipeline, file)"
      ],
      "id": "NvrgagrS9OJm",
      "execution_count": null,
      "outputs": []
    }
  ]
}