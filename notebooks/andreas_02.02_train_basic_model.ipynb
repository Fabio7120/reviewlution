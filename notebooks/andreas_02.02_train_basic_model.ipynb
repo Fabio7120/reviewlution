{
 "cells": [
  {
   "cell_type": "code",
   "execution_count": 1,
   "metadata": {},
   "outputs": [],
   "source": [
    "import pandas as pd\n",
    "import numpy as np\n",
    "import matplotlib.pyplot as plt\n",
    "%matplotlib inline"
   ]
  },
  {
   "cell_type": "code",
   "execution_count": 2,
   "metadata": {},
   "outputs": [],
   "source": [
    "df = pd.read_csv('../raw_data/clean_dataset_1.csv').drop('Unnamed: 0', axis = 1)"
   ]
  },
  {
   "cell_type": "code",
   "execution_count": 3,
   "metadata": {},
   "outputs": [
    {
     "data": {
      "text/html": [
       "<div>\n",
       "<style scoped>\n",
       "    .dataframe tbody tr th:only-of-type {\n",
       "        vertical-align: middle;\n",
       "    }\n",
       "\n",
       "    .dataframe tbody tr th {\n",
       "        vertical-align: top;\n",
       "    }\n",
       "\n",
       "    .dataframe thead th {\n",
       "        text-align: right;\n",
       "    }\n",
       "</style>\n",
       "<table border=\"1\" class=\"dataframe\">\n",
       "  <thead>\n",
       "    <tr style=\"text-align: right;\">\n",
       "      <th></th>\n",
       "      <th>Reviewer_Score</th>\n",
       "      <th>Review_Text</th>\n",
       "      <th>reviews</th>\n",
       "    </tr>\n",
       "  </thead>\n",
       "  <tbody>\n",
       "    <tr>\n",
       "      <th>0</th>\n",
       "      <td>2.9</td>\n",
       "      <td>i am so angry that i made this post available...</td>\n",
       "      <td>i am so angry that i made this post available ...</td>\n",
       "    </tr>\n",
       "    <tr>\n",
       "      <th>1</th>\n",
       "      <td>7.5</td>\n",
       "      <td>no real complaints the hotel was great great...</td>\n",
       "      <td>no real complaint the hotel wa great great loc...</td>\n",
       "    </tr>\n",
       "    <tr>\n",
       "      <th>2</th>\n",
       "      <td>7.1</td>\n",
       "      <td>rooms are nice but for elderly a bit difficul...</td>\n",
       "      <td>room are nice but for elderly a bit difficult ...</td>\n",
       "    </tr>\n",
       "    <tr>\n",
       "      <th>3</th>\n",
       "      <td>3.8</td>\n",
       "      <td>my room was dirty and i was afraid to walk ba...</td>\n",
       "      <td>my room wa dirty and i wa afraid to walk baref...</td>\n",
       "    </tr>\n",
       "    <tr>\n",
       "      <th>4</th>\n",
       "      <td>6.7</td>\n",
       "      <td>you when i booked with your company on line y...</td>\n",
       "      <td>you when i booked with your company on line yo...</td>\n",
       "    </tr>\n",
       "  </tbody>\n",
       "</table>\n",
       "</div>"
      ],
      "text/plain": [
       "   Reviewer_Score                                        Review_Text  \\\n",
       "0             2.9   i am so angry that i made this post available...   \n",
       "1             7.5    no real complaints the hotel was great great...   \n",
       "2             7.1   rooms are nice but for elderly a bit difficul...   \n",
       "3             3.8   my room was dirty and i was afraid to walk ba...   \n",
       "4             6.7   you when i booked with your company on line y...   \n",
       "\n",
       "                                             reviews  \n",
       "0  i am so angry that i made this post available ...  \n",
       "1  no real complaint the hotel wa great great loc...  \n",
       "2  room are nice but for elderly a bit difficult ...  \n",
       "3  my room wa dirty and i wa afraid to walk baref...  \n",
       "4  you when i booked with your company on line yo...  "
      ]
     },
     "execution_count": 3,
     "metadata": {},
     "output_type": "execute_result"
    }
   ],
   "source": [
    "df.head()"
   ]
  },
  {
   "cell_type": "markdown",
   "metadata": {},
   "source": [
    "## df round to discrete numbers"
   ]
  },
  {
   "cell_type": "code",
   "execution_count": 4,
   "metadata": {},
   "outputs": [],
   "source": [
    "df['review_score'] = np.round((df['Reviewer_Score']*2)/2, decimals = 0).astype(np.int8)\n",
    "df = df.drop('Reviewer_Score', axis = 1)"
   ]
  },
  {
   "cell_type": "code",
   "execution_count": 5,
   "metadata": {},
   "outputs": [
    {
     "data": {
      "text/html": [
       "<div>\n",
       "<style scoped>\n",
       "    .dataframe tbody tr th:only-of-type {\n",
       "        vertical-align: middle;\n",
       "    }\n",
       "\n",
       "    .dataframe tbody tr th {\n",
       "        vertical-align: top;\n",
       "    }\n",
       "\n",
       "    .dataframe thead th {\n",
       "        text-align: right;\n",
       "    }\n",
       "</style>\n",
       "<table border=\"1\" class=\"dataframe\">\n",
       "  <thead>\n",
       "    <tr style=\"text-align: right;\">\n",
       "      <th></th>\n",
       "      <th>Review_Text</th>\n",
       "      <th>reviews</th>\n",
       "      <th>review_score</th>\n",
       "    </tr>\n",
       "  </thead>\n",
       "  <tbody>\n",
       "    <tr>\n",
       "      <th>0</th>\n",
       "      <td>i am so angry that i made this post available...</td>\n",
       "      <td>i am so angry that i made this post available ...</td>\n",
       "      <td>3</td>\n",
       "    </tr>\n",
       "    <tr>\n",
       "      <th>1</th>\n",
       "      <td>no real complaints the hotel was great great...</td>\n",
       "      <td>no real complaint the hotel wa great great loc...</td>\n",
       "      <td>8</td>\n",
       "    </tr>\n",
       "    <tr>\n",
       "      <th>2</th>\n",
       "      <td>rooms are nice but for elderly a bit difficul...</td>\n",
       "      <td>room are nice but for elderly a bit difficult ...</td>\n",
       "      <td>7</td>\n",
       "    </tr>\n",
       "    <tr>\n",
       "      <th>3</th>\n",
       "      <td>my room was dirty and i was afraid to walk ba...</td>\n",
       "      <td>my room wa dirty and i wa afraid to walk baref...</td>\n",
       "      <td>4</td>\n",
       "    </tr>\n",
       "    <tr>\n",
       "      <th>4</th>\n",
       "      <td>you when i booked with your company on line y...</td>\n",
       "      <td>you when i booked with your company on line yo...</td>\n",
       "      <td>7</td>\n",
       "    </tr>\n",
       "  </tbody>\n",
       "</table>\n",
       "</div>"
      ],
      "text/plain": [
       "                                         Review_Text  \\\n",
       "0   i am so angry that i made this post available...   \n",
       "1    no real complaints the hotel was great great...   \n",
       "2   rooms are nice but for elderly a bit difficul...   \n",
       "3   my room was dirty and i was afraid to walk ba...   \n",
       "4   you when i booked with your company on line y...   \n",
       "\n",
       "                                             reviews  review_score  \n",
       "0  i am so angry that i made this post available ...             3  \n",
       "1  no real complaint the hotel wa great great loc...             8  \n",
       "2  room are nice but for elderly a bit difficult ...             7  \n",
       "3  my room wa dirty and i wa afraid to walk baref...             4  \n",
       "4  you when i booked with your company on line yo...             7  "
      ]
     },
     "execution_count": 5,
     "metadata": {},
     "output_type": "execute_result"
    }
   ],
   "source": [
    "df.head()"
   ]
  },
  {
   "cell_type": "code",
   "execution_count": 6,
   "metadata": {},
   "outputs": [
    {
     "name": "stdout",
     "output_type": "stream",
     "text": [
      "<class 'pandas.core.frame.DataFrame'>\n",
      "RangeIndex: 515738 entries, 0 to 515737\n",
      "Data columns (total 3 columns):\n",
      " #   Column        Non-Null Count   Dtype \n",
      "---  ------        --------------   ----- \n",
      " 0   Review_Text   515738 non-null  object\n",
      " 1   reviews       515493 non-null  object\n",
      " 2   review_score  515738 non-null  int8  \n",
      "dtypes: int8(1), object(2)\n",
      "memory usage: 8.4+ MB\n"
     ]
    }
   ],
   "source": [
    "df.info()"
   ]
  },
  {
   "cell_type": "markdown",
   "metadata": {},
   "source": [
    "## df drop null"
   ]
  },
  {
   "cell_type": "code",
   "execution_count": 7,
   "metadata": {},
   "outputs": [],
   "source": [
    "df = df.dropna()"
   ]
  },
  {
   "cell_type": "markdown",
   "metadata": {},
   "source": [
    "## remove comments les than x words"
   ]
  },
  {
   "cell_type": "code",
   "execution_count": 8,
   "metadata": {},
   "outputs": [],
   "source": [
    "def word_counter(X):\n",
    "    return len(X.split(' '))"
   ]
  },
  {
   "cell_type": "code",
   "execution_count": 9,
   "metadata": {},
   "outputs": [],
   "source": [
    "df['word_count'] = df['reviews'].apply(word_counter)"
   ]
  },
  {
   "cell_type": "code",
   "execution_count": 10,
   "metadata": {},
   "outputs": [],
   "source": [
    "df = df[df['word_count']>9].reset_index().drop('index', axis = 1)"
   ]
  },
  {
   "cell_type": "code",
   "execution_count": 11,
   "metadata": {},
   "outputs": [
    {
     "name": "stdout",
     "output_type": "stream",
     "text": [
      "<class 'pandas.core.frame.DataFrame'>\n",
      "RangeIndex: 400486 entries, 0 to 400485\n",
      "Data columns (total 4 columns):\n",
      " #   Column        Non-Null Count   Dtype \n",
      "---  ------        --------------   ----- \n",
      " 0   Review_Text   400486 non-null  object\n",
      " 1   reviews       400486 non-null  object\n",
      " 2   review_score  400486 non-null  int8  \n",
      " 3   word_count    400486 non-null  int64 \n",
      "dtypes: int64(1), int8(1), object(2)\n",
      "memory usage: 9.5+ MB\n"
     ]
    }
   ],
   "source": [
    "df.info()"
   ]
  },
  {
   "cell_type": "markdown",
   "metadata": {},
   "source": [
    "## rebalance data"
   ]
  },
  {
   "cell_type": "code",
   "execution_count": 12,
   "metadata": {},
   "outputs": [],
   "source": [
    "## create a list of unique y-values\n",
    "df['review_score'].unique()\n",
    "\n",
    "counts = df['review_score'].value_counts()\n",
    "\n",
    "df['Counts'] = df['review_score'].map(counts)\n",
    "\n",
    "df_more_than_xxx = df[df['Counts'] > 999]\n",
    "\n",
    "unique_values = df_more_than_xxx['review_score'].unique()"
   ]
  },
  {
   "cell_type": "code",
   "execution_count": 13,
   "metadata": {},
   "outputs": [],
   "source": [
    "## create a function to rebalance the data\n",
    "def balance_df(lst, df):\n",
    "    dict_dfs = {}\n",
    "    \n",
    "    for val in lst:\n",
    "        df_val = df[df['review_score'] == val]\n",
    "        \n",
    "        dict_dfs[val] = df_val.sample(n=1000)\n",
    "        \n",
    "    return dict_dfs"
   ]
  },
  {
   "cell_type": "code",
   "execution_count": 14,
   "metadata": {},
   "outputs": [
    {
     "data": {
      "text/html": [
       "<div>\n",
       "<style scoped>\n",
       "    .dataframe tbody tr th:only-of-type {\n",
       "        vertical-align: middle;\n",
       "    }\n",
       "\n",
       "    .dataframe tbody tr th {\n",
       "        vertical-align: top;\n",
       "    }\n",
       "\n",
       "    .dataframe thead th {\n",
       "        text-align: right;\n",
       "    }\n",
       "</style>\n",
       "<table border=\"1\" class=\"dataframe\">\n",
       "  <thead>\n",
       "    <tr style=\"text-align: right;\">\n",
       "      <th></th>\n",
       "      <th>Review_Text</th>\n",
       "      <th>reviews</th>\n",
       "      <th>review_score</th>\n",
       "      <th>word_count</th>\n",
       "      <th>Counts</th>\n",
       "    </tr>\n",
       "  </thead>\n",
       "  <tbody>\n",
       "    <tr>\n",
       "      <th>0</th>\n",
       "      <td>the hotel is being fully refurbished and will...</td>\n",
       "      <td>the hotel is being fully refurbished and will ...</td>\n",
       "      <td>8</td>\n",
       "      <td>45</td>\n",
       "      <td>85874</td>\n",
       "    </tr>\n",
       "    <tr>\n",
       "      <th>1</th>\n",
       "      <td>d cor a bit dated could be modernised a bit c...</td>\n",
       "      <td>d cor a bit dated could be modernised a bit co...</td>\n",
       "      <td>10</td>\n",
       "      <td>25</td>\n",
       "      <td>137996</td>\n",
       "    </tr>\n",
       "    <tr>\n",
       "      <th>2</th>\n",
       "      <td>under staffed staff are willing to help but n...</td>\n",
       "      <td>under staffed staff are willing to help but ne...</td>\n",
       "      <td>5</td>\n",
       "      <td>273</td>\n",
       "      <td>20515</td>\n",
       "    </tr>\n",
       "    <tr>\n",
       "      <th>3</th>\n",
       "      <td>bathrooms oddly designed look good but sink t...</td>\n",
       "      <td>bathroom oddly designed look good but sink tap...</td>\n",
       "      <td>7</td>\n",
       "      <td>99</td>\n",
       "      <td>36034</td>\n",
       "    </tr>\n",
       "    <tr>\n",
       "      <th>4</th>\n",
       "      <td>hotel staff were friendly and food and drink...</td>\n",
       "      <td>hotel staff were friendly and food and drink w...</td>\n",
       "      <td>8</td>\n",
       "      <td>11</td>\n",
       "      <td>85874</td>\n",
       "    </tr>\n",
       "    <tr>\n",
       "      <th>...</th>\n",
       "      <td>...</td>\n",
       "      <td>...</td>\n",
       "      <td>...</td>\n",
       "      <td>...</td>\n",
       "      <td>...</td>\n",
       "    </tr>\n",
       "    <tr>\n",
       "      <th>8995</th>\n",
       "      <td>the room itself we can hear someone stepping ...</td>\n",
       "      <td>the room itself we can hear someone stepping a...</td>\n",
       "      <td>5</td>\n",
       "      <td>27</td>\n",
       "      <td>20515</td>\n",
       "    </tr>\n",
       "    <tr>\n",
       "      <th>8996</th>\n",
       "      <td>i booked a cabinn the room was very very smal...</td>\n",
       "      <td>i booked a cabinn the room wa very very small ...</td>\n",
       "      <td>2</td>\n",
       "      <td>103</td>\n",
       "      <td>1660</td>\n",
       "    </tr>\n",
       "    <tr>\n",
       "      <th>8997</th>\n",
       "      <td>it took us about   minutes to get to amsterda...</td>\n",
       "      <td>it took u about minute to get to amsterdam cen...</td>\n",
       "      <td>9</td>\n",
       "      <td>35</td>\n",
       "      <td>83160</td>\n",
       "    </tr>\n",
       "    <tr>\n",
       "      <th>8998</th>\n",
       "      <td>situated on a quiet street so need to walk re...</td>\n",
       "      <td>situated on a quiet street so need to walk rea...</td>\n",
       "      <td>5</td>\n",
       "      <td>41</td>\n",
       "      <td>20515</td>\n",
       "    </tr>\n",
       "    <tr>\n",
       "      <th>8999</th>\n",
       "      <td>cleaning very bad bed not comfortable   locat...</td>\n",
       "      <td>cleaning very bad bed not comfortable location...</td>\n",
       "      <td>5</td>\n",
       "      <td>10</td>\n",
       "      <td>20515</td>\n",
       "    </tr>\n",
       "  </tbody>\n",
       "</table>\n",
       "<p>9000 rows × 5 columns</p>\n",
       "</div>"
      ],
      "text/plain": [
       "                                            Review_Text  \\\n",
       "0      the hotel is being fully refurbished and will...   \n",
       "1      d cor a bit dated could be modernised a bit c...   \n",
       "2      under staffed staff are willing to help but n...   \n",
       "3      bathrooms oddly designed look good but sink t...   \n",
       "4       hotel staff were friendly and food and drink...   \n",
       "...                                                 ...   \n",
       "8995   the room itself we can hear someone stepping ...   \n",
       "8996   i booked a cabinn the room was very very smal...   \n",
       "8997   it took us about   minutes to get to amsterda...   \n",
       "8998   situated on a quiet street so need to walk re...   \n",
       "8999   cleaning very bad bed not comfortable   locat...   \n",
       "\n",
       "                                                reviews  review_score  \\\n",
       "0     the hotel is being fully refurbished and will ...             8   \n",
       "1     d cor a bit dated could be modernised a bit co...            10   \n",
       "2     under staffed staff are willing to help but ne...             5   \n",
       "3     bathroom oddly designed look good but sink tap...             7   \n",
       "4     hotel staff were friendly and food and drink w...             8   \n",
       "...                                                 ...           ...   \n",
       "8995  the room itself we can hear someone stepping a...             5   \n",
       "8996  i booked a cabinn the room wa very very small ...             2   \n",
       "8997  it took u about minute to get to amsterdam cen...             9   \n",
       "8998  situated on a quiet street so need to walk rea...             5   \n",
       "8999  cleaning very bad bed not comfortable location...             5   \n",
       "\n",
       "      word_count  Counts  \n",
       "0             45   85874  \n",
       "1             25  137996  \n",
       "2            273   20515  \n",
       "3             99   36034  \n",
       "4             11   85874  \n",
       "...          ...     ...  \n",
       "8995          27   20515  \n",
       "8996         103    1660  \n",
       "8997          35   83160  \n",
       "8998          41   20515  \n",
       "8999          10   20515  \n",
       "\n",
       "[9000 rows x 5 columns]"
      ]
     },
     "execution_count": 14,
     "metadata": {},
     "output_type": "execute_result"
    }
   ],
   "source": [
    "## get the df's from the dict, merge and shuffle them\n",
    "\n",
    "## get the the dict with the dfs inside\n",
    "dct_dfs = balance_df(unique_values, df_more_than_xxx)\n",
    "\n",
    "## concat the dfs\n",
    "df_balanced_sorted = pd.concat(dct_dfs.values(), ignore_index=True)\n",
    "\n",
    "## shuffle the rows of the df\n",
    "df_balanced = df_balanced_sorted.sample(frac=1).reset_index(drop=True)\n",
    "\n",
    "df_balanced"
   ]
  },
  {
   "cell_type": "code",
   "execution_count": 15,
   "metadata": {},
   "outputs": [
    {
     "data": {
      "text/plain": [
       "[<matplotlib.lines.Line2D at 0x7f3f0756ddf0>]"
      ]
     },
     "execution_count": 15,
     "metadata": {},
     "output_type": "execute_result"
    },
    {
     "data": {
      "image/png": "[encoded data removed]",
      "text/plain": [
       "<Figure size 432x288 with 1 Axes>"
      ]
     },
     "metadata": {
      "needs_background": "light"
     },
     "output_type": "display_data"
    }
   ],
   "source": [
    "## show a part of the rebalanced df\n",
    "plt.plot(np.arange(200), df_balanced['review_score'][:200])"
   ]
  },
  {
   "cell_type": "code",
   "execution_count": 16,
   "metadata": {},
   "outputs": [],
   "source": [
    "## at this point we got 9000 rows"
   ]
  },
  {
   "cell_type": "markdown",
   "metadata": {},
   "source": [
    "## definig y and x"
   ]
  },
  {
   "cell_type": "code",
   "execution_count": 17,
   "metadata": {},
   "outputs": [],
   "source": [
    "# df_balanced = df[:100000]"
   ]
  },
  {
   "cell_type": "code",
   "execution_count": 18,
   "metadata": {},
   "outputs": [],
   "source": [
    "# y = df_balanced['review_score']"
   ]
  },
  {
   "cell_type": "markdown",
   "metadata": {},
   "source": [
    "## One hot encoded the lables"
   ]
  },
  {
   "cell_type": "code",
   "execution_count": 19,
   "metadata": {},
   "outputs": [],
   "source": [
    "from sklearn.preprocessing import OneHotEncoder\n",
    "y = df_balanced[['review_score']]"
   ]
  },
  {
   "cell_type": "code",
   "execution_count": 20,
   "metadata": {},
   "outputs": [],
   "source": [
    "y_bin = OneHotEncoder().fit_transform(y).astype(np.int8)"
   ]
  },
  {
   "cell_type": "code",
   "execution_count": 21,
   "metadata": {},
   "outputs": [
    {
     "data": {
      "text/plain": [
       "(9000, 9)"
      ]
     },
     "execution_count": 21,
     "metadata": {},
     "output_type": "execute_result"
    }
   ],
   "source": [
    "pd.DataFrame(y_bin.toarray(), columns = [2, 3, 4, 5, 6, 7, 8, 9, 10]).shape"
   ]
  },
  {
   "cell_type": "markdown",
   "metadata": {},
   "source": [
    "## split the data"
   ]
  },
  {
   "cell_type": "code",
   "execution_count": 22,
   "metadata": {},
   "outputs": [],
   "source": [
    "X_train = df_balanced['reviews'][:6000]\n",
    "X_test = df_balanced['reviews'][6000:]\n",
    "\n",
    "y_train = y_bin[:6000].toarray()\n",
    "y_test = y_bin[6000:].toarray()"
   ]
  },
  {
   "cell_type": "markdown",
   "metadata": {},
   "source": [
    "## vectorizing und embedding"
   ]
  },
  {
   "cell_type": "code",
   "execution_count": 23,
   "metadata": {},
   "outputs": [],
   "source": [
    "# –– Step #1\n",
    "def convert_sentences(X):\n",
    "    return [sentence.split(' ') for sentence in X]\n",
    "\n",
    "X_train_words = convert_sentences(X_train)\n",
    "X_test_words = convert_sentences(X_test)"
   ]
  },
  {
   "cell_type": "code",
   "execution_count": 24,
   "metadata": {},
   "outputs": [],
   "source": [
    "# –– Step #2\n",
    "from gensim.models import Word2Vec\n",
    "word2vec = Word2Vec(sentences=X_train, size=200, min_count=1, window=5)"
   ]
  },
  {
   "cell_type": "code",
   "execution_count": 25,
   "metadata": {},
   "outputs": [],
   "source": [
    "# –– Step #3\n",
    "def embed_sentence(word2vec, sentence):\n",
    "    embedded_sentence = []\n",
    "    for word in sentence:\n",
    "        if word in word2vec.wv:\n",
    "            embedded_sentence.append(word2vec.wv[word])\n",
    "        \n",
    "    return np.array(embedded_sentence)"
   ]
  },
  {
   "cell_type": "code",
   "execution_count": 26,
   "metadata": {},
   "outputs": [],
   "source": [
    "def embedding(word2vec, sentences):\n",
    "    embed = []\n",
    "    \n",
    "    for sentence in sentences:\n",
    "        embedded_sentence = embed_sentence(word2vec, sentence)\n",
    "        embed.append(embedded_sentence)\n",
    "        \n",
    "    return embed"
   ]
  },
  {
   "cell_type": "code",
   "execution_count": 27,
   "metadata": {},
   "outputs": [],
   "source": [
    "X_train_embed = embedding(word2vec, X_train_words)\n",
    "X_test_embed = embedding(word2vec, X_test_words)"
   ]
  },
  {
   "cell_type": "markdown",
   "metadata": {},
   "source": [
    "## padding"
   ]
  },
  {
   "cell_type": "code",
   "execution_count": 28,
   "metadata": {},
   "outputs": [],
   "source": [
    "from tensorflow.keras.preprocessing.sequence import pad_sequences\n",
    "\n",
    "X_train_pad = pad_sequences(X_train_embed, dtype='float32', padding='post')\n",
    "X_test_pad = pad_sequences(X_test_embed, dtype='float32', padding='post')"
   ]
  },
  {
   "cell_type": "code",
   "execution_count": 29,
   "metadata": {},
   "outputs": [
    {
     "data": {
      "text/plain": [
       "(6000, 53, 200)"
      ]
     },
     "execution_count": 29,
     "metadata": {},
     "output_type": "execute_result"
    }
   ],
   "source": [
    "X_train_pad.shape"
   ]
  },
  {
   "cell_type": "markdown",
   "metadata": {},
   "source": [
    "## Model"
   ]
  },
  {
   "cell_type": "code",
   "execution_count": 31,
   "metadata": {},
   "outputs": [],
   "source": [
    "from tensorflow.keras import Sequential\n",
    "from tensorflow.keras import layers\n",
    "\n",
    "def init_model():\n",
    "    model = Sequential()\n",
    "    model.add(layers.Masking())\n",
    "    model.add(layers.LSTM(20, activation='tanh'))\n",
    "    model.add(layers.Dense(15, activation='relu'))\n",
    "    model.add(layers.Dense(45, activation='relu'))\n",
    "    model.add(layers.Dense(9, activation='softmax'))\n",
    "\n",
    "    model.compile(loss='categorical_crossentropy',\n",
    "                  optimizer='adam',\n",
    "                  metrics=['accuracy'])\n",
    "    \n",
    "    return model\n",
    "\n",
    "model = init_model()"
   ]
  },
  {
   "cell_type": "code",
   "execution_count": 33,
   "metadata": {},
   "outputs": [
    {
     "name": "stdout",
     "output_type": "stream",
     "text": [
      "Epoch 1/100\n",
      "132/132 [==============================] - 5s 35ms/step - loss: 2.1616 - accuracy: 0.1448 - val_loss: 2.1650 - val_accuracy: 0.1328\n",
      "Epoch 2/100\n",
      "132/132 [==============================] - 4s 31ms/step - loss: 2.1588 - accuracy: 0.1512 - val_loss: 2.1653 - val_accuracy: 0.1378\n",
      "Epoch 3/100\n",
      "132/132 [==============================] - 4s 31ms/step - loss: 2.1577 - accuracy: 0.1464 - val_loss: 2.1642 - val_accuracy: 0.1456\n",
      "Epoch 4/100\n",
      "132/132 [==============================] - 4s 31ms/step - loss: 2.1560 - accuracy: 0.1469 - val_loss: 2.1680 - val_accuracy: 0.1433\n",
      "Epoch 5/100\n",
      "132/132 [==============================] - 4s 31ms/step - loss: 2.1562 - accuracy: 0.1486 - val_loss: 2.1640 - val_accuracy: 0.1294\n",
      "Epoch 6/100\n",
      "132/132 [==============================] - 4s 31ms/step - loss: 2.1530 - accuracy: 0.1552 - val_loss: 2.1666 - val_accuracy: 0.1439\n",
      "Epoch 7/100\n",
      "132/132 [==============================] - 4s 31ms/step - loss: 2.1509 - accuracy: 0.1505 - val_loss: 2.1661 - val_accuracy: 0.1411\n",
      "Epoch 8/100\n",
      "132/132 [==============================] - 4s 31ms/step - loss: 2.1491 - accuracy: 0.1538 - val_loss: 2.1679 - val_accuracy: 0.1467\n",
      "Epoch 9/100\n",
      "132/132 [==============================] - 4s 31ms/step - loss: 2.1472 - accuracy: 0.1533 - val_loss: 2.1716 - val_accuracy: 0.1422\n",
      "Epoch 10/100\n",
      "132/132 [==============================] - 5s 41ms/step - loss: 2.1460 - accuracy: 0.1555 - val_loss: 2.1680 - val_accuracy: 0.1428\n"
     ]
    }
   ],
   "source": [
    "X_train_pad_short = X_train_pad[:500] # These two lines are just to accelerate the cell run\n",
    "y_train_short = y_train[:500]\n",
    "\n",
    "from tensorflow.keras.callbacks import EarlyStopping\n",
    "\n",
    "es = EarlyStopping(patience=5, restore_best_weights=True)\n",
    "\n",
    "history = model.fit(X_train_pad, y_train, \n",
    "          batch_size = 32,\n",
    "          epochs=100,\n",
    "          validation_split=0.3,\n",
    "          callbacks=[es]\n",
    "         )"
   ]
  },
  {
   "cell_type": "code",
   "execution_count": 36,
   "metadata": {},
   "outputs": [],
   "source": [
    "res = model.evaluate(X_test_pad, y_test, verbose=0)\n",
    "res"
   ]
  },
  {
   "cell_type": "markdown",
   "metadata": {},
   "source": [
    "## Prediction"
   ]
  },
  {
   "cell_type": "code",
   "execution_count": 46,
   "metadata": {},
   "outputs": [],
   "source": [
    "sentence1 = \"While am generally happy with their service, there is a push to take a considerable discount for a reservation that does not allow cancellations. The standard undiscounted price is about the same as booking directly with the option of cancellations. Using Booking.com is merely a convenience. The discount for forgoing cancellation needs to be comared with the cost of cancellation insurance. Even if one can't use the reservation because of government restrictions the hotels sock it to the customer for far more than their out of pocket costs since at worst they don't have to service the rooms and at best can re-rent them. Bottom line: Don't be taken in by Booking.com's apparently cheap nonrefundable offers.\"\n",
    "sentence2 = \"Great vacation until we tried to travel home. We tried calling and waited more than 2 hours for a callback and then they were unable/unwilling to help us. Stranded for 48 hours because of this company with no help rebooking flights. We are out for hotel, food, and time off work because I was hung up on repeatedly by their customer service department. Once I was finally home, they told me there's nothing they can do for me that they were really sorry all this happened. They were unwilling to make it right, but told me that I could have requested a refund for my flight home if I would have been able to reach them at the time.\""
   ]
  },
  {
   "cell_type": "code",
   "execution_count": 47,
   "metadata": {},
   "outputs": [],
   "source": [
    "lst = [sentence1, sentence2]"
   ]
  },
  {
   "cell_type": "code",
   "execution_count": 48,
   "metadata": {},
   "outputs": [],
   "source": [
    "## convert into tokens\n",
    "tokens = convert_sentences(lst)\n",
    "\n",
    "## convert tokens into vectors\n",
    "vectors = embedding(word2vec, tokens)\n",
    "\n",
    "## padding the vectors\n",
    "vectors_padding = pad_sequences(pred2, dtype='float32', padding='post')\n",
    "\n",
    "## predict\n",
    "prediction = model.predict(vectors_padding)\n",
    "\n",
    "prediction"
   ]
  }
 ],
 "metadata": {
  "kernelspec": {
   "display_name": "Python 3",
   "language": "python",
   "name": "python3"
  },
  "language_info": {
   "codemirror_mode": {
    "name": "ipython",
    "version": 3
   },
   "file_extension": ".py",
   "mimetype": "text/x-python",
   "name": "python",
   "nbconvert_exporter": "python",
   "pygments_lexer": "ipython3",
   "version": "3.8.6"
  }
 },
 "nbformat": 4,
 "nbformat_minor": 4
}
